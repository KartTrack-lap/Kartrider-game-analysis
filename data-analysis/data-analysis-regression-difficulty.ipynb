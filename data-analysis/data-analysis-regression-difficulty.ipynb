{
 "cells": [
  {
   "cell_type": "code",
   "execution_count": 1,
   "id": "fe74d86d",
   "metadata": {},
   "outputs": [],
   "source": [
    "import pandas as pd\n",
    "import matplotlib.pyplot as plt\n",
    "import numpy as np\n",
    "import seaborn as sns\n",
    "from matplotlib import rc # 폰트\n",
    "#한글폰트 적용-----------------------------\n",
    "from matplotlib import font_manager, rc\n",
    "plt.rc('font', family='Malgun Gothic')\n",
    "#-----------------------------------------\n",
    "\n",
    "\n",
    "from datetime import datetime\n",
    "import time\n",
    "from datetime import timedelta\n",
    "import warnings\n",
    "warnings.filterwarnings('ignore')\n",
    "from statsmodels.formula.api import ols\n",
    "import statsmodels.api as sm\n",
    "from statsmodels.stats.outliers_influence import variance_inflation_factor\n",
    "# datetime.strptime(start_date, '%Y-%m-%d %H:%M:%S')\n",
    "\n",
    "path = 'C:\\\\Users\\\\USER\\\\'"
   ]
  },
  {
   "cell_type": "markdown",
   "id": "f1cf4773",
   "metadata": {},
   "source": [
    "# 종속변수 difficulty(난이도)"
   ]
  },
  {
   "cell_type": "markdown",
   "id": "7b3d243e",
   "metadata": {},
   "source": [
    "## 데이터 import"
   ]
  },
  {
   "cell_type": "code",
   "execution_count": 2,
   "id": "3b192a2a",
   "metadata": {},
   "outputs": [],
   "source": [
    "#데이터 import\n",
    "track=pd.read_csv(path+'data\\\\track.csv')\n",
    "track_curve=pd.read_csv(path+'data\\\\track_curve.csv')\n",
    "track_obstacle=pd.read_csv(path+'data\\\\track_obstacle.csv')\n",
    "track_road=pd.read_csv(path+'data\\\\track_road.csv')\n",
    "track_shortcut=pd.read_csv(path+'data\\\\track_shortcut.csv')\n",
    "track_straight=pd.read_csv(path+'data\\\\track_straight.csv')\n",
    "track_trigger=pd.read_csv(path+'data\\\\track_trigger.csv')\n",
    "match_indicator=pd.read_csv(path+'api\\\\match-indicator-extraction.csv', encoding='cp949')\n",
    "track_curve['all_section']=track_curve['hairpin']+track_curve['acute']+track_curve['obtuse']"
   ]
  },
  {
   "cell_type": "code",
   "execution_count": 3,
   "id": "0c33a5fb",
   "metadata": {},
   "outputs": [],
   "source": [
    "#이름 설정 및 데이터 타입 변경\n",
    "track_straight=pd.concat([track_straight.iloc[:, 0:1], track_straight.iloc[:, 1:].add_prefix('straight_')], axis=1)\n",
    "track_curve=pd.concat([track_curve.iloc[:, 0:1], track_curve.iloc[:, 1:].add_prefix('curve_')], axis=1)\n",
    "track_obstacle=pd.concat([track_obstacle.iloc[:, 0:1], track_obstacle.iloc[:, 1:].add_prefix('obstacle_')], axis=1)\n",
    "track_trigger=pd.concat([track_trigger.iloc[:, 0:1], track_trigger.iloc[:, 1:].add_prefix('trigger_')], axis=1)\n",
    "track_shortcut=pd.concat([track_shortcut.iloc[:, 0:1], track_shortcut.iloc[:, 1:].add_prefix('shortcut_')], axis=1)\n",
    "track.rename(columns={'id':'track_id', 'name':'track_name'},inplace=True)\n",
    "track['date']=pd.to_datetime(track['release_date'])\n",
    "track['year']=track['date'].dt.year.astype(int)\n",
    "track['month']=track['date'].dt.month.astype(int)\n",
    "track.drop(['date', 'release_date'], axis=1, inplace=True)\n",
    "match_indicator=match_indicator.iloc[:, 1:]"
   ]
  },
  {
   "cell_type": "markdown",
   "id": "ff3cf137",
   "metadata": {},
   "source": [
    "## 데이터 merge"
   ]
  },
  {
   "cell_type": "code",
   "execution_count": 4,
   "id": "9a9bb7de",
   "metadata": {},
   "outputs": [],
   "source": [
    "final_df=pd.merge(track, match_indicator, how='left', on='track_id')\n",
    "final_df=pd.merge(final_df, track_straight, how='left', on='track_id')\n",
    "final_df=pd.merge(final_df, track_trigger, how='left', on='track_id')\n",
    "final_df=pd.merge(final_df, track_curve, how='left', on='track_id')\n",
    "final_df=pd.merge(final_df, track_shortcut, how='left', on='track_id')\n",
    "final_df=pd.merge(final_df, track_obstacle, how='left', on='track_id')\n",
    "final_df['sum_straight_curve']=final_df['straight_all_section']+final_df['curve_all_section']\n",
    "tmp1=final_df.sort_values(by='cnt_match', ascending=False)[:44]\n",
    "tmp2=final_df.sort_values(by='cnt_match', ascending=False)[44:]\n",
    "tmp1['track_upper']=1\n",
    "tmp2['track_upper']=0\n",
    "final_df=pd.concat([tmp1, tmp2])\n",
    "final_df.sort_index(inplace=True)\n",
    "final_df=pd.merge(final_df, track_road, how='left', on='track_id')\n",
    "final_df.drop('track_id', axis=1, inplace=True)"
   ]
  },
  {
   "cell_type": "code",
   "execution_count": 5,
   "id": "9e9180e0",
   "metadata": {},
   "outputs": [
    {
     "data": {
      "text/html": [
       "<div>\n",
       "<style scoped>\n",
       "    .dataframe tbody tr th:only-of-type {\n",
       "        vertical-align: middle;\n",
       "    }\n",
       "\n",
       "    .dataframe tbody tr th {\n",
       "        vertical-align: top;\n",
       "    }\n",
       "\n",
       "    .dataframe thead th {\n",
       "        text-align: right;\n",
       "    }\n",
       "</style>\n",
       "<table border=\"1\" class=\"dataframe\">\n",
       "  <thead>\n",
       "    <tr style=\"text-align: right;\">\n",
       "      <th></th>\n",
       "      <th>track_name</th>\n",
       "      <th>difficulty</th>\n",
       "      <th>lap</th>\n",
       "      <th>length</th>\n",
       "      <th>direction</th>\n",
       "      <th>theme</th>\n",
       "      <th>year</th>\n",
       "      <th>month</th>\n",
       "      <th>cnt_match</th>\n",
       "      <th>percent_retire</th>\n",
       "      <th>...</th>\n",
       "      <th>shortcut_right</th>\n",
       "      <th>shortcut_acute</th>\n",
       "      <th>shortcut_obtuse</th>\n",
       "      <th>shortcut_special</th>\n",
       "      <th>obstacle_fixed</th>\n",
       "      <th>obstacle_moved</th>\n",
       "      <th>sum_straight_curve</th>\n",
       "      <th>track_upper</th>\n",
       "      <th>fence_exist</th>\n",
       "      <th>mean_road_level</th>\n",
       "    </tr>\n",
       "  </thead>\n",
       "  <tbody>\n",
       "    <tr>\n",
       "      <th>0</th>\n",
       "      <td>트랙 9</td>\n",
       "      <td>2</td>\n",
       "      <td>1</td>\n",
       "      <td>3.5</td>\n",
       "      <td>단선형</td>\n",
       "      <td>해변</td>\n",
       "      <td>2013</td>\n",
       "      <td>8</td>\n",
       "      <td>7067</td>\n",
       "      <td>20.8078</td>\n",
       "      <td>...</td>\n",
       "      <td>0</td>\n",
       "      <td>0</td>\n",
       "      <td>0</td>\n",
       "      <td>0</td>\n",
       "      <td>0</td>\n",
       "      <td>0</td>\n",
       "      <td>18.0</td>\n",
       "      <td>1</td>\n",
       "      <td>0</td>\n",
       "      <td>1</td>\n",
       "    </tr>\n",
       "    <tr>\n",
       "      <th>1</th>\n",
       "      <td>코리아 제주 해오름 다운힐</td>\n",
       "      <td>2</td>\n",
       "      <td>1</td>\n",
       "      <td>5.6</td>\n",
       "      <td>단선형</td>\n",
       "      <td>코리아</td>\n",
       "      <td>2021</td>\n",
       "      <td>8</td>\n",
       "      <td>4183</td>\n",
       "      <td>21.5840</td>\n",
       "      <td>...</td>\n",
       "      <td>0</td>\n",
       "      <td>1</td>\n",
       "      <td>0</td>\n",
       "      <td>0</td>\n",
       "      <td>1</td>\n",
       "      <td>1</td>\n",
       "      <td>44.0</td>\n",
       "      <td>1</td>\n",
       "      <td>0</td>\n",
       "      <td>1</td>\n",
       "    </tr>\n",
       "    <tr>\n",
       "      <th>2</th>\n",
       "      <td>월드 뉴욕 대질주</td>\n",
       "      <td>3</td>\n",
       "      <td>1</td>\n",
       "      <td>6.9</td>\n",
       "      <td>단선형</td>\n",
       "      <td>월드</td>\n",
       "      <td>2015</td>\n",
       "      <td>12</td>\n",
       "      <td>1085</td>\n",
       "      <td>27.1801</td>\n",
       "      <td>...</td>\n",
       "      <td>0</td>\n",
       "      <td>1</td>\n",
       "      <td>0</td>\n",
       "      <td>0</td>\n",
       "      <td>15</td>\n",
       "      <td>0</td>\n",
       "      <td>59.0</td>\n",
       "      <td>1</td>\n",
       "      <td>1</td>\n",
       "      <td>1</td>\n",
       "    </tr>\n",
       "    <tr>\n",
       "      <th>3</th>\n",
       "      <td>월드 리오 다운힐</td>\n",
       "      <td>2</td>\n",
       "      <td>1</td>\n",
       "      <td>5.7</td>\n",
       "      <td>단선형</td>\n",
       "      <td>월드</td>\n",
       "      <td>2015</td>\n",
       "      <td>12</td>\n",
       "      <td>978</td>\n",
       "      <td>22.3251</td>\n",
       "      <td>...</td>\n",
       "      <td>0</td>\n",
       "      <td>1</td>\n",
       "      <td>1</td>\n",
       "      <td>0</td>\n",
       "      <td>8</td>\n",
       "      <td>0</td>\n",
       "      <td>44.5</td>\n",
       "      <td>1</td>\n",
       "      <td>0</td>\n",
       "      <td>2</td>\n",
       "    </tr>\n",
       "    <tr>\n",
       "      <th>4</th>\n",
       "      <td>신화 신들의 세계</td>\n",
       "      <td>3</td>\n",
       "      <td>1</td>\n",
       "      <td>6.9</td>\n",
       "      <td>워프형</td>\n",
       "      <td>신화</td>\n",
       "      <td>2018</td>\n",
       "      <td>12</td>\n",
       "      <td>821</td>\n",
       "      <td>19.4186</td>\n",
       "      <td>...</td>\n",
       "      <td>0</td>\n",
       "      <td>0</td>\n",
       "      <td>0</td>\n",
       "      <td>0</td>\n",
       "      <td>0</td>\n",
       "      <td>1</td>\n",
       "      <td>63.0</td>\n",
       "      <td>1</td>\n",
       "      <td>0</td>\n",
       "      <td>1</td>\n",
       "    </tr>\n",
       "  </tbody>\n",
       "</table>\n",
       "<p>5 rows × 36 columns</p>\n",
       "</div>"
      ],
      "text/plain": [
       "       track_name  difficulty  lap  length direction theme  year  month  \\\n",
       "0            트랙 9           2    1     3.5       단선형    해변  2013      8   \n",
       "1  코리아 제주 해오름 다운힐           2    1     5.6       단선형   코리아  2021      8   \n",
       "2       월드 뉴욕 대질주           3    1     6.9       단선형    월드  2015     12   \n",
       "3       월드 리오 다운힐           2    1     5.7       단선형    월드  2015     12   \n",
       "4       신화 신들의 세계           3    1     6.9       워프형    신화  2018     12   \n",
       "\n",
       "   cnt_match  percent_retire  ...  shortcut_right  shortcut_acute  \\\n",
       "0       7067         20.8078  ...               0               0   \n",
       "1       4183         21.5840  ...               0               1   \n",
       "2       1085         27.1801  ...               0               1   \n",
       "3        978         22.3251  ...               0               1   \n",
       "4        821         19.4186  ...               0               0   \n",
       "\n",
       "   shortcut_obtuse  shortcut_special  obstacle_fixed  obstacle_moved  \\\n",
       "0                0                 0               0               0   \n",
       "1                0                 0               1               1   \n",
       "2                0                 0              15               0   \n",
       "3                1                 0               8               0   \n",
       "4                0                 0               0               1   \n",
       "\n",
       "   sum_straight_curve  track_upper  fence_exist  mean_road_level  \n",
       "0                18.0            1            0                1  \n",
       "1                44.0            1            0                1  \n",
       "2                59.0            1            1                1  \n",
       "3                44.5            1            0                2  \n",
       "4                63.0            1            0                1  \n",
       "\n",
       "[5 rows x 36 columns]"
      ]
     },
     "execution_count": 5,
     "metadata": {},
     "output_type": "execute_result"
    }
   ],
   "source": [
    "final_df.head()"
   ]
  },
  {
   "cell_type": "code",
   "execution_count": 6,
   "id": "8ab4b4e5",
   "metadata": {},
   "outputs": [
    {
     "data": {
      "text/html": [
       "<div>\n",
       "<style scoped>\n",
       "    .dataframe tbody tr th:only-of-type {\n",
       "        vertical-align: middle;\n",
       "    }\n",
       "\n",
       "    .dataframe tbody tr th {\n",
       "        vertical-align: top;\n",
       "    }\n",
       "\n",
       "    .dataframe thead th {\n",
       "        text-align: right;\n",
       "    }\n",
       "</style>\n",
       "<table border=\"1\" class=\"dataframe\">\n",
       "  <thead>\n",
       "    <tr style=\"text-align: right;\">\n",
       "      <th></th>\n",
       "      <th>difficulty</th>\n",
       "      <th>lap</th>\n",
       "      <th>length</th>\n",
       "      <th>year</th>\n",
       "      <th>month</th>\n",
       "      <th>cnt_match</th>\n",
       "      <th>percent_retire</th>\n",
       "      <th>AVG_record</th>\n",
       "      <th>straight_jump</th>\n",
       "      <th>straight_uphill</th>\n",
       "      <th>...</th>\n",
       "      <th>shortcut_right</th>\n",
       "      <th>shortcut_acute</th>\n",
       "      <th>shortcut_obtuse</th>\n",
       "      <th>shortcut_special</th>\n",
       "      <th>obstacle_fixed</th>\n",
       "      <th>obstacle_moved</th>\n",
       "      <th>sum_straight_curve</th>\n",
       "      <th>track_upper</th>\n",
       "      <th>fence_exist</th>\n",
       "      <th>mean_road_level</th>\n",
       "    </tr>\n",
       "  </thead>\n",
       "  <tbody>\n",
       "    <tr>\n",
       "      <th>count</th>\n",
       "      <td>88.000000</td>\n",
       "      <td>88.000000</td>\n",
       "      <td>88.000000</td>\n",
       "      <td>88.000000</td>\n",
       "      <td>88.000000</td>\n",
       "      <td>88.000000</td>\n",
       "      <td>88.000000</td>\n",
       "      <td>88.000000</td>\n",
       "      <td>88.000000</td>\n",
       "      <td>88.000000</td>\n",
       "      <td>...</td>\n",
       "      <td>88.000000</td>\n",
       "      <td>88.000000</td>\n",
       "      <td>88.000000</td>\n",
       "      <td>88.000000</td>\n",
       "      <td>88.000000</td>\n",
       "      <td>88.000000</td>\n",
       "      <td>88.000000</td>\n",
       "      <td>88.000000</td>\n",
       "      <td>88.000000</td>\n",
       "      <td>88.000000</td>\n",
       "    </tr>\n",
       "    <tr>\n",
       "      <th>mean</th>\n",
       "      <td>2.590909</td>\n",
       "      <td>2.261364</td>\n",
       "      <td>7.296591</td>\n",
       "      <td>2012.500000</td>\n",
       "      <td>7.795455</td>\n",
       "      <td>753.215909</td>\n",
       "      <td>27.586106</td>\n",
       "      <td>122979.385492</td>\n",
       "      <td>0.409091</td>\n",
       "      <td>6.204545</td>\n",
       "      <td>...</td>\n",
       "      <td>0.784091</td>\n",
       "      <td>0.534091</td>\n",
       "      <td>0.159091</td>\n",
       "      <td>0.409091</td>\n",
       "      <td>5.113636</td>\n",
       "      <td>0.840909</td>\n",
       "      <td>96.539773</td>\n",
       "      <td>0.500000</td>\n",
       "      <td>0.420455</td>\n",
       "      <td>1.352273</td>\n",
       "    </tr>\n",
       "    <tr>\n",
       "      <th>std</th>\n",
       "      <td>1.120718</td>\n",
       "      <td>0.702938</td>\n",
       "      <td>2.293341</td>\n",
       "      <td>5.785436</td>\n",
       "      <td>3.107866</td>\n",
       "      <td>1500.935467</td>\n",
       "      <td>12.823972</td>\n",
       "      <td>49936.491163</td>\n",
       "      <td>1.035423</td>\n",
       "      <td>5.571188</td>\n",
       "      <td>...</td>\n",
       "      <td>1.956121</td>\n",
       "      <td>1.113644</td>\n",
       "      <td>0.842634</td>\n",
       "      <td>0.954558</td>\n",
       "      <td>5.635340</td>\n",
       "      <td>2.164958</td>\n",
       "      <td>29.054173</td>\n",
       "      <td>0.502865</td>\n",
       "      <td>0.496461</td>\n",
       "      <td>0.526095</td>\n",
       "    </tr>\n",
       "    <tr>\n",
       "      <th>min</th>\n",
       "      <td>1.000000</td>\n",
       "      <td>1.000000</td>\n",
       "      <td>1.500000</td>\n",
       "      <td>2004.000000</td>\n",
       "      <td>1.000000</td>\n",
       "      <td>29.000000</td>\n",
       "      <td>0.000000</td>\n",
       "      <td>51731.585020</td>\n",
       "      <td>0.000000</td>\n",
       "      <td>0.000000</td>\n",
       "      <td>...</td>\n",
       "      <td>0.000000</td>\n",
       "      <td>0.000000</td>\n",
       "      <td>0.000000</td>\n",
       "      <td>0.000000</td>\n",
       "      <td>0.000000</td>\n",
       "      <td>0.000000</td>\n",
       "      <td>18.000000</td>\n",
       "      <td>0.000000</td>\n",
       "      <td>0.000000</td>\n",
       "      <td>1.000000</td>\n",
       "    </tr>\n",
       "    <tr>\n",
       "      <th>25%</th>\n",
       "      <td>2.000000</td>\n",
       "      <td>2.000000</td>\n",
       "      <td>6.000000</td>\n",
       "      <td>2007.750000</td>\n",
       "      <td>6.000000</td>\n",
       "      <td>40.750000</td>\n",
       "      <td>19.943875</td>\n",
       "      <td>95568.672265</td>\n",
       "      <td>0.000000</td>\n",
       "      <td>2.000000</td>\n",
       "      <td>...</td>\n",
       "      <td>0.000000</td>\n",
       "      <td>0.000000</td>\n",
       "      <td>0.000000</td>\n",
       "      <td>0.000000</td>\n",
       "      <td>0.000000</td>\n",
       "      <td>0.000000</td>\n",
       "      <td>80.000000</td>\n",
       "      <td>0.000000</td>\n",
       "      <td>0.000000</td>\n",
       "      <td>1.000000</td>\n",
       "    </tr>\n",
       "    <tr>\n",
       "      <th>50%</th>\n",
       "      <td>2.000000</td>\n",
       "      <td>2.000000</td>\n",
       "      <td>6.900000</td>\n",
       "      <td>2012.500000</td>\n",
       "      <td>7.000000</td>\n",
       "      <td>275.000000</td>\n",
       "      <td>27.093800</td>\n",
       "      <td>113619.425000</td>\n",
       "      <td>0.000000</td>\n",
       "      <td>6.000000</td>\n",
       "      <td>...</td>\n",
       "      <td>0.000000</td>\n",
       "      <td>0.000000</td>\n",
       "      <td>0.000000</td>\n",
       "      <td>0.000000</td>\n",
       "      <td>4.000000</td>\n",
       "      <td>0.000000</td>\n",
       "      <td>92.000000</td>\n",
       "      <td>0.500000</td>\n",
       "      <td>0.000000</td>\n",
       "      <td>1.000000</td>\n",
       "    </tr>\n",
       "    <tr>\n",
       "      <th>75%</th>\n",
       "      <td>3.000000</td>\n",
       "      <td>3.000000</td>\n",
       "      <td>8.425000</td>\n",
       "      <td>2017.250000</td>\n",
       "      <td>11.000000</td>\n",
       "      <td>825.750000</td>\n",
       "      <td>34.486850</td>\n",
       "      <td>135899.756675</td>\n",
       "      <td>0.000000</td>\n",
       "      <td>8.250000</td>\n",
       "      <td>...</td>\n",
       "      <td>0.000000</td>\n",
       "      <td>0.250000</td>\n",
       "      <td>0.000000</td>\n",
       "      <td>0.000000</td>\n",
       "      <td>6.000000</td>\n",
       "      <td>0.000000</td>\n",
       "      <td>113.000000</td>\n",
       "      <td>1.000000</td>\n",
       "      <td>1.000000</td>\n",
       "      <td>2.000000</td>\n",
       "    </tr>\n",
       "    <tr>\n",
       "      <th>max</th>\n",
       "      <td>6.000000</td>\n",
       "      <td>3.000000</td>\n",
       "      <td>17.100000</td>\n",
       "      <td>2022.000000</td>\n",
       "      <td>12.000000</td>\n",
       "      <td>10325.000000</td>\n",
       "      <td>65.104700</td>\n",
       "      <td>373421.855600</td>\n",
       "      <td>4.000000</td>\n",
       "      <td>28.000000</td>\n",
       "      <td>...</td>\n",
       "      <td>12.000000</td>\n",
       "      <td>6.000000</td>\n",
       "      <td>7.000000</td>\n",
       "      <td>4.000000</td>\n",
       "      <td>30.000000</td>\n",
       "      <td>12.000000</td>\n",
       "      <td>211.500000</td>\n",
       "      <td>1.000000</td>\n",
       "      <td>1.000000</td>\n",
       "      <td>3.000000</td>\n",
       "    </tr>\n",
       "  </tbody>\n",
       "</table>\n",
       "<p>8 rows × 33 columns</p>\n",
       "</div>"
      ],
      "text/plain": [
       "       difficulty        lap     length         year      month     cnt_match  \\\n",
       "count   88.000000  88.000000  88.000000    88.000000  88.000000     88.000000   \n",
       "mean     2.590909   2.261364   7.296591  2012.500000   7.795455    753.215909   \n",
       "std      1.120718   0.702938   2.293341     5.785436   3.107866   1500.935467   \n",
       "min      1.000000   1.000000   1.500000  2004.000000   1.000000     29.000000   \n",
       "25%      2.000000   2.000000   6.000000  2007.750000   6.000000     40.750000   \n",
       "50%      2.000000   2.000000   6.900000  2012.500000   7.000000    275.000000   \n",
       "75%      3.000000   3.000000   8.425000  2017.250000  11.000000    825.750000   \n",
       "max      6.000000   3.000000  17.100000  2022.000000  12.000000  10325.000000   \n",
       "\n",
       "       percent_retire     AVG_record  straight_jump  straight_uphill  ...  \\\n",
       "count       88.000000      88.000000      88.000000        88.000000  ...   \n",
       "mean        27.586106  122979.385492       0.409091         6.204545  ...   \n",
       "std         12.823972   49936.491163       1.035423         5.571188  ...   \n",
       "min          0.000000   51731.585020       0.000000         0.000000  ...   \n",
       "25%         19.943875   95568.672265       0.000000         2.000000  ...   \n",
       "50%         27.093800  113619.425000       0.000000         6.000000  ...   \n",
       "75%         34.486850  135899.756675       0.000000         8.250000  ...   \n",
       "max         65.104700  373421.855600       4.000000        28.000000  ...   \n",
       "\n",
       "       shortcut_right  shortcut_acute  shortcut_obtuse  shortcut_special  \\\n",
       "count       88.000000       88.000000        88.000000         88.000000   \n",
       "mean         0.784091        0.534091         0.159091          0.409091   \n",
       "std          1.956121        1.113644         0.842634          0.954558   \n",
       "min          0.000000        0.000000         0.000000          0.000000   \n",
       "25%          0.000000        0.000000         0.000000          0.000000   \n",
       "50%          0.000000        0.000000         0.000000          0.000000   \n",
       "75%          0.000000        0.250000         0.000000          0.000000   \n",
       "max         12.000000        6.000000         7.000000          4.000000   \n",
       "\n",
       "       obstacle_fixed  obstacle_moved  sum_straight_curve  track_upper  \\\n",
       "count       88.000000       88.000000           88.000000    88.000000   \n",
       "mean         5.113636        0.840909           96.539773     0.500000   \n",
       "std          5.635340        2.164958           29.054173     0.502865   \n",
       "min          0.000000        0.000000           18.000000     0.000000   \n",
       "25%          0.000000        0.000000           80.000000     0.000000   \n",
       "50%          4.000000        0.000000           92.000000     0.500000   \n",
       "75%          6.000000        0.000000          113.000000     1.000000   \n",
       "max         30.000000       12.000000          211.500000     1.000000   \n",
       "\n",
       "       fence_exist  mean_road_level  \n",
       "count    88.000000        88.000000  \n",
       "mean      0.420455         1.352273  \n",
       "std       0.496461         0.526095  \n",
       "min       0.000000         1.000000  \n",
       "25%       0.000000         1.000000  \n",
       "50%       0.000000         1.000000  \n",
       "75%       1.000000         2.000000  \n",
       "max       1.000000         3.000000  \n",
       "\n",
       "[8 rows x 33 columns]"
      ]
     },
     "execution_count": 6,
     "metadata": {},
     "output_type": "execute_result"
    }
   ],
   "source": [
    "final_df.describe()"
   ]
  },
  {
   "cell_type": "markdown",
   "id": "04172448",
   "metadata": {},
   "source": [
    "## 파생변수 추가"
   ]
  },
  {
   "cell_type": "code",
   "execution_count": 7,
   "id": "93555c08",
   "metadata": {},
   "outputs": [],
   "source": [
    "# 파생변수 만들기\n",
    "\n",
    "# 1. 오르막 내리막\n",
    "\n",
    "final_df['updownhill'] = final_df['straight_uphill'] + final_df['straight_downhill']\n",
    "\n",
    "# 2. 직선구간 비율 (직선구간 / 전체구간)\n",
    "\n",
    "final_df['ratio_straight'] = final_df['straight_all_section'] / final_df['sum_straight_curve']\n",
    "\n",
    "# 2. 곡선구간 비율 (곡선구간 / 전체구간)\n",
    "\n",
    "final_df['ratio_curve'] = final_df['curve_all_section'] / final_df['sum_straight_curve']\n",
    "\n",
    "# 3. 헤어핀 비율\n",
    "\n",
    "final_df['ratio_hairpin'] = final_df['curve_hairpin'] / final_df['curve_all_section']\n",
    "\n",
    "# 4. 예각 비율\n",
    "\n",
    "final_df['ratio_acute'] = final_df['curve_acute'] / final_df['curve_all_section']\n",
    "\n",
    "# 5. 둔각 비율\n",
    "\n",
    "final_df['ratio_obtuse'] = final_df['curve_obtuse'] / final_df['curve_all_section']\n",
    "\n",
    "# 6. 직각 지름길 비율\n",
    "\n",
    "final_df['ratio_shortcut_right'] =  final_df['shortcut_right'] / (final_df['shortcut_right'] + final_df['shortcut_acute'] + final_df['shortcut_obtuse']+ final_df['shortcut_special'])\n",
    "\n",
    "# 7. 예각 지름길 비율\n",
    "\n",
    "final_df['ratio_shortcut_acute'] =  final_df['shortcut_acute'] /  (final_df['shortcut_right'] + final_df['shortcut_acute'] + final_df['shortcut_obtuse']+ final_df['shortcut_special'])\n",
    "\n",
    "# 8. 둔각 지름길 비율\n",
    "\n",
    "final_df['ratio_shortcut_obtuse'] =  final_df['shortcut_obtuse'] /  (final_df['shortcut_right'] + final_df['shortcut_acute'] + final_df['shortcut_obtuse']+ final_df['shortcut_special'])\n",
    "\n",
    "# 9. 특수 지름길 비율\n",
    "\n",
    "final_df['ratio_shortcut_special'] =  final_df['shortcut_special'] /  (final_df['shortcut_right'] + final_df['shortcut_acute'] + final_df['shortcut_obtuse']+ final_df['shortcut_special'])\n",
    "\n",
    "# 10. 장애물 개수\n",
    "\n",
    "final_df['obstacle'] = final_df['obstacle_fixed'] + final_df['obstacle_moved']\n",
    "\n",
    "# 11. 평균 속력\n",
    "\n",
    "final_df['speed'] = final_df['AVG_record'] / final_df['length']\n",
    "\n",
    "# 12. 지름길 개수\n",
    "\n",
    "final_df['shortcut'] = final_df['shortcut_right'] + final_df['shortcut_acute'] + final_df['shortcut_obtuse']+ final_df['shortcut_special']"
   ]
  },
  {
   "cell_type": "code",
   "execution_count": 8,
   "id": "09980a4e",
   "metadata": {},
   "outputs": [
    {
     "data": {
      "text/plain": [
       "track_name                  0\n",
       "difficulty                  0\n",
       "lap                         0\n",
       "length                      0\n",
       "direction                   0\n",
       "theme                       0\n",
       "year                        0\n",
       "month                       0\n",
       "cnt_match                   0\n",
       "percent_retire              0\n",
       "AVG_record                  0\n",
       "straight_jump               0\n",
       "straight_uphill             0\n",
       "straight_downhill           0\n",
       "straight_all_section        0\n",
       "trigger_accel               0\n",
       "trigger_warp                0\n",
       "trigger_decel               0\n",
       "trigger_jump                0\n",
       "curve_hairpin               0\n",
       "curve_acute                 0\n",
       "curve_obtuse                0\n",
       "curve_continuous            0\n",
       "curve_continuous_acute      0\n",
       "curve_continuous_obtuse     0\n",
       "curve_all_section           0\n",
       "shortcut_right              0\n",
       "shortcut_acute              0\n",
       "shortcut_obtuse             0\n",
       "shortcut_special            0\n",
       "obstacle_fixed              0\n",
       "obstacle_moved              0\n",
       "sum_straight_curve          0\n",
       "track_upper                 0\n",
       "fence_exist                 0\n",
       "mean_road_level             0\n",
       "updownhill                  0\n",
       "ratio_straight              0\n",
       "ratio_curve                 0\n",
       "ratio_hairpin               0\n",
       "ratio_acute                 0\n",
       "ratio_obtuse                0\n",
       "ratio_shortcut_right       48\n",
       "ratio_shortcut_acute       48\n",
       "ratio_shortcut_obtuse      48\n",
       "ratio_shortcut_special     48\n",
       "obstacle                    0\n",
       "speed                       0\n",
       "shortcut                    0\n",
       "dtype: int64"
      ]
     },
     "execution_count": 8,
     "metadata": {},
     "output_type": "execute_result"
    }
   ],
   "source": [
    "final_df.isnull().sum()"
   ]
  },
  {
   "cell_type": "code",
   "execution_count": 9,
   "id": "97f9e9fb",
   "metadata": {},
   "outputs": [],
   "source": [
    "final_df = final_df.fillna(0)"
   ]
  },
  {
   "cell_type": "markdown",
   "id": "f9c6f9bc",
   "metadata": {},
   "source": [
    "## 왜도 확인\n",
    "- 왜도가 -2~2사이에 있으면 정규분포를 만족한다고 본다. \n",
    "- 정규분포를 만족하지 않는 값은 log를 씌우는 것을 고려해보자."
   ]
  },
  {
   "cell_type": "code",
   "execution_count": 10,
   "id": "6fea2eb3",
   "metadata": {},
   "outputs": [
    {
     "data": {
      "text/plain": [
       "difficulty                 0.970351\n",
       "lap                       -0.415763\n",
       "length                     1.587628\n",
       "year                       0.055575\n",
       "month                     -0.098579\n",
       "cnt_match                  4.389513\n",
       "percent_retire             0.337072\n",
       "AVG_record                 2.567460\n",
       "straight_jump              2.410467\n",
       "straight_uphill            1.394785\n",
       "straight_downhill          1.159320\n",
       "straight_all_section       0.225244\n",
       "trigger_accel              4.418296\n",
       "trigger_warp               2.867280\n",
       "trigger_decel              1.210916\n",
       "trigger_jump               2.714076\n",
       "curve_hairpin              1.826973\n",
       "curve_acute                0.900958\n",
       "curve_obtuse               1.720740\n",
       "curve_continuous           2.017556\n",
       "curve_continuous_acute     1.949774\n",
       "curve_continuous_obtuse    2.543348\n",
       "curve_all_section          1.967247\n",
       "shortcut_right             3.459384\n",
       "shortcut_acute             2.492672\n",
       "shortcut_obtuse            6.883657\n",
       "shortcut_special           2.254017\n",
       "obstacle_fixed             1.895001\n",
       "obstacle_moved             3.200212\n",
       "sum_straight_curve         0.565578\n",
       "track_upper                0.000000\n",
       "fence_exist                0.327902\n",
       "mean_road_level            1.107033\n",
       "updownhill                 1.689004\n",
       "ratio_straight            -0.470985\n",
       "ratio_curve                0.470985\n",
       "ratio_hairpin              1.759375\n",
       "ratio_acute               -0.000462\n",
       "ratio_obtuse               0.437040\n",
       "ratio_shortcut_right       2.044264\n",
       "ratio_shortcut_acute       1.836121\n",
       "ratio_shortcut_obtuse      4.481893\n",
       "ratio_shortcut_special     2.391668\n",
       "obstacle                   1.688601\n",
       "speed                      3.333491\n",
       "shortcut                   1.777342\n",
       "dtype: float64"
      ]
     },
     "execution_count": 10,
     "metadata": {},
     "output_type": "execute_result"
    }
   ],
   "source": [
    "final_df.skew()"
   ]
  },
  {
   "cell_type": "markdown",
   "id": "a85146be",
   "metadata": {},
   "source": [
    "## 통계분석 (단순회귀)\n",
    "* ✨ 의미 : p-value 0.05 미만으로 유의미한 결과"
   ]
  },
  {
   "cell_type": "markdown",
   "id": "39306bf5",
   "metadata": {},
   "source": [
    "### ✨straight_jump : 점프 구간개수"
   ]
  },
  {
   "cell_type": "code",
   "execution_count": 12,
   "id": "06957fbd",
   "metadata": {},
   "outputs": [
    {
     "name": "stdout",
     "output_type": "stream",
     "text": [
      "                            OLS Regression Results                            \n",
      "==============================================================================\n",
      "Dep. Variable:             difficulty   R-squared:                       0.047\n",
      "Model:                            OLS   Adj. R-squared:                  0.036\n",
      "Method:                 Least Squares   F-statistic:                     4.267\n",
      "Date:                Fri, 25 Nov 2022   Prob (F-statistic):             0.0419\n",
      "Time:                        01:44:31   Log-Likelihood:                -132.26\n",
      "No. Observations:                  88   AIC:                             268.5\n",
      "Df Residuals:                      86   BIC:                             273.5\n",
      "Df Model:                           1                                         \n",
      "Covariance Type:            nonrobust                                         \n",
      "===========================================================================================\n",
      "                              coef    std err          t      P>|t|      [0.025      0.975]\n",
      "-------------------------------------------------------------------------------------------\n",
      "Intercept                   2.4915      0.127     19.653      0.000       2.239       2.744\n",
      "np.log1p(straight_jump)     0.5156      0.250      2.066      0.042       0.019       1.012\n",
      "==============================================================================\n",
      "Omnibus:                       11.022   Durbin-Watson:                   1.051\n",
      "Prob(Omnibus):                  0.004   Jarque-Bera (JB):               11.182\n",
      "Skew:                           0.811   Prob(JB):                      0.00373\n",
      "Kurtosis:                       3.647   Cond. No.                         2.23\n",
      "==============================================================================\n",
      "\n",
      "Notes:\n",
      "[1] Standard Errors assume that the covariance matrix of the errors is correctly specified.\n"
     ]
    }
   ],
   "source": [
    "# 로그o,수정 r제곱 0.036\n",
    "test = ols('difficulty ~ np.log1p(straight_jump)', data = final_df).fit().summary()\n",
    "print(test)"
   ]
  },
  {
   "cell_type": "code",
   "execution_count": 13,
   "id": "f29fb3da",
   "metadata": {},
   "outputs": [
    {
     "name": "stdout",
     "output_type": "stream",
     "text": [
      "                            OLS Regression Results                            \n",
      "==============================================================================\n",
      "Dep. Variable:             difficulty   R-squared:                       0.060\n",
      "Model:                            OLS   Adj. R-squared:                  0.049\n",
      "Method:                 Least Squares   F-statistic:                     5.488\n",
      "Date:                Fri, 25 Nov 2022   Prob (F-statistic):             0.0215\n",
      "Time:                        01:49:37   Log-Likelihood:                -131.67\n",
      "No. Observations:                  88   AIC:                             267.3\n",
      "Df Residuals:                      86   BIC:                             272.3\n",
      "Df Model:                           1                                         \n",
      "Covariance Type:            nonrobust                                         \n",
      "=================================================================================\n",
      "                    coef    std err          t      P>|t|      [0.025      0.975]\n",
      "---------------------------------------------------------------------------------\n",
      "Intercept         2.4825      0.125     19.802      0.000       2.233       2.732\n",
      "straight_jump     0.2651      0.113      2.343      0.021       0.040       0.490\n",
      "==============================================================================\n",
      "Omnibus:                       10.647   Durbin-Watson:                   1.076\n",
      "Prob(Omnibus):                  0.005   Jarque-Bera (JB):               10.704\n",
      "Skew:                           0.787   Prob(JB):                      0.00474\n",
      "Kurtosis:                       3.663   Cond. No.                         1.49\n",
      "==============================================================================\n",
      "\n",
      "Notes:\n",
      "[1] Standard Errors assume that the covariance matrix of the errors is correctly specified.\n"
     ]
    }
   ],
   "source": [
    "# 로그x,수정 r제곱 0.049\n",
    "test = ols('difficulty ~ straight_jump', data = final_df).fit().summary()\n",
    "print(test)"
   ]
  },
  {
   "cell_type": "markdown",
   "id": "a29df187",
   "metadata": {},
   "source": [
    "### ✨straight_uphill : 오르막길 개수"
   ]
  },
  {
   "cell_type": "code",
   "execution_count": 14,
   "id": "6a011eef",
   "metadata": {},
   "outputs": [
    {
     "name": "stdout",
     "output_type": "stream",
     "text": [
      "                            OLS Regression Results                            \n",
      "==============================================================================\n",
      "Dep. Variable:             difficulty   R-squared:                       0.080\n",
      "Model:                            OLS   Adj. R-squared:                  0.069\n",
      "Method:                 Least Squares   F-statistic:                     7.449\n",
      "Date:                Fri, 25 Nov 2022   Prob (F-statistic):            0.00770\n",
      "Time:                        01:49:39   Log-Likelihood:                -130.74\n",
      "No. Observations:                  88   AIC:                             265.5\n",
      "Df Residuals:                      86   BIC:                             270.4\n",
      "Df Model:                           1                                         \n",
      "Covariance Type:            nonrobust                                         \n",
      "===================================================================================\n",
      "                      coef    std err          t      P>|t|      [0.025      0.975]\n",
      "-----------------------------------------------------------------------------------\n",
      "Intercept           2.2385      0.173     12.933      0.000       1.894       2.583\n",
      "straight_uphill     0.0568      0.021      2.729      0.008       0.015       0.098\n",
      "==============================================================================\n",
      "Omnibus:                        4.370   Durbin-Watson:                   1.062\n",
      "Prob(Omnibus):                  0.112   Jarque-Bera (JB):                3.841\n",
      "Skew:                           0.504   Prob(JB):                        0.147\n",
      "Kurtosis:                       3.172   Cond. No.                         12.6\n",
      "==============================================================================\n",
      "\n",
      "Notes:\n",
      "[1] Standard Errors assume that the covariance matrix of the errors is correctly specified.\n"
     ]
    }
   ],
   "source": [
    "# 로그x, 수정 r제곱 0.069\n",
    "test = ols('difficulty ~ straight_uphill', data = final_df).fit().summary()\n",
    "print(test)"
   ]
  },
  {
   "cell_type": "code",
   "execution_count": 15,
   "id": "07df84f2",
   "metadata": {},
   "outputs": [
    {
     "name": "stdout",
     "output_type": "stream",
     "text": [
      "                            OLS Regression Results                            \n",
      "==============================================================================\n",
      "Dep. Variable:             difficulty   R-squared:                       0.015\n",
      "Model:                            OLS   Adj. R-squared:                  0.003\n",
      "Method:                 Least Squares   F-statistic:                     1.267\n",
      "Date:                Fri, 25 Nov 2022   Prob (F-statistic):              0.264\n",
      "Time:                        01:49:43   Log-Likelihood:                -133.75\n",
      "No. Observations:                  88   AIC:                             271.5\n",
      "Df Residuals:                      86   BIC:                             276.5\n",
      "Df Model:                           1                                         \n",
      "Covariance Type:            nonrobust                                         \n",
      "=============================================================================================\n",
      "                                coef    std err          t      P>|t|      [0.025      0.975]\n",
      "---------------------------------------------------------------------------------------------\n",
      "Intercept                     2.3512      0.244      9.630      0.000       1.866       2.837\n",
      "np.log1p(straight_uphill)     0.1470      0.131      1.125      0.264      -0.113       0.407\n",
      "==============================================================================\n",
      "Omnibus:                       10.200   Durbin-Watson:                   0.992\n",
      "Prob(Omnibus):                  0.006   Jarque-Bera (JB):               10.268\n",
      "Skew:                           0.807   Prob(JB):                      0.00589\n",
      "Kurtosis:                       3.439   Cond. No.                         4.71\n",
      "==============================================================================\n",
      "\n",
      "Notes:\n",
      "[1] Standard Errors assume that the covariance matrix of the errors is correctly specified.\n"
     ]
    }
   ],
   "source": [
    "#로그o, r제곱 0.003\n",
    "test = ols('difficulty ~ np.log1p(straight_uphill)', data = final_df).fit().summary()\n",
    "print(test)"
   ]
  },
  {
   "cell_type": "markdown",
   "id": "17e3b243",
   "metadata": {},
   "source": [
    "### ✨ straight_downhill: 내리막길 개수"
   ]
  },
  {
   "cell_type": "markdown",
   "id": "60e74518",
   "metadata": {},
   "source": [
    "-  난이도에 대한 설명력 17%"
   ]
  },
  {
   "cell_type": "code",
   "execution_count": 16,
   "id": "eda4baf3",
   "metadata": {},
   "outputs": [
    {
     "name": "stdout",
     "output_type": "stream",
     "text": [
      "                            OLS Regression Results                            \n",
      "==============================================================================\n",
      "Dep. Variable:             difficulty   R-squared:                       0.184\n",
      "Model:                            OLS   Adj. R-squared:                  0.174\n",
      "Method:                 Least Squares   F-statistic:                     19.38\n",
      "Date:                Fri, 25 Nov 2022   Prob (F-statistic):           3.07e-05\n",
      "Time:                        01:49:50   Log-Likelihood:                -125.45\n",
      "No. Observations:                  88   AIC:                             254.9\n",
      "Df Residuals:                      86   BIC:                             259.9\n",
      "Df Model:                           1                                         \n",
      "Covariance Type:            nonrobust                                         \n",
      "=====================================================================================\n",
      "                        coef    std err          t      P>|t|      [0.025      0.975]\n",
      "-------------------------------------------------------------------------------------\n",
      "Intercept             2.0063      0.172     11.696      0.000       1.665       2.347\n",
      "straight_downhill     0.0866      0.020      4.402      0.000       0.048       0.126\n",
      "==============================================================================\n",
      "Omnibus:                        3.336   Durbin-Watson:                   1.415\n",
      "Prob(Omnibus):                  0.189   Jarque-Bera (JB):                3.264\n",
      "Skew:                           0.424   Prob(JB):                        0.195\n",
      "Kurtosis:                       2.585   Cond. No.                         13.9\n",
      "==============================================================================\n",
      "\n",
      "Notes:\n",
      "[1] Standard Errors assume that the covariance matrix of the errors is correctly specified.\n"
     ]
    }
   ],
   "source": [
    "# 로그 x, 수정 r제곱 0.174\n",
    "test = ols('difficulty ~ straight_downhill', data = final_df).fit().summary()\n",
    "print(test)"
   ]
  },
  {
   "cell_type": "code",
   "execution_count": 17,
   "id": "46abfbf5",
   "metadata": {},
   "outputs": [
    {
     "name": "stdout",
     "output_type": "stream",
     "text": [
      "                            OLS Regression Results                            \n",
      "==============================================================================\n",
      "Dep. Variable:             difficulty   R-squared:                       0.105\n",
      "Model:                            OLS   Adj. R-squared:                  0.094\n",
      "Method:                 Least Squares   F-statistic:                     10.07\n",
      "Date:                Fri, 25 Nov 2022   Prob (F-statistic):            0.00210\n",
      "Time:                        01:49:53   Log-Likelihood:                -129.52\n",
      "No. Observations:                  88   AIC:                             263.0\n",
      "Df Residuals:                      86   BIC:                             268.0\n",
      "Df Model:                           1                                         \n",
      "Covariance Type:            nonrobust                                         \n",
      "===============================================================================================\n",
      "                                  coef    std err          t      P>|t|      [0.025      0.975]\n",
      "-----------------------------------------------------------------------------------------------\n",
      "Intercept                       1.8950      0.247      7.670      0.000       1.404       2.386\n",
      "np.log1p(straight_downhill)     0.4022      0.127      3.173      0.002       0.150       0.654\n",
      "==============================================================================\n",
      "Omnibus:                        5.854   Durbin-Watson:                   1.323\n",
      "Prob(Omnibus):                  0.054   Jarque-Bera (JB):                5.802\n",
      "Skew:                           0.628   Prob(JB):                       0.0550\n",
      "Kurtosis:                       2.936   Cond. No.                         5.16\n",
      "==============================================================================\n",
      "\n",
      "Notes:\n",
      "[1] Standard Errors assume that the covariance matrix of the errors is correctly specified.\n"
     ]
    }
   ],
   "source": [
    "# 로그 o, 수정 r제곱 0.094\n",
    "straight_jump_test = ols('difficulty ~ np.log1p(straight_downhill)', data = final_df).fit().summary()\n",
    "print(straight_jump_test)"
   ]
  },
  {
   "cell_type": "markdown",
   "id": "05d3bd6d",
   "metadata": {},
   "source": [
    "### ✨ updownhill : 오르막, 내리막수\n",
    "- final_df['straight_uphill'] + final_df['straight_downhill']"
   ]
  },
  {
   "cell_type": "code",
   "execution_count": 18,
   "id": "e76faf25",
   "metadata": {},
   "outputs": [
    {
     "name": "stdout",
     "output_type": "stream",
     "text": [
      "                            OLS Regression Results                            \n",
      "==============================================================================\n",
      "Dep. Variable:             difficulty   R-squared:                       0.196\n",
      "Model:                            OLS   Adj. R-squared:                  0.187\n",
      "Method:                 Least Squares   F-statistic:                     21.00\n",
      "Date:                Fri, 25 Nov 2022   Prob (F-statistic):           1.55e-05\n",
      "Time:                        01:49:58   Log-Likelihood:                -124.78\n",
      "No. Observations:                  88   AIC:                             253.6\n",
      "Df Residuals:                      86   BIC:                             258.5\n",
      "Df Model:                           1                                         \n",
      "Covariance Type:            nonrobust                                         \n",
      "==============================================================================\n",
      "                 coef    std err          t      P>|t|      [0.025      0.975]\n",
      "------------------------------------------------------------------------------\n",
      "Intercept      1.8701      0.191      9.808      0.000       1.491       2.249\n",
      "updownhill     0.0556      0.012      4.582      0.000       0.032       0.080\n",
      "==============================================================================\n",
      "Omnibus:                        1.348   Durbin-Watson:                   1.352\n",
      "Prob(Omnibus):                  0.510   Jarque-Bera (JB):                1.402\n",
      "Skew:                           0.276   Prob(JB):                        0.496\n",
      "Kurtosis:                       2.720   Cond. No.                         27.9\n",
      "==============================================================================\n",
      "\n",
      "Notes:\n",
      "[1] Standard Errors assume that the covariance matrix of the errors is correctly specified.\n"
     ]
    }
   ],
   "source": [
    "# 수정 r제곱 0.187\n",
    "test = ols('difficulty ~ updownhill', data = final_df).fit().summary()\n",
    "print(test)"
   ]
  },
  {
   "cell_type": "markdown",
   "id": "b0ba770e",
   "metadata": {},
   "source": [
    "### straight_all_section : 직선 구간 개수"
   ]
  },
  {
   "cell_type": "code",
   "execution_count": 19,
   "id": "8395d109",
   "metadata": {},
   "outputs": [
    {
     "name": "stdout",
     "output_type": "stream",
     "text": [
      "                            OLS Regression Results                            \n",
      "==============================================================================\n",
      "Dep. Variable:             difficulty   R-squared:                       0.042\n",
      "Model:                            OLS   Adj. R-squared:                  0.031\n",
      "Method:                 Least Squares   F-statistic:                     3.791\n",
      "Date:                Fri, 25 Nov 2022   Prob (F-statistic):             0.0548\n",
      "Time:                        01:50:01   Log-Likelihood:                -132.50\n",
      "No. Observations:                  88   AIC:                             269.0\n",
      "Df Residuals:                      86   BIC:                             273.9\n",
      "Df Model:                           1                                         \n",
      "Covariance Type:            nonrobust                                         \n",
      "========================================================================================\n",
      "                           coef    std err          t      P>|t|      [0.025      0.975]\n",
      "----------------------------------------------------------------------------------------\n",
      "Intercept                3.2095      0.339      9.474      0.000       2.536       3.883\n",
      "straight_all_section    -0.0094      0.005     -1.947      0.055      -0.019       0.000\n",
      "==============================================================================\n",
      "Omnibus:                       18.289   Durbin-Watson:                   1.028\n",
      "Prob(Omnibus):                  0.000   Jarque-Bera (JB):               22.094\n",
      "Skew:                           1.071   Prob(JB):                     1.59e-05\n",
      "Kurtosis:                       4.198   Cond. No.                         203.\n",
      "==============================================================================\n",
      "\n",
      "Notes:\n",
      "[1] Standard Errors assume that the covariance matrix of the errors is correctly specified.\n"
     ]
    }
   ],
   "source": [
    "# 유의미x\n",
    "straight_jump_test = ols('difficulty ~ straight_all_section', data = final_df).fit().summary()\n",
    "print(straight_jump_test)"
   ]
  },
  {
   "cell_type": "code",
   "execution_count": 20,
   "id": "6f9a7b05",
   "metadata": {},
   "outputs": [
    {
     "name": "stdout",
     "output_type": "stream",
     "text": [
      "                            OLS Regression Results                            \n",
      "==============================================================================\n",
      "Dep. Variable:             difficulty   R-squared:                       0.034\n",
      "Model:                            OLS   Adj. R-squared:                  0.023\n",
      "Method:                 Least Squares   F-statistic:                     3.017\n",
      "Date:                Fri, 25 Nov 2022   Prob (F-statistic):             0.0860\n",
      "Time:                        01:50:03   Log-Likelihood:                -132.88\n",
      "No. Observations:                  88   AIC:                             269.8\n",
      "Df Residuals:                      86   BIC:                             274.7\n",
      "Df Model:                           1                                         \n",
      "Covariance Type:            nonrobust                                         \n",
      "==================================================================================================\n",
      "                                     coef    std err          t      P>|t|      [0.025      0.975]\n",
      "--------------------------------------------------------------------------------------------------\n",
      "Intercept                          4.4856      1.097      4.088      0.000       2.304       6.667\n",
      "np.log1p(straight_all_section)    -0.4597      0.265     -1.737      0.086      -0.986       0.066\n",
      "==============================================================================\n",
      "Omnibus:                       17.260   Durbin-Watson:                   0.998\n",
      "Prob(Omnibus):                  0.000   Jarque-Bera (JB):               20.288\n",
      "Skew:                           1.042   Prob(JB):                     3.93e-05\n",
      "Kurtosis:                       4.090   Cond. No.                         40.7\n",
      "==============================================================================\n",
      "\n",
      "Notes:\n",
      "[1] Standard Errors assume that the covariance matrix of the errors is correctly specified.\n"
     ]
    }
   ],
   "source": [
    "# 유의미x\n",
    "straight_jump_test = ols('difficulty ~ np.log1p(straight_all_section)', data = final_df).fit().summary()\n",
    "print(straight_jump_test)"
   ]
  },
  {
   "cell_type": "markdown",
   "id": "36f2d0c5",
   "metadata": {},
   "source": [
    "### ✨ratio_straight : 직선구간 비율 (직선구간 / 전체구간)\n",
    "- final_df['ratio_straight'] = final_df['straight_all_section'] /final_df['sum_straight_curve']"
   ]
  },
  {
   "cell_type": "code",
   "execution_count": 21,
   "id": "0beb4607",
   "metadata": {},
   "outputs": [
    {
     "name": "stdout",
     "output_type": "stream",
     "text": [
      "                            OLS Regression Results                            \n",
      "==============================================================================\n",
      "Dep. Variable:             difficulty   R-squared:                       0.428\n",
      "Model:                            OLS   Adj. R-squared:                  0.422\n",
      "Method:                 Least Squares   F-statistic:                     64.39\n",
      "Date:                Fri, 25 Nov 2022   Prob (F-statistic):           4.72e-12\n",
      "Time:                        01:50:05   Log-Likelihood:                -109.80\n",
      "No. Observations:                  88   AIC:                             223.6\n",
      "Df Residuals:                      86   BIC:                             228.6\n",
      "Df Model:                           1                                         \n",
      "Covariance Type:            nonrobust                                         \n",
      "==================================================================================\n",
      "                     coef    std err          t      P>|t|      [0.025      0.975]\n",
      "----------------------------------------------------------------------------------\n",
      "Intercept          6.0798      0.444     13.688      0.000       5.197       6.963\n",
      "ratio_straight    -5.1555      0.642     -8.025      0.000      -6.433      -3.878\n",
      "==============================================================================\n",
      "Omnibus:                        2.943   Durbin-Watson:                   1.356\n",
      "Prob(Omnibus):                  0.230   Jarque-Bera (JB):                2.452\n",
      "Skew:                           0.403   Prob(JB):                        0.294\n",
      "Kurtosis:                       3.132   Cond. No.                         10.4\n",
      "==============================================================================\n",
      "\n",
      "Notes:\n",
      "[1] Standard Errors assume that the covariance matrix of the errors is correctly specified.\n"
     ]
    }
   ],
   "source": [
    "# R제곱 0.422\n",
    "straight_jump_test = ols('difficulty ~ ratio_straight', data = final_df).fit().summary()\n",
    "print(straight_jump_test)"
   ]
  },
  {
   "cell_type": "markdown",
   "id": "ca042fc7",
   "metadata": {},
   "source": [
    "### trigger_accel : 가속트리거 개수"
   ]
  },
  {
   "cell_type": "code",
   "execution_count": 22,
   "id": "568f8236",
   "metadata": {},
   "outputs": [
    {
     "name": "stdout",
     "output_type": "stream",
     "text": [
      "                            OLS Regression Results                            \n",
      "==============================================================================\n",
      "Dep. Variable:             difficulty   R-squared:                       0.003\n",
      "Model:                            OLS   Adj. R-squared:                 -0.008\n",
      "Method:                 Least Squares   F-statistic:                    0.3015\n",
      "Date:                Fri, 25 Nov 2022   Prob (F-statistic):              0.584\n",
      "Time:                        01:50:08   Log-Likelihood:                -134.24\n",
      "No. Observations:                  88   AIC:                             272.5\n",
      "Df Residuals:                      86   BIC:                             277.4\n",
      "Df Model:                           1                                         \n",
      "Covariance Type:            nonrobust                                         \n",
      "=================================================================================\n",
      "                    coef    std err          t      P>|t|      [0.025      0.975]\n",
      "---------------------------------------------------------------------------------\n",
      "Intercept         2.6146      0.127     20.508      0.000       2.361       2.868\n",
      "trigger_accel    -0.0120      0.022     -0.549      0.584      -0.055       0.031\n",
      "==============================================================================\n",
      "Omnibus:                       13.620   Durbin-Watson:                   0.958\n",
      "Prob(Omnibus):                  0.001   Jarque-Bera (JB):               14.670\n",
      "Skew:                           0.924   Prob(JB):                     0.000652\n",
      "Kurtosis:                       3.768   Cond. No.                         6.22\n",
      "==============================================================================\n",
      "\n",
      "Notes:\n",
      "[1] Standard Errors assume that the covariance matrix of the errors is correctly specified.\n"
     ]
    }
   ],
   "source": [
    "# 유의미x\n",
    "straight_jump_test = ols('difficulty ~  trigger_accel', data = final_df).fit().summary()\n",
    "print(straight_jump_test)"
   ]
  },
  {
   "cell_type": "code",
   "execution_count": 23,
   "id": "e80dbe99",
   "metadata": {},
   "outputs": [
    {
     "name": "stdout",
     "output_type": "stream",
     "text": [
      "                            OLS Regression Results                            \n",
      "==============================================================================\n",
      "Dep. Variable:             difficulty   R-squared:                       0.000\n",
      "Model:                            OLS   Adj. R-squared:                 -0.012\n",
      "Method:                 Least Squares   F-statistic:                  0.001267\n",
      "Date:                Fri, 25 Nov 2022   Prob (F-statistic):              0.972\n",
      "Time:                        01:50:10   Log-Likelihood:                -134.39\n",
      "No. Observations:                  88   AIC:                             272.8\n",
      "Df Residuals:                      86   BIC:                             277.7\n",
      "Df Model:                           1                                         \n",
      "Covariance Type:            nonrobust                                         \n",
      "===========================================================================================\n",
      "                              coef    std err          t      P>|t|      [0.025      0.975]\n",
      "-------------------------------------------------------------------------------------------\n",
      "Intercept                   2.5931      0.135     19.238      0.000       2.325       2.861\n",
      "np.log1p(trigger_accel)    -0.0048      0.134     -0.036      0.972      -0.271       0.262\n",
      "==============================================================================\n",
      "Omnibus:                       14.225   Durbin-Watson:                   0.952\n",
      "Prob(Omnibus):                  0.001   Jarque-Bera (JB):               15.529\n",
      "Skew:                           0.951   Prob(JB):                     0.000425\n",
      "Kurtosis:                       3.784   Cond. No.                         1.63\n",
      "==============================================================================\n",
      "\n",
      "Notes:\n",
      "[1] Standard Errors assume that the covariance matrix of the errors is correctly specified.\n"
     ]
    }
   ],
   "source": [
    "# 로그o, 유의미x\n",
    "straight_jump_test = ols('difficulty ~ np.log1p(trigger_accel)', data = final_df).fit().summary()\n",
    "print(straight_jump_test)"
   ]
  },
  {
   "cell_type": "markdown",
   "id": "a578bdbf",
   "metadata": {},
   "source": [
    "###  trigger_warp : 트랙이동 개수 "
   ]
  },
  {
   "cell_type": "code",
   "execution_count": 24,
   "id": "a8d7fc70",
   "metadata": {},
   "outputs": [
    {
     "name": "stdout",
     "output_type": "stream",
     "text": [
      "                            OLS Regression Results                            \n",
      "==============================================================================\n",
      "Dep. Variable:             difficulty   R-squared:                       0.002\n",
      "Model:                            OLS   Adj. R-squared:                 -0.009\n",
      "Method:                 Least Squares   F-statistic:                    0.1817\n",
      "Date:                Fri, 25 Nov 2022   Prob (F-statistic):              0.671\n",
      "Time:                        01:50:13   Log-Likelihood:                -134.30\n",
      "No. Observations:                  88   AIC:                             272.6\n",
      "Df Residuals:                      86   BIC:                             277.6\n",
      "Df Model:                           1                                         \n",
      "Covariance Type:            nonrobust                                         \n",
      "================================================================================\n",
      "                   coef    std err          t      P>|t|      [0.025      0.975]\n",
      "--------------------------------------------------------------------------------\n",
      "Intercept        2.5657      0.134     19.180      0.000       2.300       2.832\n",
      "trigger_warp     0.0375      0.088      0.426      0.671      -0.138       0.213\n",
      "==============================================================================\n",
      "Omnibus:                       15.291   Durbin-Watson:                   0.954\n",
      "Prob(Omnibus):                  0.000   Jarque-Bera (JB):               17.094\n",
      "Skew:                           0.991   Prob(JB):                     0.000194\n",
      "Kurtosis:                       3.858   Cond. No.                         1.90\n",
      "==============================================================================\n",
      "\n",
      "Notes:\n",
      "[1] Standard Errors assume that the covariance matrix of the errors is correctly specified.\n"
     ]
    }
   ],
   "source": [
    "#유의미x\n",
    "straight_jump_test = ols('difficulty ~ trigger_warp', data = final_df).fit().summary()\n",
    "print(straight_jump_test)"
   ]
  },
  {
   "cell_type": "code",
   "execution_count": 25,
   "id": "ee19753f",
   "metadata": {},
   "outputs": [
    {
     "name": "stdout",
     "output_type": "stream",
     "text": [
      "                            OLS Regression Results                            \n",
      "==============================================================================\n",
      "Dep. Variable:             difficulty   R-squared:                       0.000\n",
      "Model:                            OLS   Adj. R-squared:                 -0.011\n",
      "Method:                 Least Squares   F-statistic:                   0.01998\n",
      "Date:                Fri, 25 Nov 2022   Prob (F-statistic):              0.888\n",
      "Time:                        01:50:15   Log-Likelihood:                -134.38\n",
      "No. Observations:                  88   AIC:                             272.8\n",
      "Df Residuals:                      86   BIC:                             277.7\n",
      "Df Model:                           1                                         \n",
      "Covariance Type:            nonrobust                                         \n",
      "==========================================================================================\n",
      "                             coef    std err          t      P>|t|      [0.025      0.975]\n",
      "------------------------------------------------------------------------------------------\n",
      "Intercept                  2.5811      0.139     18.619      0.000       2.306       2.857\n",
      "np.log1p(trigger_warp)     0.0307      0.217      0.141      0.888      -0.401       0.463\n",
      "==============================================================================\n",
      "Omnibus:                       14.633   Durbin-Watson:                   0.954\n",
      "Prob(Omnibus):                  0.001   Jarque-Bera (JB):               16.119\n",
      "Skew:                           0.967   Prob(JB):                     0.000316\n",
      "Kurtosis:                       3.808   Cond. No.                         2.06\n",
      "==============================================================================\n",
      "\n",
      "Notes:\n",
      "[1] Standard Errors assume that the covariance matrix of the errors is correctly specified.\n"
     ]
    }
   ],
   "source": [
    "#로그o, 유의미x\n",
    "straight_jump_test = ols('difficulty ~ np.log1p(trigger_warp)', data = final_df).fit().summary()\n",
    "print(straight_jump_test)"
   ]
  },
  {
   "cell_type": "markdown",
   "id": "7a52d506",
   "metadata": {},
   "source": [
    "### ✨trigger_decel : 감속트리거 개수"
   ]
  },
  {
   "cell_type": "code",
   "execution_count": 26,
   "id": "d7bd6306",
   "metadata": {},
   "outputs": [
    {
     "name": "stdout",
     "output_type": "stream",
     "text": [
      "                            OLS Regression Results                            \n",
      "==============================================================================\n",
      "Dep. Variable:             difficulty   R-squared:                       0.094\n",
      "Model:                            OLS   Adj. R-squared:                  0.083\n",
      "Method:                 Least Squares   F-statistic:                     8.883\n",
      "Date:                Fri, 25 Nov 2022   Prob (F-statistic):            0.00374\n",
      "Time:                        01:50:19   Log-Likelihood:                -130.07\n",
      "No. Observations:                  88   AIC:                             264.1\n",
      "Df Residuals:                      86   BIC:                             269.1\n",
      "Df Model:                           1                                         \n",
      "Covariance Type:            nonrobust                                         \n",
      "=================================================================================\n",
      "                    coef    std err          t      P>|t|      [0.025      0.975]\n",
      "---------------------------------------------------------------------------------\n",
      "Intercept         2.3125      0.148     15.659      0.000       2.019       2.606\n",
      "trigger_decel     0.1042      0.035      2.980      0.004       0.035       0.174\n",
      "==============================================================================\n",
      "Omnibus:                        7.638   Durbin-Watson:                   0.975\n",
      "Prob(Omnibus):                  0.022   Jarque-Bera (JB):                7.247\n",
      "Skew:                           0.583   Prob(JB):                       0.0267\n",
      "Kurtosis:                       3.786   Cond. No.                         5.58\n",
      "==============================================================================\n",
      "\n",
      "Notes:\n",
      "[1] Standard Errors assume that the covariance matrix of the errors is correctly specified.\n"
     ]
    }
   ],
   "source": [
    "# 수정 r제곱 0.083\n",
    "straight_jump_test = ols('difficulty ~ trigger_decel', data = final_df).fit().summary()\n",
    "print(straight_jump_test)"
   ]
  },
  {
   "cell_type": "code",
   "execution_count": 27,
   "id": "05d65d6d",
   "metadata": {},
   "outputs": [
    {
     "name": "stdout",
     "output_type": "stream",
     "text": [
      "                            OLS Regression Results                            \n",
      "==============================================================================\n",
      "Dep. Variable:             difficulty   R-squared:                       0.096\n",
      "Model:                            OLS   Adj. R-squared:                  0.085\n",
      "Method:                 Least Squares   F-statistic:                     9.116\n",
      "Date:                Fri, 25 Nov 2022   Prob (F-statistic):            0.00333\n",
      "Time:                        01:50:21   Log-Likelihood:                -129.96\n",
      "No. Observations:                  88   AIC:                             263.9\n",
      "Df Residuals:                      86   BIC:                             268.9\n",
      "Df Model:                           1                                         \n",
      "Covariance Type:            nonrobust                                         \n",
      "===========================================================================================\n",
      "                              coef    std err          t      P>|t|      [0.025      0.975]\n",
      "-------------------------------------------------------------------------------------------\n",
      "Intercept                   2.2533      0.160     14.093      0.000       1.935       2.571\n",
      "np.log1p(trigger_decel)     0.3780      0.125      3.019      0.003       0.129       0.627\n",
      "==============================================================================\n",
      "Omnibus:                        8.573   Durbin-Watson:                   0.982\n",
      "Prob(Omnibus):                  0.014   Jarque-Bera (JB):                8.179\n",
      "Skew:                           0.692   Prob(JB):                       0.0167\n",
      "Kurtosis:                       3.560   Cond. No.                         2.48\n",
      "==============================================================================\n",
      "\n",
      "Notes:\n",
      "[1] Standard Errors assume that the covariance matrix of the errors is correctly specified.\n"
     ]
    }
   ],
   "source": [
    "# log o, 수정 r제곱 0.085\n",
    "straight_jump_test = ols('difficulty ~ np.log1p(trigger_decel)', data = final_df).fit().summary()\n",
    "print(straight_jump_test)"
   ]
  },
  {
   "cell_type": "markdown",
   "id": "9962e780",
   "metadata": {},
   "source": [
    "### trigger_jump : 점프트리거 개수"
   ]
  },
  {
   "cell_type": "code",
   "execution_count": 28,
   "id": "5690b9ef",
   "metadata": {},
   "outputs": [
    {
     "name": "stdout",
     "output_type": "stream",
     "text": [
      "                            OLS Regression Results                            \n",
      "==============================================================================\n",
      "Dep. Variable:             difficulty   R-squared:                       0.000\n",
      "Model:                            OLS   Adj. R-squared:                 -0.012\n",
      "Method:                 Least Squares   F-statistic:                  0.005129\n",
      "Date:                Fri, 25 Nov 2022   Prob (F-statistic):              0.943\n",
      "Time:                        01:50:24   Log-Likelihood:                -134.39\n",
      "No. Observations:                  88   AIC:                             272.8\n",
      "Df Residuals:                      86   BIC:                             277.7\n",
      "Df Model:                           1                                         \n",
      "Covariance Type:            nonrobust                                         \n",
      "================================================================================\n",
      "                   coef    std err          t      P>|t|      [0.025      0.975]\n",
      "--------------------------------------------------------------------------------\n",
      "Intercept        2.5874      0.130     19.970      0.000       2.330       2.845\n",
      "trigger_jump     0.0062      0.087      0.072      0.943      -0.167       0.179\n",
      "==============================================================================\n",
      "Omnibus:                       14.381   Durbin-Watson:                   0.951\n",
      "Prob(Omnibus):                  0.001   Jarque-Bera (JB):               15.753\n",
      "Skew:                           0.958   Prob(JB):                     0.000380\n",
      "Kurtosis:                       3.792   Cond. No.                         1.76\n",
      "==============================================================================\n",
      "\n",
      "Notes:\n",
      "[1] Standard Errors assume that the covariance matrix of the errors is correctly specified.\n"
     ]
    }
   ],
   "source": [
    "# 유의미x\n",
    "straight_jump_test = ols('difficulty ~ trigger_jump', data = final_df).fit().summary()\n",
    "print(straight_jump_test)"
   ]
  },
  {
   "cell_type": "code",
   "execution_count": 29,
   "id": "27d42683",
   "metadata": {},
   "outputs": [
    {
     "name": "stdout",
     "output_type": "stream",
     "text": [
      "                            OLS Regression Results                            \n",
      "==============================================================================\n",
      "Dep. Variable:             difficulty   R-squared:                       0.000\n",
      "Model:                            OLS   Adj. R-squared:                 -0.011\n",
      "Method:                 Least Squares   F-statistic:                   0.02144\n",
      "Date:                Fri, 25 Nov 2022   Prob (F-statistic):              0.884\n",
      "Time:                        01:50:27   Log-Likelihood:                -134.38\n",
      "No. Observations:                  88   AIC:                             272.8\n",
      "Df Residuals:                      86   BIC:                             277.7\n",
      "Df Model:                           1                                         \n",
      "Covariance Type:            nonrobust                                         \n",
      "==========================================================================================\n",
      "                             coef    std err          t      P>|t|      [0.025      0.975]\n",
      "------------------------------------------------------------------------------------------\n",
      "Intercept                  2.5832      0.131     19.688      0.000       2.322       2.844\n",
      "np.log1p(trigger_jump)     0.0325      0.222      0.146      0.884      -0.409       0.474\n",
      "==============================================================================\n",
      "Omnibus:                       14.500   Durbin-Watson:                   0.950\n",
      "Prob(Omnibus):                  0.001   Jarque-Bera (JB):               15.925\n",
      "Skew:                           0.963   Prob(JB):                     0.000348\n",
      "Kurtosis:                       3.798   Cond. No.                         1.99\n",
      "==============================================================================\n",
      "\n",
      "Notes:\n",
      "[1] Standard Errors assume that the covariance matrix of the errors is correctly specified.\n"
     ]
    }
   ],
   "source": [
    "#로그 o, 유의미x\n",
    "straight_jump_test = ols('difficulty ~ np.log1p(trigger_jump)', data = final_df).fit().summary()\n",
    "print(straight_jump_test)"
   ]
  },
  {
   "cell_type": "markdown",
   "id": "497c72ed",
   "metadata": {},
   "source": [
    "### ✨ curve_hairpin : 헤어핀 구간 개수(B)\n",
    "- 설명력 : 33%"
   ]
  },
  {
   "cell_type": "code",
   "execution_count": 30,
   "id": "1d3a1239",
   "metadata": {},
   "outputs": [
    {
     "name": "stdout",
     "output_type": "stream",
     "text": [
      "                            OLS Regression Results                            \n",
      "==============================================================================\n",
      "Dep. Variable:             difficulty   R-squared:                       0.345\n",
      "Model:                            OLS   Adj. R-squared:                  0.337\n",
      "Method:                 Least Squares   F-statistic:                     45.22\n",
      "Date:                Fri, 25 Nov 2022   Prob (F-statistic):           1.84e-09\n",
      "Time:                        01:50:29   Log-Likelihood:                -115.80\n",
      "No. Observations:                  88   AIC:                             235.6\n",
      "Df Residuals:                      86   BIC:                             240.6\n",
      "Df Model:                           1                                         \n",
      "Covariance Type:            nonrobust                                         \n",
      "=================================================================================\n",
      "                    coef    std err          t      P>|t|      [0.025      0.975]\n",
      "---------------------------------------------------------------------------------\n",
      "Intercept         1.9998      0.131     15.252      0.000       1.739       2.260\n",
      "curve_hairpin     0.1114      0.017      6.724      0.000       0.078       0.144\n",
      "==============================================================================\n",
      "Omnibus:                        7.530   Durbin-Watson:                   1.637\n",
      "Prob(Omnibus):                  0.023   Jarque-Bera (JB):                7.192\n",
      "Skew:                           0.686   Prob(JB):                       0.0274\n",
      "Kurtosis:                       3.279   Cond. No.                         10.7\n",
      "==============================================================================\n",
      "\n",
      "Notes:\n",
      "[1] Standard Errors assume that the covariance matrix of the errors is correctly specified.\n"
     ]
    }
   ],
   "source": [
    "# 로그X, 수정R제곱 : 0.337\n",
    "test = ols('difficulty ~ curve_hairpin', data = final_df).fit().summary()\n",
    "print(test)"
   ]
  },
  {
   "cell_type": "markdown",
   "id": "e928a334",
   "metadata": {},
   "source": [
    "### ✨ curve_acute : 90도 이하 예각 커브 개수"
   ]
  },
  {
   "cell_type": "markdown",
   "id": "35a5c2ee",
   "metadata": {},
   "source": [
    "- 설명력 30%"
   ]
  },
  {
   "cell_type": "code",
   "execution_count": 31,
   "id": "2085fc8b",
   "metadata": {},
   "outputs": [
    {
     "name": "stdout",
     "output_type": "stream",
     "text": [
      "                            OLS Regression Results                            \n",
      "==============================================================================\n",
      "Dep. Variable:             difficulty   R-squared:                       0.315\n",
      "Model:                            OLS   Adj. R-squared:                  0.307\n",
      "Method:                 Least Squares   F-statistic:                     39.51\n",
      "Date:                Fri, 25 Nov 2022   Prob (F-statistic):           1.30e-08\n",
      "Time:                        01:50:33   Log-Likelihood:                -117.76\n",
      "No. Observations:                  88   AIC:                             239.5\n",
      "Df Residuals:                      86   BIC:                             244.5\n",
      "Df Model:                           1                                         \n",
      "Covariance Type:            nonrobust                                         \n",
      "===============================================================================\n",
      "                  coef    std err          t      P>|t|      [0.025      0.975]\n",
      "-------------------------------------------------------------------------------\n",
      "Intercept       1.4284      0.210      6.803      0.000       1.011       1.846\n",
      "curve_acute     0.0730      0.012      6.286      0.000       0.050       0.096\n",
      "==============================================================================\n",
      "Omnibus:                        4.812   Durbin-Watson:                   1.347\n",
      "Prob(Omnibus):                  0.090   Jarque-Bera (JB):                4.697\n",
      "Skew:                           0.518   Prob(JB):                       0.0955\n",
      "Kurtosis:                       2.544   Cond. No.                         38.3\n",
      "==============================================================================\n",
      "\n",
      "Notes:\n",
      "[1] Standard Errors assume that the covariance matrix of the errors is correctly specified.\n"
     ]
    }
   ],
   "source": [
    "# 수정 r제곱 0.307\n",
    "test = ols('difficulty ~ curve_acute', data = final_df).fit().summary()\n",
    "print(test)"
   ]
  },
  {
   "cell_type": "markdown",
   "id": "afd75758",
   "metadata": {},
   "source": [
    "### ratio_acute : 예각 비율 \n",
    "- final_df['ratio_acute'] = final_df['curve_acute'] / final_df['curve_all_section']"
   ]
  },
  {
   "cell_type": "code",
   "execution_count": 32,
   "id": "d3f7d1f1",
   "metadata": {},
   "outputs": [
    {
     "name": "stdout",
     "output_type": "stream",
     "text": [
      "                            OLS Regression Results                            \n",
      "==============================================================================\n",
      "Dep. Variable:             difficulty   R-squared:                       0.039\n",
      "Model:                            OLS   Adj. R-squared:                  0.028\n",
      "Method:                 Least Squares   F-statistic:                     3.492\n",
      "Date:                Fri, 25 Nov 2022   Prob (F-statistic):             0.0651\n",
      "Time:                        01:50:36   Log-Likelihood:                -132.64\n",
      "No. Observations:                  88   AIC:                             269.3\n",
      "Df Residuals:                      86   BIC:                             274.2\n",
      "Df Model:                           1                                         \n",
      "Covariance Type:            nonrobust                                         \n",
      "===============================================================================\n",
      "                  coef    std err          t      P>|t|      [0.025      0.975]\n",
      "-------------------------------------------------------------------------------\n",
      "Intercept       3.1480      0.321      9.820      0.000       2.511       3.785\n",
      "ratio_acute    -1.0099      0.540     -1.869      0.065      -2.084       0.064\n",
      "==============================================================================\n",
      "Omnibus:                       10.692   Durbin-Watson:                   0.982\n",
      "Prob(Omnibus):                  0.005   Jarque-Bera (JB):               10.802\n",
      "Skew:                           0.766   Prob(JB):                      0.00451\n",
      "Kurtosis:                       3.773   Cond. No.                         6.04\n",
      "==============================================================================\n",
      "\n",
      "Notes:\n",
      "[1] Standard Errors assume that the covariance matrix of the errors is correctly specified.\n"
     ]
    }
   ],
   "source": [
    "test = ols('difficulty ~ ratio_acute', data = final_df).fit().summary()\n",
    "print(test)"
   ]
  },
  {
   "cell_type": "markdown",
   "id": "66d46345",
   "metadata": {},
   "source": [
    "### ✨ curve_obtuse : 둔각 커브 개수(D)"
   ]
  },
  {
   "cell_type": "markdown",
   "id": "eab555c2",
   "metadata": {},
   "source": [
    "- 설명력 24%"
   ]
  },
  {
   "cell_type": "code",
   "execution_count": 33,
   "id": "8ca96f63",
   "metadata": {},
   "outputs": [
    {
     "name": "stdout",
     "output_type": "stream",
     "text": [
      "                            OLS Regression Results                            \n",
      "==============================================================================\n",
      "Dep. Variable:             difficulty   R-squared:                       0.252\n",
      "Model:                            OLS   Adj. R-squared:                  0.243\n",
      "Method:                 Least Squares   F-statistic:                     28.90\n",
      "Date:                Fri, 25 Nov 2022   Prob (F-statistic):           6.43e-07\n",
      "Time:                        01:50:38   Log-Likelihood:                -121.64\n",
      "No. Observations:                  88   AIC:                             247.3\n",
      "Df Residuals:                      86   BIC:                             252.2\n",
      "Df Model:                           1                                         \n",
      "Covariance Type:            nonrobust                                         \n",
      "================================================================================\n",
      "                   coef    std err          t      P>|t|      [0.025      0.975]\n",
      "--------------------------------------------------------------------------------\n",
      "Intercept        2.0613      0.143     14.393      0.000       1.777       2.346\n",
      "curve_obtuse     0.0569      0.011      5.376      0.000       0.036       0.078\n",
      "==============================================================================\n",
      "Omnibus:                        0.667   Durbin-Watson:                   1.161\n",
      "Prob(Omnibus):                  0.716   Jarque-Bera (JB):                0.746\n",
      "Skew:                           0.196   Prob(JB):                        0.689\n",
      "Kurtosis:                       2.775   Cond. No.                         18.7\n",
      "==============================================================================\n",
      "\n",
      "Notes:\n",
      "[1] Standard Errors assume that the covariance matrix of the errors is correctly specified.\n"
     ]
    }
   ],
   "source": [
    "# 수정 r제곱 0.243\n",
    "test = ols('difficulty ~ curve_obtuse', data = final_df).fit().summary()\n",
    "print(test)"
   ]
  },
  {
   "cell_type": "markdown",
   "id": "f1bad344",
   "metadata": {},
   "source": [
    "### ratio_obtuse : 둔각 비율 \n",
    "- final_df['ratio_obtuse'] = final_df['curve_obtuse'] / final_df['curve_all_section']"
   ]
  },
  {
   "cell_type": "code",
   "execution_count": 34,
   "id": "afef79d5",
   "metadata": {},
   "outputs": [
    {
     "name": "stdout",
     "output_type": "stream",
     "text": [
      "                            OLS Regression Results                            \n",
      "==============================================================================\n",
      "Dep. Variable:             difficulty   R-squared:                       0.000\n",
      "Model:                            OLS   Adj. R-squared:                 -0.011\n",
      "Method:                 Least Squares   F-statistic:                   0.03501\n",
      "Date:                Fri, 25 Nov 2022   Prob (F-statistic):              0.852\n",
      "Time:                        01:50:44   Log-Likelihood:                -134.38\n",
      "No. Observations:                  88   AIC:                             272.8\n",
      "Df Residuals:                      86   BIC:                             277.7\n",
      "Df Model:                           1                                         \n",
      "Covariance Type:            nonrobust                                         \n",
      "================================================================================\n",
      "                   coef    std err          t      P>|t|      [0.025      0.975]\n",
      "--------------------------------------------------------------------------------\n",
      "Intercept        2.5612      0.199     12.859      0.000       2.165       2.957\n",
      "ratio_obtuse     0.1100      0.588      0.187      0.852      -1.059       1.279\n",
      "==============================================================================\n",
      "Omnibus:                       13.698   Durbin-Watson:                   0.947\n",
      "Prob(Omnibus):                  0.001   Jarque-Bera (JB):               14.779\n",
      "Skew:                           0.930   Prob(JB):                     0.000618\n",
      "Kurtosis:                       3.756   Cond. No.                         5.26\n",
      "==============================================================================\n",
      "\n",
      "Notes:\n",
      "[1] Standard Errors assume that the covariance matrix of the errors is correctly specified.\n"
     ]
    }
   ],
   "source": [
    "test = ols('difficulty ~ ratio_obtuse', data = final_df).fit().summary()\n",
    "print(test)"
   ]
  },
  {
   "cell_type": "markdown",
   "id": "0ae04deb",
   "metadata": {},
   "source": [
    "### ✨ curve_continuous : 연속 커브 개수(N-1)\n",
    "- 설명력 41~54%"
   ]
  },
  {
   "cell_type": "code",
   "execution_count": 35,
   "id": "b71f3a34",
   "metadata": {},
   "outputs": [
    {
     "name": "stdout",
     "output_type": "stream",
     "text": [
      "                            OLS Regression Results                            \n",
      "==============================================================================\n",
      "Dep. Variable:             difficulty   R-squared:                       0.554\n",
      "Model:                            OLS   Adj. R-squared:                  0.549\n",
      "Method:                 Least Squares   F-statistic:                     106.7\n",
      "Date:                Fri, 25 Nov 2022   Prob (F-statistic):           9.72e-17\n",
      "Time:                        01:50:57   Log-Likelihood:                -98.885\n",
      "No. Observations:                  88   AIC:                             201.8\n",
      "Df Residuals:                      86   BIC:                             206.7\n",
      "Df Model:                           1                                         \n",
      "Covariance Type:            nonrobust                                         \n",
      "====================================================================================\n",
      "                       coef    std err          t      P>|t|      [0.025      0.975]\n",
      "------------------------------------------------------------------------------------\n",
      "Intercept            1.9456      0.102     19.130      0.000       1.743       2.148\n",
      "curve_continuous     0.0687      0.007     10.331      0.000       0.055       0.082\n",
      "==============================================================================\n",
      "Omnibus:                        3.854   Durbin-Watson:                   1.646\n",
      "Prob(Omnibus):                  0.146   Jarque-Bera (JB):                3.382\n",
      "Skew:                           0.477   Prob(JB):                        0.184\n",
      "Kurtosis:                       3.118   Cond. No.                         19.4\n",
      "==============================================================================\n",
      "\n",
      "Notes:\n",
      "[1] Standard Errors assume that the covariance matrix of the errors is correctly specified.\n"
     ]
    }
   ],
   "source": [
    "# 수정 r제곱 0.549\n",
    "test = ols('difficulty ~ curve_continuous', data = final_df).fit().summary()\n",
    "print(test)"
   ]
  },
  {
   "cell_type": "code",
   "execution_count": 36,
   "id": "c1e8c51b",
   "metadata": {},
   "outputs": [
    {
     "name": "stdout",
     "output_type": "stream",
     "text": [
      "                            OLS Regression Results                            \n",
      "==============================================================================\n",
      "Dep. Variable:             difficulty   R-squared:                       0.421\n",
      "Model:                            OLS   Adj. R-squared:                  0.415\n",
      "Method:                 Least Squares   F-statistic:                     62.66\n",
      "Date:                Fri, 25 Nov 2022   Prob (F-statistic):           7.83e-12\n",
      "Time:                        01:51:00   Log-Likelihood:                -110.31\n",
      "No. Observations:                  88   AIC:                             224.6\n",
      "Df Residuals:                      86   BIC:                             229.6\n",
      "Df Model:                           1                                         \n",
      "Covariance Type:            nonrobust                                         \n",
      "==============================================================================================\n",
      "                                 coef    std err          t      P>|t|      [0.025      0.975]\n",
      "----------------------------------------------------------------------------------------------\n",
      "Intercept                      1.6729      0.148     11.329      0.000       1.379       1.966\n",
      "np.log1p(curve_continuous)     0.5630      0.071      7.916      0.000       0.422       0.704\n",
      "==============================================================================\n",
      "Omnibus:                        3.479   Durbin-Watson:                   1.563\n",
      "Prob(Omnibus):                  0.176   Jarque-Bera (JB):                3.148\n",
      "Skew:                           0.463   Prob(JB):                        0.207\n",
      "Kurtosis:                       3.012   Cond. No.                         3.87\n",
      "==============================================================================\n",
      "\n",
      "Notes:\n",
      "[1] Standard Errors assume that the covariance matrix of the errors is correctly specified.\n"
     ]
    }
   ],
   "source": [
    "#로그 O, 수정r제곱 : 0.415\n",
    "test = ols('difficulty ~ np.log1p(curve_continuous)', data = final_df).fit().summary()\n",
    "print(test)"
   ]
  },
  {
   "cell_type": "markdown",
   "id": "f24ef8ea",
   "metadata": {},
   "source": [
    "### ✨curve_continuous_acute : 예각 연속 커브 개수\n",
    "- 설명력 39%"
   ]
  },
  {
   "cell_type": "code",
   "execution_count": 37,
   "id": "844879e7",
   "metadata": {},
   "outputs": [
    {
     "name": "stdout",
     "output_type": "stream",
     "text": [
      "                            OLS Regression Results                            \n",
      "==============================================================================\n",
      "Dep. Variable:             difficulty   R-squared:                       0.405\n",
      "Model:                            OLS   Adj. R-squared:                  0.399\n",
      "Method:                 Least Squares   F-statistic:                     58.65\n",
      "Date:                Fri, 25 Nov 2022   Prob (F-statistic):           2.58e-11\n",
      "Time:                        01:51:03   Log-Likelihood:                -111.51\n",
      "No. Observations:                  88   AIC:                             227.0\n",
      "Df Residuals:                      86   BIC:                             232.0\n",
      "Df Model:                           1                                         \n",
      "Covariance Type:            nonrobust                                         \n",
      "==========================================================================================\n",
      "                             coef    std err          t      P>|t|      [0.025      0.975]\n",
      "------------------------------------------------------------------------------------------\n",
      "Intercept                  2.0641      0.115     17.888      0.000       1.835       2.294\n",
      "curve_continuous_acute     0.2060      0.027      7.659      0.000       0.153       0.260\n",
      "==============================================================================\n",
      "Omnibus:                        1.665   Durbin-Watson:                   1.796\n",
      "Prob(Omnibus):                  0.435   Jarque-Bera (JB):                1.099\n",
      "Skew:                           0.096   Prob(JB):                        0.577\n",
      "Kurtosis:                       3.513   Cond. No.                         5.45\n",
      "==============================================================================\n",
      "\n",
      "Notes:\n",
      "[1] Standard Errors assume that the covariance matrix of the errors is correctly specified.\n"
     ]
    }
   ],
   "source": [
    "# 수정 r제곱 0.399\n",
    "test = ols('difficulty ~ curve_continuous_acute', data = final_df).fit().summary()\n",
    "print(test)"
   ]
  },
  {
   "cell_type": "markdown",
   "id": "f48f1088",
   "metadata": {},
   "source": [
    "### ✨curve_continuous_obtuse : 둔각 연속 커브 개수\n",
    "- 설명력:30%"
   ]
  },
  {
   "cell_type": "code",
   "execution_count": 38,
   "id": "0c33e15b",
   "metadata": {},
   "outputs": [
    {
     "name": "stdout",
     "output_type": "stream",
     "text": [
      "                            OLS Regression Results                            \n",
      "==============================================================================\n",
      "Dep. Variable:             difficulty   R-squared:                       0.310\n",
      "Model:                            OLS   Adj. R-squared:                  0.302\n",
      "Method:                 Least Squares   F-statistic:                     38.58\n",
      "Date:                Fri, 25 Nov 2022   Prob (F-statistic):           1.80e-08\n",
      "Time:                        01:51:05   Log-Likelihood:                -118.09\n",
      "No. Observations:                  88   AIC:                             240.2\n",
      "Df Residuals:                      86   BIC:                             245.1\n",
      "Df Model:                           1                                         \n",
      "Covariance Type:            nonrobust                                         \n",
      "=====================================================================================================\n",
      "                                        coef    std err          t      P>|t|      [0.025      0.975]\n",
      "-----------------------------------------------------------------------------------------------------\n",
      "Intercept                             2.1115      0.126     16.733      0.000       1.861       2.362\n",
      "np.log1p(curve_continuous_obtuse)     0.8057      0.130      6.211      0.000       0.548       1.064\n",
      "==============================================================================\n",
      "Omnibus:                        4.336   Durbin-Watson:                   1.299\n",
      "Prob(Omnibus):                  0.114   Jarque-Bera (JB):                3.911\n",
      "Skew:                           0.514   Prob(JB):                        0.142\n",
      "Kurtosis:                       3.095   Cond. No.                         2.04\n",
      "==============================================================================\n",
      "\n",
      "Notes:\n",
      "[1] Standard Errors assume that the covariance matrix of the errors is correctly specified.\n"
     ]
    }
   ],
   "source": [
    "#로그 O, 수정r제곱 : 0.302\n",
    "test = ols('difficulty ~ np.log1p(curve_continuous_obtuse)', data = final_df).fit().summary()\n",
    "print(test)"
   ]
  },
  {
   "cell_type": "markdown",
   "id": "c87af802",
   "metadata": {},
   "source": [
    "### ✨ curve_all_section : 전체 곡선 구간 개수(E) = B+C+D"
   ]
  },
  {
   "cell_type": "markdown",
   "id": "dad20d6b",
   "metadata": {},
   "source": [
    "- 설명력 57%"
   ]
  },
  {
   "cell_type": "code",
   "execution_count": 39,
   "id": "e4f166b6",
   "metadata": {},
   "outputs": [
    {
     "name": "stdout",
     "output_type": "stream",
     "text": [
      "                            OLS Regression Results                            \n",
      "==============================================================================\n",
      "Dep. Variable:             difficulty   R-squared:                       0.581\n",
      "Model:                            OLS   Adj. R-squared:                  0.576\n",
      "Method:                 Least Squares   F-statistic:                     119.0\n",
      "Date:                Fri, 25 Nov 2022   Prob (F-statistic):           6.68e-18\n",
      "Time:                        01:51:08   Log-Likelihood:                -96.169\n",
      "No. Observations:                  88   AIC:                             196.3\n",
      "Df Residuals:                      86   BIC:                             201.3\n",
      "Df Model:                           1                                         \n",
      "Covariance Type:            nonrobust                                         \n",
      "=====================================================================================\n",
      "                        coef    std err          t      P>|t|      [0.025      0.975]\n",
      "-------------------------------------------------------------------------------------\n",
      "Intercept             1.0920      0.158      6.916      0.000       0.778       1.406\n",
      "curve_all_section     0.0491      0.004     10.909      0.000       0.040       0.058\n",
      "==============================================================================\n",
      "Omnibus:                        4.194   Durbin-Watson:                   1.494\n",
      "Prob(Omnibus):                  0.123   Jarque-Bera (JB):                3.597\n",
      "Skew:                           0.482   Prob(JB):                        0.166\n",
      "Kurtosis:                       3.223   Cond. No.                         71.2\n",
      "==============================================================================\n",
      "\n",
      "Notes:\n",
      "[1] Standard Errors assume that the covariance matrix of the errors is correctly specified.\n"
     ]
    }
   ],
   "source": [
    "# 수정 r제곱 0.576\n",
    "straight_jump_test = ols('difficulty ~ curve_all_section', data = final_df).fit().summary()\n",
    "print(straight_jump_test)"
   ]
  },
  {
   "cell_type": "markdown",
   "id": "0741656c",
   "metadata": {},
   "source": [
    "### ✨ratio_curve : 곡선 구간 비율 \n",
    "- final_df['ratio_curve'] = final_df['curve_all_section'] /final_df['sum_straight_curve']"
   ]
  },
  {
   "cell_type": "code",
   "execution_count": 40,
   "id": "c4dc5672",
   "metadata": {},
   "outputs": [
    {
     "name": "stdout",
     "output_type": "stream",
     "text": [
      "                            OLS Regression Results                            \n",
      "==============================================================================\n",
      "Dep. Variable:             difficulty   R-squared:                       0.428\n",
      "Model:                            OLS   Adj. R-squared:                  0.422\n",
      "Method:                 Least Squares   F-statistic:                     64.39\n",
      "Date:                Fri, 25 Nov 2022   Prob (F-statistic):           4.72e-12\n",
      "Time:                        01:51:11   Log-Likelihood:                -109.80\n",
      "No. Observations:                  88   AIC:                             223.6\n",
      "Df Residuals:                      86   BIC:                             228.6\n",
      "Df Model:                           1                                         \n",
      "Covariance Type:            nonrobust                                         \n",
      "===============================================================================\n",
      "                  coef    std err          t      P>|t|      [0.025      0.975]\n",
      "-------------------------------------------------------------------------------\n",
      "Intercept       0.9244      0.227      4.078      0.000       0.474       1.375\n",
      "ratio_curve     5.1555      0.642      8.025      0.000       3.878       6.433\n",
      "==============================================================================\n",
      "Omnibus:                        2.943   Durbin-Watson:                   1.356\n",
      "Prob(Omnibus):                  0.230   Jarque-Bera (JB):                2.452\n",
      "Skew:                           0.403   Prob(JB):                        0.294\n",
      "Kurtosis:                       3.132   Cond. No.                         7.82\n",
      "==============================================================================\n",
      "\n",
      "Notes:\n",
      "[1] Standard Errors assume that the covariance matrix of the errors is correctly specified.\n"
     ]
    }
   ],
   "source": [
    "# 수정 r제곱 0.422\n",
    "test = ols('difficulty ~ ratio_curve', data = final_df).fit().summary()\n",
    "print(test)"
   ]
  },
  {
   "cell_type": "markdown",
   "id": "615553e0",
   "metadata": {},
   "source": [
    "### ratio_hairpin : 헤어핀 비율\n",
    "- final_df['ratio_hairpin'] = final_df['curve_hairpin'] / final_df['curve_all_section']"
   ]
  },
  {
   "cell_type": "code",
   "execution_count": 41,
   "id": "5517afd2",
   "metadata": {},
   "outputs": [
    {
     "name": "stdout",
     "output_type": "stream",
     "text": [
      "                            OLS Regression Results                            \n",
      "==============================================================================\n",
      "Dep. Variable:             difficulty   R-squared:                       0.042\n",
      "Model:                            OLS   Adj. R-squared:                  0.031\n",
      "Method:                 Least Squares   F-statistic:                     3.783\n",
      "Date:                Fri, 25 Nov 2022   Prob (F-statistic):             0.0550\n",
      "Time:                        01:51:14   Log-Likelihood:                -132.50\n",
      "No. Observations:                  88   AIC:                             269.0\n",
      "Df Residuals:                      86   BIC:                             274.0\n",
      "Df Model:                           1                                         \n",
      "Covariance Type:            nonrobust                                         \n",
      "=================================================================================\n",
      "                    coef    std err          t      P>|t|      [0.025      0.975]\n",
      "---------------------------------------------------------------------------------\n",
      "Intercept         2.3761      0.161     14.728      0.000       2.055       2.697\n",
      "ratio_hairpin     1.2061      0.620      1.945      0.055      -0.027       2.439\n",
      "==============================================================================\n",
      "Omnibus:                       17.000   Durbin-Watson:                   1.039\n",
      "Prob(Omnibus):                  0.000   Jarque-Bera (JB):               19.827\n",
      "Skew:                           1.037   Prob(JB):                     4.95e-05\n",
      "Kurtosis:                       4.050   Cond. No.                         5.45\n",
      "==============================================================================\n",
      "\n",
      "Notes:\n",
      "[1] Standard Errors assume that the covariance matrix of the errors is correctly specified.\n"
     ]
    }
   ],
   "source": [
    "#수정 r제곱 : 0.03\n",
    "test = ols('difficulty ~ ratio_hairpin', data = final_df).fit().summary()\n",
    "print(test)"
   ]
  },
  {
   "cell_type": "markdown",
   "id": "81e5589f",
   "metadata": {},
   "source": [
    "### ✨ shortcut_right : 직각 지름길\n",
    "- 설명력 12%"
   ]
  },
  {
   "cell_type": "code",
   "execution_count": 42,
   "id": "7fc61209",
   "metadata": {},
   "outputs": [
    {
     "name": "stdout",
     "output_type": "stream",
     "text": [
      "                            OLS Regression Results                            \n",
      "==============================================================================\n",
      "Dep. Variable:             difficulty   R-squared:                       0.090\n",
      "Model:                            OLS   Adj. R-squared:                  0.079\n",
      "Method:                 Least Squares   F-statistic:                     8.509\n",
      "Date:                Fri, 25 Nov 2022   Prob (F-statistic):            0.00451\n",
      "Time:                        01:51:17   Log-Likelihood:                -130.24\n",
      "No. Observations:                  88   AIC:                             264.5\n",
      "Df Residuals:                      86   BIC:                             269.4\n",
      "Df Model:                           1                                         \n",
      "Covariance Type:            nonrobust                                         \n",
      "==================================================================================\n",
      "                     coef    std err          t      P>|t|      [0.025      0.975]\n",
      "----------------------------------------------------------------------------------\n",
      "Intercept          2.4561      0.124     19.873      0.000       2.210       2.702\n",
      "shortcut_right     0.1719      0.059      2.917      0.005       0.055       0.289\n",
      "==============================================================================\n",
      "Omnibus:                       14.536   Durbin-Watson:                   1.011\n",
      "Prob(Omnibus):                  0.001   Jarque-Bera (JB):               15.987\n",
      "Skew:                           0.979   Prob(JB):                     0.000338\n",
      "Kurtosis:                       3.727   Cond. No.                         2.35\n",
      "==============================================================================\n",
      "\n",
      "Notes:\n",
      "[1] Standard Errors assume that the covariance matrix of the errors is correctly specified.\n"
     ]
    }
   ],
   "source": [
    "# 유의미x\n",
    "test = ols('difficulty ~ shortcut_right', data = final_df).fit().summary()\n",
    "print(test)"
   ]
  },
  {
   "cell_type": "code",
   "execution_count": 43,
   "id": "1aecca83",
   "metadata": {},
   "outputs": [
    {
     "name": "stdout",
     "output_type": "stream",
     "text": [
      "                            OLS Regression Results                            \n",
      "==============================================================================\n",
      "Dep. Variable:             difficulty   R-squared:                       0.137\n",
      "Model:                            OLS   Adj. R-squared:                  0.127\n",
      "Method:                 Least Squares   F-statistic:                     13.63\n",
      "Date:                Fri, 25 Nov 2022   Prob (F-statistic):           0.000390\n",
      "Time:                        01:51:20   Log-Likelihood:                -127.92\n",
      "No. Observations:                  88   AIC:                             259.8\n",
      "Df Residuals:                      86   BIC:                             264.8\n",
      "Df Model:                           1                                         \n",
      "Covariance Type:            nonrobust                                         \n",
      "============================================================================================\n",
      "                               coef    std err          t      P>|t|      [0.025      0.975]\n",
      "--------------------------------------------------------------------------------------------\n",
      "Intercept                    2.3893      0.124     19.224      0.000       2.142       2.636\n",
      "np.log1p(shortcut_right)     0.6651      0.180      3.692      0.000       0.307       1.023\n",
      "==============================================================================\n",
      "Omnibus:                       13.014   Durbin-Watson:                   1.128\n",
      "Prob(Omnibus):                  0.001   Jarque-Bera (JB):               13.948\n",
      "Skew:                           0.937   Prob(JB):                     0.000936\n",
      "Kurtosis:                       3.538   Cond. No.                         1.84\n",
      "==============================================================================\n",
      "\n",
      "Notes:\n",
      "[1] Standard Errors assume that the covariance matrix of the errors is correctly specified.\n"
     ]
    }
   ],
   "source": [
    "# 수정 r제곱 0.127\n",
    "test = ols('difficulty ~ np.log1p(shortcut_right)', data = final_df).fit().summary()\n",
    "print(test)"
   ]
  },
  {
   "cell_type": "markdown",
   "id": "a6e7aae1",
   "metadata": {},
   "source": [
    "### shortcut_acute : 직각 미만 지름길"
   ]
  },
  {
   "cell_type": "code",
   "execution_count": 44,
   "id": "f2e7bb4b",
   "metadata": {},
   "outputs": [
    {
     "name": "stdout",
     "output_type": "stream",
     "text": [
      "                            OLS Regression Results                            \n",
      "==============================================================================\n",
      "Dep. Variable:             difficulty   R-squared:                       0.009\n",
      "Model:                            OLS   Adj. R-squared:                 -0.003\n",
      "Method:                 Least Squares   F-statistic:                    0.7698\n",
      "Date:                Fri, 25 Nov 2022   Prob (F-statistic):              0.383\n",
      "Time:                        01:51:23   Log-Likelihood:                -134.00\n",
      "No. Observations:                  88   AIC:                             272.0\n",
      "Df Residuals:                      86   BIC:                             277.0\n",
      "Df Model:                           1                                         \n",
      "Covariance Type:            nonrobust                                         \n",
      "==================================================================================\n",
      "                     coef    std err          t      P>|t|      [0.025      0.975]\n",
      "----------------------------------------------------------------------------------\n",
      "Intercept          2.5403      0.133     19.126      0.000       2.276       2.804\n",
      "shortcut_acute     0.0948      0.108      0.877      0.383      -0.120       0.310\n",
      "==============================================================================\n",
      "Omnibus:                       13.679   Durbin-Watson:                   0.978\n",
      "Prob(Omnibus):                  0.001   Jarque-Bera (JB):               14.761\n",
      "Skew:                           0.939   Prob(JB):                     0.000623\n",
      "Kurtosis:                       3.706   Cond. No.                         1.67\n",
      "==============================================================================\n",
      "\n",
      "Notes:\n",
      "[1] Standard Errors assume that the covariance matrix of the errors is correctly specified.\n"
     ]
    }
   ],
   "source": [
    "# 유의미x\n",
    "test = ols('difficulty ~ shortcut_acute', data = final_df).fit().summary()\n",
    "print(test)"
   ]
  },
  {
   "cell_type": "code",
   "execution_count": 45,
   "id": "5d2554fe",
   "metadata": {},
   "outputs": [
    {
     "name": "stdout",
     "output_type": "stream",
     "text": [
      "                            OLS Regression Results                            \n",
      "==============================================================================\n",
      "Dep. Variable:             difficulty   R-squared:                       0.020\n",
      "Model:                            OLS   Adj. R-squared:                  0.008\n",
      "Method:                 Least Squares   F-statistic:                     1.736\n",
      "Date:                Fri, 25 Nov 2022   Prob (F-statistic):              0.191\n",
      "Time:                        01:51:25   Log-Likelihood:                -133.51\n",
      "No. Observations:                  88   AIC:                             271.0\n",
      "Df Residuals:                      86   BIC:                             276.0\n",
      "Df Model:                           1                                         \n",
      "Covariance Type:            nonrobust                                         \n",
      "============================================================================================\n",
      "                               coef    std err          t      P>|t|      [0.025      0.975]\n",
      "--------------------------------------------------------------------------------------------\n",
      "Intercept                    2.5062      0.135     18.532      0.000       2.237       2.775\n",
      "np.log1p(shortcut_acute)     0.3143      0.239      1.318      0.191      -0.160       0.789\n",
      "==============================================================================\n",
      "Omnibus:                       12.362   Durbin-Watson:                   1.005\n",
      "Prob(Omnibus):                  0.002   Jarque-Bera (JB):               13.005\n",
      "Skew:                           0.897   Prob(JB):                      0.00150\n",
      "Kurtosis:                       3.571   Cond. No.                         2.19\n",
      "==============================================================================\n",
      "\n",
      "Notes:\n",
      "[1] Standard Errors assume that the covariance matrix of the errors is correctly specified.\n"
     ]
    }
   ],
   "source": [
    "# 유의미x\n",
    "test = ols('difficulty ~ np.log1p(shortcut_acute)', data = final_df).fit().summary()\n",
    "print(test)"
   ]
  },
  {
   "cell_type": "markdown",
   "id": "2e3b1529",
   "metadata": {},
   "source": [
    "### ✨shortcut_obtuse : 직각 이상 지름길"
   ]
  },
  {
   "cell_type": "code",
   "execution_count": 46,
   "id": "eff58cb6",
   "metadata": {},
   "outputs": [
    {
     "name": "stdout",
     "output_type": "stream",
     "text": [
      "                            OLS Regression Results                            \n",
      "==============================================================================\n",
      "Dep. Variable:             difficulty   R-squared:                       0.091\n",
      "Model:                            OLS   Adj. R-squared:                  0.080\n",
      "Method:                 Least Squares   F-statistic:                     8.566\n",
      "Date:                Fri, 25 Nov 2022   Prob (F-statistic):            0.00438\n",
      "Time:                        01:51:27   Log-Likelihood:                -130.22\n",
      "No. Observations:                  88   AIC:                             264.4\n",
      "Df Residuals:                      86   BIC:                             269.4\n",
      "Df Model:                           1                                         \n",
      "Covariance Type:            nonrobust                                         \n",
      "===================================================================================\n",
      "                      coef    std err          t      P>|t|      [0.025      0.975]\n",
      "-----------------------------------------------------------------------------------\n",
      "Intercept           2.5272      0.117     21.667      0.000       2.295       2.759\n",
      "shortcut_obtuse     0.4003      0.137      2.927      0.004       0.128       0.672\n",
      "==============================================================================\n",
      "Omnibus:                       10.049   Durbin-Watson:                   1.190\n",
      "Prob(Omnibus):                  0.007   Jarque-Bera (JB):               10.025\n",
      "Skew:                           0.790   Prob(JB):                      0.00665\n",
      "Kurtosis:                       3.488   Cond. No.                         1.28\n",
      "==============================================================================\n",
      "\n",
      "Notes:\n",
      "[1] Standard Errors assume that the covariance matrix of the errors is correctly specified.\n"
     ]
    }
   ],
   "source": [
    "# 수정r제곱 : 0.080\n",
    "test = ols('difficulty ~ shortcut_obtuse', data = final_df).fit().summary()\n",
    "print(test)"
   ]
  },
  {
   "cell_type": "code",
   "execution_count": 47,
   "id": "d544b3b1",
   "metadata": {},
   "outputs": [
    {
     "name": "stdout",
     "output_type": "stream",
     "text": [
      "                            OLS Regression Results                            \n",
      "==============================================================================\n",
      "Dep. Variable:             difficulty   R-squared:                       0.073\n",
      "Model:                            OLS   Adj. R-squared:                  0.062\n",
      "Method:                 Least Squares   F-statistic:                     6.746\n",
      "Date:                Fri, 25 Nov 2022   Prob (F-statistic):             0.0111\n",
      "Time:                        01:51:29   Log-Likelihood:                -131.07\n",
      "No. Observations:                  88   AIC:                             266.1\n",
      "Df Residuals:                      86   BIC:                             271.1\n",
      "Df Model:                           1                                         \n",
      "Covariance Type:            nonrobust                                         \n",
      "=============================================================================================\n",
      "                                coef    std err          t      P>|t|      [0.025      0.975]\n",
      "---------------------------------------------------------------------------------------------\n",
      "Intercept                     2.5236      0.119     21.282      0.000       2.288       2.759\n",
      "np.log1p(shortcut_obtuse)     0.9960      0.383      2.597      0.011       0.234       1.758\n",
      "==============================================================================\n",
      "Omnibus:                        8.815   Durbin-Watson:                   1.157\n",
      "Prob(Omnibus):                  0.012   Jarque-Bera (JB):                8.608\n",
      "Skew:                           0.743   Prob(JB):                       0.0135\n",
      "Kurtosis:                       3.375   Cond. No.                         3.33\n",
      "==============================================================================\n",
      "\n",
      "Notes:\n",
      "[1] Standard Errors assume that the covariance matrix of the errors is correctly specified.\n"
     ]
    }
   ],
   "source": [
    "# 수정r제곱 : 0.062\n",
    "test = ols('difficulty ~ np.log1p(shortcut_obtuse)', data = final_df).fit().summary()\n",
    "print(test)"
   ]
  },
  {
   "cell_type": "markdown",
   "id": "0043e4a2",
   "metadata": {},
   "source": [
    "### shortcut_special : 특수 지름길"
   ]
  },
  {
   "cell_type": "code",
   "execution_count": 48,
   "id": "c463ef4b",
   "metadata": {},
   "outputs": [
    {
     "name": "stdout",
     "output_type": "stream",
     "text": [
      "                            OLS Regression Results                            \n",
      "==============================================================================\n",
      "Dep. Variable:             difficulty   R-squared:                       0.009\n",
      "Model:                            OLS   Adj. R-squared:                 -0.003\n",
      "Method:                 Least Squares   F-statistic:                    0.7629\n",
      "Date:                Fri, 25 Nov 2022   Prob (F-statistic):              0.385\n",
      "Time:                        01:51:31   Log-Likelihood:                -134.00\n",
      "No. Observations:                  88   AIC:                             272.0\n",
      "Df Residuals:                      86   BIC:                             277.0\n",
      "Df Model:                           1                                         \n",
      "Covariance Type:            nonrobust                                         \n",
      "====================================================================================\n",
      "                       coef    std err          t      P>|t|      [0.025      0.975]\n",
      "------------------------------------------------------------------------------------\n",
      "Intercept            2.5459      0.130     19.543      0.000       2.287       2.805\n",
      "shortcut_special     0.1101      0.126      0.873      0.385      -0.140       0.361\n",
      "==============================================================================\n",
      "Omnibus:                       14.439   Durbin-Watson:                   0.944\n",
      "Prob(Omnibus):                  0.001   Jarque-Bera (JB):               15.840\n",
      "Skew:                           0.970   Prob(JB):                     0.000363\n",
      "Kurtosis:                       3.746   Cond. No.                         1.52\n",
      "==============================================================================\n",
      "\n",
      "Notes:\n",
      "[1] Standard Errors assume that the covariance matrix of the errors is correctly specified.\n"
     ]
    }
   ],
   "source": [
    "test = ols('difficulty ~ shortcut_special', data = final_df).fit().summary()\n",
    "print(test)"
   ]
  },
  {
   "cell_type": "code",
   "execution_count": 49,
   "id": "f0e6b85e",
   "metadata": {},
   "outputs": [
    {
     "name": "stdout",
     "output_type": "stream",
     "text": [
      "                            OLS Regression Results                            \n",
      "==============================================================================\n",
      "Dep. Variable:             difficulty   R-squared:                       0.016\n",
      "Model:                            OLS   Adj. R-squared:                  0.005\n",
      "Method:                 Least Squares   F-statistic:                     1.427\n",
      "Date:                Fri, 25 Nov 2022   Prob (F-statistic):              0.236\n",
      "Time:                        01:51:34   Log-Likelihood:                -133.67\n",
      "No. Observations:                  88   AIC:                             271.3\n",
      "Df Residuals:                      86   BIC:                             276.3\n",
      "Df Model:                           1                                         \n",
      "Covariance Type:            nonrobust                                         \n",
      "==============================================================================================\n",
      "                                 coef    std err          t      P>|t|      [0.025      0.975]\n",
      "----------------------------------------------------------------------------------------------\n",
      "Intercept                      2.5264      0.131     19.309      0.000       2.266       2.787\n",
      "np.log1p(shortcut_special)     0.3120      0.261      1.194      0.236      -0.207       0.831\n",
      "==============================================================================\n",
      "Omnibus:                       14.195   Durbin-Watson:                   0.954\n",
      "Prob(Omnibus):                  0.001   Jarque-Bera (JB):               15.502\n",
      "Skew:                           0.966   Prob(JB):                     0.000430\n",
      "Kurtosis:                       3.701   Cond. No.                         2.31\n",
      "==============================================================================\n",
      "\n",
      "Notes:\n",
      "[1] Standard Errors assume that the covariance matrix of the errors is correctly specified.\n"
     ]
    }
   ],
   "source": [
    "test = ols('difficulty ~ np.log1p(shortcut_special)', data = final_df).fit().summary()\n",
    "print(test)"
   ]
  },
  {
   "cell_type": "markdown",
   "id": "da35c642",
   "metadata": {},
   "source": [
    "### ✨ shortcut : 지름길\n",
    "- final_df['shortcut'] = final_df['shortcut_right'] + final_df['shortcut_acute'] + final_df['shortcut_obtuse']+ final_df['shortcut_special']"
   ]
  },
  {
   "cell_type": "code",
   "execution_count": 50,
   "id": "451a3819",
   "metadata": {},
   "outputs": [
    {
     "name": "stdout",
     "output_type": "stream",
     "text": [
      "                            OLS Regression Results                            \n",
      "==============================================================================\n",
      "Dep. Variable:             difficulty   R-squared:                       0.134\n",
      "Model:                            OLS   Adj. R-squared:                  0.124\n",
      "Method:                 Least Squares   F-statistic:                     13.28\n",
      "Date:                Fri, 25 Nov 2022   Prob (F-statistic):           0.000459\n",
      "Time:                        01:51:36   Log-Likelihood:                -128.08\n",
      "No. Observations:                  88   AIC:                             260.2\n",
      "Df Residuals:                      86   BIC:                             265.1\n",
      "Df Model:                           1                                         \n",
      "Covariance Type:            nonrobust                                         \n",
      "==============================================================================\n",
      "                 coef    std err          t      P>|t|      [0.025      0.975]\n",
      "------------------------------------------------------------------------------\n",
      "Intercept      2.3178      0.135     17.214      0.000       2.050       2.585\n",
      "shortcut       0.1448      0.040      3.644      0.000       0.066       0.224\n",
      "==============================================================================\n",
      "Omnibus:                       11.533   Durbin-Watson:                   1.111\n",
      "Prob(Omnibus):                  0.003   Jarque-Bera (JB):               12.147\n",
      "Skew:                           0.892   Prob(JB):                      0.00230\n",
      "Kurtosis:                       3.362   Cond. No.                         4.20\n",
      "==============================================================================\n",
      "\n",
      "Notes:\n",
      "[1] Standard Errors assume that the covariance matrix of the errors is correctly specified.\n"
     ]
    }
   ],
   "source": [
    "# 수정 r제곱 0.124\n",
    "test = ols('difficulty ~ shortcut', data = final_df).fit().summary()\n",
    "print(test)"
   ]
  },
  {
   "cell_type": "markdown",
   "id": "f6682691",
   "metadata": {},
   "source": [
    "### obstacle_fixed : 고정 장애물"
   ]
  },
  {
   "cell_type": "code",
   "execution_count": 51,
   "id": "fa816178",
   "metadata": {},
   "outputs": [
    {
     "name": "stdout",
     "output_type": "stream",
     "text": [
      "                            OLS Regression Results                            \n",
      "==============================================================================\n",
      "Dep. Variable:             difficulty   R-squared:                       0.039\n",
      "Model:                            OLS   Adj. R-squared:                  0.028\n",
      "Method:                 Least Squares   F-statistic:                     3.529\n",
      "Date:                Fri, 25 Nov 2022   Prob (F-statistic):             0.0637\n",
      "Time:                        01:51:38   Log-Likelihood:                -132.62\n",
      "No. Observations:                  88   AIC:                             269.2\n",
      "Df Residuals:                      86   BIC:                             274.2\n",
      "Df Model:                           1                                         \n",
      "Covariance Type:            nonrobust                                         \n",
      "==================================================================================\n",
      "                     coef    std err          t      P>|t|      [0.025      0.975]\n",
      "----------------------------------------------------------------------------------\n",
      "Intercept          2.3890      0.159     14.984      0.000       2.072       2.706\n",
      "obstacle_fixed     0.0395      0.021      1.879      0.064      -0.002       0.081\n",
      "==============================================================================\n",
      "Omnibus:                       13.161   Durbin-Watson:                   0.965\n",
      "Prob(Omnibus):                  0.001   Jarque-Bera (JB):               14.034\n",
      "Skew:                           0.898   Prob(JB):                     0.000896\n",
      "Kurtosis:                       3.775   Cond. No.                         10.4\n",
      "==============================================================================\n",
      "\n",
      "Notes:\n",
      "[1] Standard Errors assume that the covariance matrix of the errors is correctly specified.\n"
     ]
    }
   ],
   "source": [
    "test = ols('difficulty ~ obstacle_fixed', data = final_df).fit().summary()\n",
    "print(test)"
   ]
  },
  {
   "cell_type": "code",
   "execution_count": 52,
   "id": "fb5dca20",
   "metadata": {},
   "outputs": [
    {
     "name": "stdout",
     "output_type": "stream",
     "text": [
      "                            OLS Regression Results                            \n",
      "==============================================================================\n",
      "Dep. Variable:             difficulty   R-squared:                       0.035\n",
      "Model:                            OLS   Adj. R-squared:                  0.023\n",
      "Method:                 Least Squares   F-statistic:                     3.084\n",
      "Date:                Fri, 25 Nov 2022   Prob (F-statistic):             0.0826\n",
      "Time:                        01:51:40   Log-Likelihood:                -132.84\n",
      "No. Observations:                  88   AIC:                             269.7\n",
      "Df Residuals:                      86   BIC:                             274.6\n",
      "Df Model:                           1                                         \n",
      "Covariance Type:            nonrobust                                         \n",
      "============================================================================================\n",
      "                               coef    std err          t      P>|t|      [0.025      0.975]\n",
      "--------------------------------------------------------------------------------------------\n",
      "Intercept                    2.2935      0.206     11.109      0.000       1.883       2.704\n",
      "np.log1p(obstacle_fixed)     0.2137      0.122      1.756      0.083      -0.028       0.456\n",
      "==============================================================================\n",
      "Omnibus:                       12.345   Durbin-Watson:                   0.958\n",
      "Prob(Omnibus):                  0.002   Jarque-Bera (JB):               12.932\n",
      "Skew:                           0.881   Prob(JB):                      0.00156\n",
      "Kurtosis:                       3.648   Cond. No.                         3.73\n",
      "==============================================================================\n",
      "\n",
      "Notes:\n",
      "[1] Standard Errors assume that the covariance matrix of the errors is correctly specified.\n"
     ]
    }
   ],
   "source": [
    "test = ols('difficulty ~ np.log1p(obstacle_fixed)', data = final_df).fit().summary()\n",
    "print(test)"
   ]
  },
  {
   "cell_type": "markdown",
   "id": "331c32ed",
   "metadata": {},
   "source": [
    "### obstacle_moved : 움직이는 장애물"
   ]
  },
  {
   "cell_type": "code",
   "execution_count": 53,
   "id": "4fa2b5bc",
   "metadata": {},
   "outputs": [
    {
     "name": "stdout",
     "output_type": "stream",
     "text": [
      "                            OLS Regression Results                            \n",
      "==============================================================================\n",
      "Dep. Variable:             difficulty   R-squared:                       0.012\n",
      "Model:                            OLS   Adj. R-squared:                  0.001\n",
      "Method:                 Least Squares   F-statistic:                     1.070\n",
      "Date:                Fri, 25 Nov 2022   Prob (F-statistic):              0.304\n",
      "Time:                        01:51:42   Log-Likelihood:                -133.85\n",
      "No. Observations:                  88   AIC:                             271.7\n",
      "Df Residuals:                      86   BIC:                             276.7\n",
      "Df Model:                           1                                         \n",
      "Covariance Type:            nonrobust                                         \n",
      "============================================================================================\n",
      "                               coef    std err          t      P>|t|      [0.025      0.975]\n",
      "--------------------------------------------------------------------------------------------\n",
      "Intercept                    2.6485      0.132     20.100      0.000       2.387       2.910\n",
      "np.log1p(obstacle_moved)    -0.1915      0.185     -1.034      0.304      -0.560       0.177\n",
      "==============================================================================\n",
      "Omnibus:                       13.297   Durbin-Watson:                   0.960\n",
      "Prob(Omnibus):                  0.001   Jarque-Bera (JB):               14.225\n",
      "Skew:                           0.921   Prob(JB):                     0.000815\n",
      "Kurtosis:                       3.699   Cond. No.                         1.77\n",
      "==============================================================================\n",
      "\n",
      "Notes:\n",
      "[1] Standard Errors assume that the covariance matrix of the errors is correctly specified.\n"
     ]
    }
   ],
   "source": [
    "test = ols('difficulty ~ np.log1p(obstacle_moved)', data = final_df).fit().summary()\n",
    "print(test)"
   ]
  },
  {
   "cell_type": "markdown",
   "id": "cab4d744",
   "metadata": {},
   "source": [
    "### obstacle : 장애물 개수\n",
    "- final_df['obstacle'] = final_df['obstacle_fixed'] + final_df['obstacle_moved']"
   ]
  },
  {
   "cell_type": "code",
   "execution_count": 54,
   "id": "78eda8c1",
   "metadata": {},
   "outputs": [
    {
     "name": "stdout",
     "output_type": "stream",
     "text": [
      "                            OLS Regression Results                            \n",
      "==============================================================================\n",
      "Dep. Variable:             difficulty   R-squared:                       0.026\n",
      "Model:                            OLS   Adj. R-squared:                  0.015\n",
      "Method:                 Least Squares   F-statistic:                     2.288\n",
      "Date:                Fri, 25 Nov 2022   Prob (F-statistic):              0.134\n",
      "Time:                        01:51:44   Log-Likelihood:                -133.24\n",
      "No. Observations:                  88   AIC:                             270.5\n",
      "Df Residuals:                      86   BIC:                             275.4\n",
      "Df Model:                           1                                         \n",
      "Covariance Type:            nonrobust                                         \n",
      "==============================================================================\n",
      "                 coef    std err          t      P>|t|      [0.025      0.975]\n",
      "------------------------------------------------------------------------------\n",
      "Intercept      2.4141      0.167     14.498      0.000       2.083       2.745\n",
      "obstacle       0.0297      0.020      1.513      0.134      -0.009       0.069\n",
      "==============================================================================\n",
      "Omnibus:                       13.898   Durbin-Watson:                   0.952\n",
      "Prob(Omnibus):                  0.001   Jarque-Bera (JB):               15.078\n",
      "Skew:                           0.925   Prob(JB):                     0.000532\n",
      "Kurtosis:                       3.831   Cond. No.                         12.0\n",
      "==============================================================================\n",
      "\n",
      "Notes:\n",
      "[1] Standard Errors assume that the covariance matrix of the errors is correctly specified.\n"
     ]
    }
   ],
   "source": [
    "test = ols('difficulty ~ obstacle', data = final_df).fit().summary()\n",
    "print(test)"
   ]
  },
  {
   "cell_type": "markdown",
   "id": "12f95a1f",
   "metadata": {},
   "source": [
    "### ✨sum_straight_curve : 전체 구간 개수 (A+E)"
   ]
  },
  {
   "cell_type": "code",
   "execution_count": 55,
   "id": "d5e3777f",
   "metadata": {},
   "outputs": [
    {
     "name": "stdout",
     "output_type": "stream",
     "text": [
      "                            OLS Regression Results                            \n",
      "==============================================================================\n",
      "Dep. Variable:             difficulty   R-squared:                       0.080\n",
      "Model:                            OLS   Adj. R-squared:                  0.069\n",
      "Method:                 Least Squares   F-statistic:                     7.452\n",
      "Date:                Fri, 25 Nov 2022   Prob (F-statistic):            0.00769\n",
      "Time:                        01:51:45   Log-Likelihood:                -130.74\n",
      "No. Observations:                  88   AIC:                             265.5\n",
      "Df Residuals:                      86   BIC:                             270.4\n",
      "Df Model:                           1                                         \n",
      "Covariance Type:            nonrobust                                         \n",
      "======================================================================================\n",
      "                         coef    std err          t      P>|t|      [0.025      0.975]\n",
      "--------------------------------------------------------------------------------------\n",
      "Intercept              1.5394      0.402      3.828      0.000       0.740       2.339\n",
      "sum_straight_curve     0.0109      0.004      2.730      0.008       0.003       0.019\n",
      "==============================================================================\n",
      "Omnibus:                        5.230   Durbin-Watson:                   0.923\n",
      "Prob(Omnibus):                  0.073   Jarque-Bera (JB):                5.164\n",
      "Skew:                           0.591   Prob(JB):                       0.0756\n",
      "Kurtosis:                       2.896   Cond. No.                         352.\n",
      "==============================================================================\n",
      "\n",
      "Notes:\n",
      "[1] Standard Errors assume that the covariance matrix of the errors is correctly specified.\n"
     ]
    }
   ],
   "source": [
    "#수정R제곱 : 0.069\n",
    "test = ols('difficulty ~ sum_straight_curve', data = final_df).fit().summary()\n",
    "print(test)"
   ]
  },
  {
   "cell_type": "markdown",
   "id": "30de72da",
   "metadata": {},
   "source": [
    "### ✨ fence_exist : 펜스 없는 구간 유무"
   ]
  },
  {
   "cell_type": "code",
   "execution_count": 57,
   "id": "1a7b5e96",
   "metadata": {},
   "outputs": [
    {
     "name": "stdout",
     "output_type": "stream",
     "text": [
      "                            OLS Regression Results                            \n",
      "==============================================================================\n",
      "Dep. Variable:             difficulty   R-squared:                       0.140\n",
      "Model:                            OLS   Adj. R-squared:                  0.130\n",
      "Method:                 Least Squares   F-statistic:                     14.04\n",
      "Date:                Fri, 25 Nov 2022   Prob (F-statistic):           0.000323\n",
      "Time:                        01:51:58   Log-Likelihood:                -127.74\n",
      "No. Observations:                  88   AIC:                             259.5\n",
      "Df Residuals:                      86   BIC:                             264.4\n",
      "Df Model:                           1                                         \n",
      "Covariance Type:            nonrobust                                         \n",
      "=======================================================================================\n",
      "                          coef    std err          t      P>|t|      [0.025      0.975]\n",
      "---------------------------------------------------------------------------------------\n",
      "Intercept               2.2353      0.146     15.274      0.000       1.944       2.526\n",
      "C(fence_exist)[T.1]     0.8458      0.226      3.748      0.000       0.397       1.294\n",
      "==============================================================================\n",
      "Omnibus:                        8.641   Durbin-Watson:                   1.106\n",
      "Prob(Omnibus):                  0.013   Jarque-Bera (JB):                8.271\n",
      "Skew:                           0.672   Prob(JB):                       0.0160\n",
      "Kurtosis:                       3.671   Cond. No.                         2.47\n",
      "==============================================================================\n",
      "\n",
      "Notes:\n",
      "[1] Standard Errors assume that the covariance matrix of the errors is correctly specified.\n"
     ]
    }
   ],
   "source": [
    "#수정R제곱 : 0.130\n",
    "test = ols('difficulty ~ C(fence_exist)', data = final_df).fit().summary()\n",
    "print(test)"
   ]
  },
  {
   "cell_type": "markdown",
   "id": "bc5e5b48",
   "metadata": {},
   "source": [
    "### mean_road_level  : 도로폭"
   ]
  },
  {
   "cell_type": "code",
   "execution_count": 58,
   "id": "1b77bd74",
   "metadata": {},
   "outputs": [
    {
     "name": "stdout",
     "output_type": "stream",
     "text": [
      "                            OLS Regression Results                            \n",
      "==============================================================================\n",
      "Dep. Variable:             difficulty   R-squared:                       0.007\n",
      "Model:                            OLS   Adj. R-squared:                 -0.004\n",
      "Method:                 Least Squares   F-statistic:                    0.6138\n",
      "Date:                Fri, 25 Nov 2022   Prob (F-statistic):              0.436\n",
      "Time:                        01:52:01   Log-Likelihood:                -134.08\n",
      "No. Observations:                  88   AIC:                             272.2\n",
      "Df Residuals:                      86   BIC:                             277.1\n",
      "Df Model:                           1                                         \n",
      "Covariance Type:            nonrobust                                         \n",
      "===================================================================================\n",
      "                      coef    std err          t      P>|t|      [0.025      0.975]\n",
      "-----------------------------------------------------------------------------------\n",
      "Intercept           2.8334      0.332      8.537      0.000       2.174       3.493\n",
      "mean_road_level    -0.1793      0.229     -0.783      0.436      -0.634       0.276\n",
      "==============================================================================\n",
      "Omnibus:                       12.896   Durbin-Watson:                   0.996\n",
      "Prob(Omnibus):                  0.002   Jarque-Bera (JB):               13.706\n",
      "Skew:                           0.916   Prob(JB):                      0.00106\n",
      "Kurtosis:                       3.617   Cond. No.                         5.76\n",
      "==============================================================================\n",
      "\n",
      "Notes:\n",
      "[1] Standard Errors assume that the covariance matrix of the errors is correctly specified.\n"
     ]
    }
   ],
   "source": [
    "test = ols('difficulty ~ mean_road_level', data = final_df).fit().summary()\n",
    "print(test)"
   ]
  },
  {
   "cell_type": "markdown",
   "id": "a3e50979",
   "metadata": {},
   "source": [
    "### ✨length  : 길이\n",
    "- 설명력 38%"
   ]
  },
  {
   "cell_type": "code",
   "execution_count": 59,
   "id": "8ab1f1b0",
   "metadata": {},
   "outputs": [
    {
     "name": "stdout",
     "output_type": "stream",
     "text": [
      "                            OLS Regression Results                            \n",
      "==============================================================================\n",
      "Dep. Variable:             difficulty   R-squared:                       0.394\n",
      "Model:                            OLS   Adj. R-squared:                  0.387\n",
      "Method:                 Least Squares   F-statistic:                     55.94\n",
      "Date:                Fri, 25 Nov 2022   Prob (F-statistic):           5.90e-11\n",
      "Time:                        01:52:03   Log-Likelihood:                -112.35\n",
      "No. Observations:                  88   AIC:                             228.7\n",
      "Df Residuals:                      86   BIC:                             233.6\n",
      "Df Model:                           1                                         \n",
      "Covariance Type:            nonrobust                                         \n",
      "==============================================================================\n",
      "                 coef    std err          t      P>|t|      [0.025      0.975]\n",
      "------------------------------------------------------------------------------\n",
      "Intercept      0.3524      0.314      1.124      0.264      -0.271       0.976\n",
      "length         0.3068      0.041      7.479      0.000       0.225       0.388\n",
      "==============================================================================\n",
      "Omnibus:                        2.854   Durbin-Watson:                   1.460\n",
      "Prob(Omnibus):                  0.240   Jarque-Bera (JB):                2.514\n",
      "Skew:                           0.314   Prob(JB):                        0.285\n",
      "Kurtosis:                       2.461   Cond. No.                         26.0\n",
      "==============================================================================\n",
      "\n",
      "Notes:\n",
      "[1] Standard Errors assume that the covariance matrix of the errors is correctly specified.\n"
     ]
    }
   ],
   "source": [
    "test = ols('difficulty ~ length', data = final_df).fit().summary()\n",
    "print(test)"
   ]
  },
  {
   "cell_type": "markdown",
   "id": "3847f070",
   "metadata": {},
   "source": [
    "## 다중공선성 확인"
   ]
  },
  {
   "cell_type": "code",
   "execution_count": 60,
   "id": "d80459df",
   "metadata": {},
   "outputs": [
    {
     "data": {
      "text/plain": [
       "Index(['track_name', 'difficulty', 'lap', 'length', 'direction', 'theme',\n",
       "       'year', 'month', 'cnt_match', 'percent_retire', 'AVG_record',\n",
       "       'straight_jump', 'straight_uphill', 'straight_downhill',\n",
       "       'straight_all_section', 'trigger_accel', 'trigger_warp',\n",
       "       'trigger_decel', 'trigger_jump', 'curve_hairpin', 'curve_acute',\n",
       "       'curve_obtuse', 'curve_continuous', 'curve_continuous_acute',\n",
       "       'curve_continuous_obtuse', 'curve_all_section', 'shortcut_right',\n",
       "       'shortcut_acute', 'shortcut_obtuse', 'shortcut_special',\n",
       "       'obstacle_fixed', 'obstacle_moved', 'sum_straight_curve', 'track_upper',\n",
       "       'fence_exist', 'mean_road_level', 'updownhill', 'ratio_straight',\n",
       "       'ratio_curve', 'ratio_hairpin', 'ratio_acute', 'ratio_obtuse',\n",
       "       'ratio_shortcut_right', 'ratio_shortcut_acute', 'ratio_shortcut_obtuse',\n",
       "       'ratio_shortcut_special', 'obstacle', 'speed', 'shortcut'],\n",
       "      dtype='object')"
      ]
     },
     "execution_count": 60,
     "metadata": {},
     "output_type": "execute_result"
    }
   ],
   "source": [
    "final_df.columns"
   ]
  },
  {
   "cell_type": "code",
   "execution_count": 61,
   "id": "3c438eef",
   "metadata": {},
   "outputs": [
    {
     "data": {
      "text/html": [
       "<div>\n",
       "<style scoped>\n",
       "    .dataframe tbody tr th:only-of-type {\n",
       "        vertical-align: middle;\n",
       "    }\n",
       "\n",
       "    .dataframe tbody tr th {\n",
       "        vertical-align: top;\n",
       "    }\n",
       "\n",
       "    .dataframe thead th {\n",
       "        text-align: right;\n",
       "    }\n",
       "</style>\n",
       "<table border=\"1\" class=\"dataframe\">\n",
       "  <thead>\n",
       "    <tr style=\"text-align: right;\">\n",
       "      <th></th>\n",
       "      <th>VIF_Factor</th>\n",
       "      <th>Feature</th>\n",
       "    </tr>\n",
       "  </thead>\n",
       "  <tbody>\n",
       "    <tr>\n",
       "      <th>19</th>\n",
       "      <td>inf</td>\n",
       "      <td>obstacle_fixed</td>\n",
       "    </tr>\n",
       "    <tr>\n",
       "      <th>10</th>\n",
       "      <td>inf</td>\n",
       "      <td>curve_obtuse</td>\n",
       "    </tr>\n",
       "    <tr>\n",
       "      <th>31</th>\n",
       "      <td>inf</td>\n",
       "      <td>updownhill</td>\n",
       "    </tr>\n",
       "    <tr>\n",
       "      <th>1</th>\n",
       "      <td>inf</td>\n",
       "      <td>straight_uphill</td>\n",
       "    </tr>\n",
       "    <tr>\n",
       "      <th>21</th>\n",
       "      <td>inf</td>\n",
       "      <td>sum_straight_curve</td>\n",
       "    </tr>\n",
       "    <tr>\n",
       "      <th>20</th>\n",
       "      <td>inf</td>\n",
       "      <td>obstacle_moved</td>\n",
       "    </tr>\n",
       "    <tr>\n",
       "      <th>32</th>\n",
       "      <td>inf</td>\n",
       "      <td>ratio_straight</td>\n",
       "    </tr>\n",
       "    <tr>\n",
       "      <th>33</th>\n",
       "      <td>inf</td>\n",
       "      <td>ratio_curve</td>\n",
       "    </tr>\n",
       "    <tr>\n",
       "      <th>14</th>\n",
       "      <td>inf</td>\n",
       "      <td>curve_all_section</td>\n",
       "    </tr>\n",
       "    <tr>\n",
       "      <th>34</th>\n",
       "      <td>inf</td>\n",
       "      <td>ratio_hairpin</td>\n",
       "    </tr>\n",
       "    <tr>\n",
       "      <th>35</th>\n",
       "      <td>inf</td>\n",
       "      <td>ratio_acute</td>\n",
       "    </tr>\n",
       "    <tr>\n",
       "      <th>9</th>\n",
       "      <td>inf</td>\n",
       "      <td>curve_acute</td>\n",
       "    </tr>\n",
       "    <tr>\n",
       "      <th>8</th>\n",
       "      <td>inf</td>\n",
       "      <td>curve_hairpin</td>\n",
       "    </tr>\n",
       "    <tr>\n",
       "      <th>41</th>\n",
       "      <td>inf</td>\n",
       "      <td>obstacle</td>\n",
       "    </tr>\n",
       "    <tr>\n",
       "      <th>36</th>\n",
       "      <td>inf</td>\n",
       "      <td>ratio_obtuse</td>\n",
       "    </tr>\n",
       "    <tr>\n",
       "      <th>3</th>\n",
       "      <td>inf</td>\n",
       "      <td>straight_all_section</td>\n",
       "    </tr>\n",
       "    <tr>\n",
       "      <th>2</th>\n",
       "      <td>inf</td>\n",
       "      <td>straight_downhill</td>\n",
       "    </tr>\n",
       "    <tr>\n",
       "      <th>24</th>\n",
       "      <td>79.236980</td>\n",
       "      <td>AVG_record</td>\n",
       "    </tr>\n",
       "    <tr>\n",
       "      <th>25</th>\n",
       "      <td>43.294651</td>\n",
       "      <td>length</td>\n",
       "    </tr>\n",
       "    <tr>\n",
       "      <th>11</th>\n",
       "      <td>35.433646</td>\n",
       "      <td>curve_continuous</td>\n",
       "    </tr>\n",
       "    <tr>\n",
       "      <th>42</th>\n",
       "      <td>13.776474</td>\n",
       "      <td>speed</td>\n",
       "    </tr>\n",
       "    <tr>\n",
       "      <th>17</th>\n",
       "      <td>8.825333</td>\n",
       "      <td>shortcut_obtuse</td>\n",
       "    </tr>\n",
       "    <tr>\n",
       "      <th>18</th>\n",
       "      <td>8.736293</td>\n",
       "      <td>shortcut_special</td>\n",
       "    </tr>\n",
       "    <tr>\n",
       "      <th>40</th>\n",
       "      <td>8.179303</td>\n",
       "      <td>ratio_shortcut_special</td>\n",
       "    </tr>\n",
       "    <tr>\n",
       "      <th>15</th>\n",
       "      <td>7.919644</td>\n",
       "      <td>shortcut_right</td>\n",
       "    </tr>\n",
       "    <tr>\n",
       "      <th>22</th>\n",
       "      <td>7.712218</td>\n",
       "      <td>lap</td>\n",
       "    </tr>\n",
       "    <tr>\n",
       "      <th>26</th>\n",
       "      <td>7.335010</td>\n",
       "      <td>difficulty</td>\n",
       "    </tr>\n",
       "    <tr>\n",
       "      <th>12</th>\n",
       "      <td>7.076640</td>\n",
       "      <td>curve_continuous_acute</td>\n",
       "    </tr>\n",
       "    <tr>\n",
       "      <th>39</th>\n",
       "      <td>6.491755</td>\n",
       "      <td>ratio_shortcut_obtuse</td>\n",
       "    </tr>\n",
       "    <tr>\n",
       "      <th>37</th>\n",
       "      <td>6.466210</td>\n",
       "      <td>ratio_shortcut_right</td>\n",
       "    </tr>\n",
       "    <tr>\n",
       "      <th>13</th>\n",
       "      <td>5.435150</td>\n",
       "      <td>curve_continuous_obtuse</td>\n",
       "    </tr>\n",
       "    <tr>\n",
       "      <th>38</th>\n",
       "      <td>4.364694</td>\n",
       "      <td>ratio_shortcut_acute</td>\n",
       "    </tr>\n",
       "    <tr>\n",
       "      <th>16</th>\n",
       "      <td>4.167649</td>\n",
       "      <td>shortcut_acute</td>\n",
       "    </tr>\n",
       "    <tr>\n",
       "      <th>23</th>\n",
       "      <td>3.404763</td>\n",
       "      <td>percent_retire</td>\n",
       "    </tr>\n",
       "    <tr>\n",
       "      <th>29</th>\n",
       "      <td>3.379795</td>\n",
       "      <td>track_upper</td>\n",
       "    </tr>\n",
       "    <tr>\n",
       "      <th>4</th>\n",
       "      <td>2.991358</td>\n",
       "      <td>trigger_accel</td>\n",
       "    </tr>\n",
       "    <tr>\n",
       "      <th>28</th>\n",
       "      <td>2.551670</td>\n",
       "      <td>year</td>\n",
       "    </tr>\n",
       "    <tr>\n",
       "      <th>30</th>\n",
       "      <td>2.452535</td>\n",
       "      <td>fence_exist</td>\n",
       "    </tr>\n",
       "    <tr>\n",
       "      <th>0</th>\n",
       "      <td>2.433602</td>\n",
       "      <td>straight_jump</td>\n",
       "    </tr>\n",
       "    <tr>\n",
       "      <th>5</th>\n",
       "      <td>2.307539</td>\n",
       "      <td>trigger_warp</td>\n",
       "    </tr>\n",
       "    <tr>\n",
       "      <th>27</th>\n",
       "      <td>2.280614</td>\n",
       "      <td>month</td>\n",
       "    </tr>\n",
       "    <tr>\n",
       "      <th>7</th>\n",
       "      <td>2.022654</td>\n",
       "      <td>trigger_jump</td>\n",
       "    </tr>\n",
       "    <tr>\n",
       "      <th>43</th>\n",
       "      <td>1.828796</td>\n",
       "      <td>mean_road_level</td>\n",
       "    </tr>\n",
       "    <tr>\n",
       "      <th>6</th>\n",
       "      <td>1.792394</td>\n",
       "      <td>trigger_decel</td>\n",
       "    </tr>\n",
       "  </tbody>\n",
       "</table>\n",
       "</div>"
      ],
      "text/plain": [
       "    VIF_Factor                  Feature\n",
       "19         inf           obstacle_fixed\n",
       "10         inf             curve_obtuse\n",
       "31         inf               updownhill\n",
       "1          inf          straight_uphill\n",
       "21         inf       sum_straight_curve\n",
       "20         inf           obstacle_moved\n",
       "32         inf           ratio_straight\n",
       "33         inf              ratio_curve\n",
       "14         inf        curve_all_section\n",
       "34         inf            ratio_hairpin\n",
       "35         inf              ratio_acute\n",
       "9          inf              curve_acute\n",
       "8          inf            curve_hairpin\n",
       "41         inf                 obstacle\n",
       "36         inf             ratio_obtuse\n",
       "3          inf     straight_all_section\n",
       "2          inf        straight_downhill\n",
       "24   79.236980               AVG_record\n",
       "25   43.294651                   length\n",
       "11   35.433646         curve_continuous\n",
       "42   13.776474                    speed\n",
       "17    8.825333          shortcut_obtuse\n",
       "18    8.736293         shortcut_special\n",
       "40    8.179303   ratio_shortcut_special\n",
       "15    7.919644           shortcut_right\n",
       "22    7.712218                      lap\n",
       "26    7.335010               difficulty\n",
       "12    7.076640   curve_continuous_acute\n",
       "39    6.491755    ratio_shortcut_obtuse\n",
       "37    6.466210     ratio_shortcut_right\n",
       "13    5.435150  curve_continuous_obtuse\n",
       "38    4.364694     ratio_shortcut_acute\n",
       "16    4.167649           shortcut_acute\n",
       "23    3.404763           percent_retire\n",
       "29    3.379795              track_upper\n",
       "4     2.991358            trigger_accel\n",
       "28    2.551670                     year\n",
       "30    2.452535              fence_exist\n",
       "0     2.433602            straight_jump\n",
       "5     2.307539             trigger_warp\n",
       "27    2.280614                    month\n",
       "7     2.022654             trigger_jump\n",
       "43    1.828796          mean_road_level\n",
       "6     1.792394            trigger_decel"
      ]
     },
     "execution_count": 61,
     "metadata": {},
     "output_type": "execute_result"
    }
   ],
   "source": [
    "#object 형을 넣으면 오류 발생 : 'theme',  'direction'\n",
    "vif_scaled_test_df = final_df[['straight_jump', 'straight_uphill', 'straight_downhill',\n",
    "       'straight_all_section', 'trigger_accel', 'trigger_warp',\n",
    "       'trigger_decel', 'trigger_jump', 'curve_hairpin', 'curve_acute',\n",
    "       'curve_obtuse', 'curve_continuous', 'curve_continuous_acute',\n",
    "       'curve_continuous_obtuse', 'curve_all_section', 'shortcut_right',\n",
    "       'shortcut_acute', 'shortcut_obtuse', 'shortcut_special',\n",
    "       'obstacle_fixed', 'obstacle_moved', 'sum_straight_curve', 'lap',\n",
    "       'percent_retire', 'AVG_record', 'length',\n",
    "       'difficulty', 'month', 'year', 'track_upper',\n",
    "       'fence_exist', 'updownhill', 'ratio_straight',\n",
    "       'ratio_curve', 'ratio_hairpin', 'ratio_acute', 'ratio_obtuse',\n",
    "       'ratio_shortcut_right', 'ratio_shortcut_acute', 'ratio_shortcut_obtuse',\n",
    "       'ratio_shortcut_special', 'obstacle', 'speed','mean_road_level']]\n",
    "\n",
    "# extract effective features using variance inflation factor\n",
    "vif = pd.DataFrame()\n",
    "df = vif_scaled_test_df   # 여기에 다중공선성 볼 테이블을 넣어주세요\n",
    "# variance_inflation_factor(X, i) : Xi를 x나머지로 회귀분석한 후 VIF값을 구한것. 즉 xi의 vif값. 즉 이값이 높을수록 종속성이 높다는 뜻\n",
    "vif['VIF_Factor'] = [variance_inflation_factor(df.values, i)\n",
    "                     for i in range(df.shape[1])]\n",
    "vif['Feature'] = df.columns\n",
    "vif.sort_values(by='VIF_Factor', ascending=False)\n"
   ]
  },
  {
   "cell_type": "code",
   "execution_count": 62,
   "id": "f9ff74ca",
   "metadata": {},
   "outputs": [
    {
     "data": {
      "text/html": [
       "<div>\n",
       "<style scoped>\n",
       "    .dataframe tbody tr th:only-of-type {\n",
       "        vertical-align: middle;\n",
       "    }\n",
       "\n",
       "    .dataframe tbody tr th {\n",
       "        vertical-align: top;\n",
       "    }\n",
       "\n",
       "    .dataframe thead th {\n",
       "        text-align: right;\n",
       "    }\n",
       "</style>\n",
       "<table border=\"1\" class=\"dataframe\">\n",
       "  <thead>\n",
       "    <tr style=\"text-align: right;\">\n",
       "      <th></th>\n",
       "      <th>VIF_Factor</th>\n",
       "      <th>Feature</th>\n",
       "    </tr>\n",
       "  </thead>\n",
       "  <tbody>\n",
       "    <tr>\n",
       "      <th>9</th>\n",
       "      <td>9.050885</td>\n",
       "      <td>curve_all_section</td>\n",
       "    </tr>\n",
       "    <tr>\n",
       "      <th>3</th>\n",
       "      <td>7.851261</td>\n",
       "      <td>straight_all_section</td>\n",
       "    </tr>\n",
       "    <tr>\n",
       "      <th>18</th>\n",
       "      <td>7.696988</td>\n",
       "      <td>mean_road_level</td>\n",
       "    </tr>\n",
       "    <tr>\n",
       "      <th>8</th>\n",
       "      <td>5.420156</td>\n",
       "      <td>curve_hairpin</td>\n",
       "    </tr>\n",
       "    <tr>\n",
       "      <th>1</th>\n",
       "      <td>4.087195</td>\n",
       "      <td>straight_uphill</td>\n",
       "    </tr>\n",
       "    <tr>\n",
       "      <th>2</th>\n",
       "      <td>3.639820</td>\n",
       "      <td>straight_downhill</td>\n",
       "    </tr>\n",
       "    <tr>\n",
       "      <th>10</th>\n",
       "      <td>3.046880</td>\n",
       "      <td>shortcut_right</td>\n",
       "    </tr>\n",
       "    <tr>\n",
       "      <th>16</th>\n",
       "      <td>2.776074</td>\n",
       "      <td>track_upper</td>\n",
       "    </tr>\n",
       "    <tr>\n",
       "      <th>17</th>\n",
       "      <td>2.550491</td>\n",
       "      <td>fence_exist</td>\n",
       "    </tr>\n",
       "    <tr>\n",
       "      <th>14</th>\n",
       "      <td>2.407937</td>\n",
       "      <td>obstacle_fixed</td>\n",
       "    </tr>\n",
       "    <tr>\n",
       "      <th>6</th>\n",
       "      <td>2.299818</td>\n",
       "      <td>trigger_decel</td>\n",
       "    </tr>\n",
       "    <tr>\n",
       "      <th>0</th>\n",
       "      <td>1.737831</td>\n",
       "      <td>straight_jump</td>\n",
       "    </tr>\n",
       "    <tr>\n",
       "      <th>7</th>\n",
       "      <td>1.617669</td>\n",
       "      <td>trigger_jump</td>\n",
       "    </tr>\n",
       "    <tr>\n",
       "      <th>5</th>\n",
       "      <td>1.580086</td>\n",
       "      <td>trigger_warp</td>\n",
       "    </tr>\n",
       "    <tr>\n",
       "      <th>15</th>\n",
       "      <td>1.467112</td>\n",
       "      <td>obstacle_moved</td>\n",
       "    </tr>\n",
       "    <tr>\n",
       "      <th>13</th>\n",
       "      <td>1.459173</td>\n",
       "      <td>shortcut_special</td>\n",
       "    </tr>\n",
       "    <tr>\n",
       "      <th>4</th>\n",
       "      <td>1.449475</td>\n",
       "      <td>trigger_accel</td>\n",
       "    </tr>\n",
       "    <tr>\n",
       "      <th>12</th>\n",
       "      <td>1.435060</td>\n",
       "      <td>shortcut_obtuse</td>\n",
       "    </tr>\n",
       "    <tr>\n",
       "      <th>11</th>\n",
       "      <td>1.424249</td>\n",
       "      <td>shortcut_acute</td>\n",
       "    </tr>\n",
       "  </tbody>\n",
       "</table>\n",
       "</div>"
      ],
      "text/plain": [
       "    VIF_Factor               Feature\n",
       "9     9.050885     curve_all_section\n",
       "3     7.851261  straight_all_section\n",
       "18    7.696988       mean_road_level\n",
       "8     5.420156         curve_hairpin\n",
       "1     4.087195       straight_uphill\n",
       "2     3.639820     straight_downhill\n",
       "10    3.046880        shortcut_right\n",
       "16    2.776074           track_upper\n",
       "17    2.550491           fence_exist\n",
       "14    2.407937        obstacle_fixed\n",
       "6     2.299818         trigger_decel\n",
       "0     1.737831         straight_jump\n",
       "7     1.617669          trigger_jump\n",
       "5     1.580086          trigger_warp\n",
       "15    1.467112        obstacle_moved\n",
       "13    1.459173      shortcut_special\n",
       "4     1.449475         trigger_accel\n",
       "12    1.435060       shortcut_obtuse\n",
       "11    1.424249        shortcut_acute"
      ]
     },
     "execution_count": 62,
     "metadata": {},
     "output_type": "execute_result"
    }
   ],
   "source": [
    "#위의 결과를 보고 다중 공선성 높은 건 제외함\n",
    "vif_scaled_test_df = final_df[['straight_jump', 'straight_uphill', 'straight_downhill',\n",
    "       'straight_all_section', 'trigger_accel', 'trigger_warp',\n",
    "       'trigger_decel', 'trigger_jump', 'curve_hairpin', 'curve_all_section', 'shortcut_right',\n",
    "       'shortcut_acute', 'shortcut_obtuse', 'shortcut_special',\n",
    "       'obstacle_fixed', 'obstacle_moved','track_upper',\n",
    "       'fence_exist','mean_road_level']]\n",
    "\n",
    "# extract effective features using variance inflation factor\n",
    "vif = pd.DataFrame()\n",
    "df = vif_scaled_test_df   # 여기에 다중공선성 볼 테이블을 넣어주세요\n",
    "# variance_inflation_factor(X, i) : Xi를 x나머지로 회귀분석한 후 VIF값을 구한것. 즉 xi의 vif값. 즉 이값이 높을수록 종속성이 높다는 뜻\n",
    "vif['VIF_Factor'] = [variance_inflation_factor(df.values, i)\n",
    "                     for i in range(df.shape[1])]\n",
    "vif['Feature'] = df.columns\n",
    "vif.sort_values(by='VIF_Factor', ascending=False)"
   ]
  },
  {
   "cell_type": "markdown",
   "id": "c4d9ee7b",
   "metadata": {},
   "source": [
    "## 통계분석 (다중회귀)\n",
    "- 3.3에서 왜도 확인 후 -2 ~2 사이에 없는 변수는 log를 씌워줌 "
   ]
  },
  {
   "cell_type": "markdown",
   "id": "532dcd03",
   "metadata": {},
   "source": [
    "### 다중 공선성 고려 완료한 모델에서 p-value 보면서 변수 하나씩 빼보기\n",
    "- 다중공선성 고려 완료 모델 : 독립변수는 (lap제외 + curve_acute + curve_obtuse.+ curve_continuous, curve_continuous_acute + np.log1p(curve_continuous_obtuse) 제외)한 자체 수집 데이터 "
   ]
  },
  {
   "cell_type": "markdown",
   "id": "f404bc31",
   "metadata": {},
   "source": [
    "## 최종 모델 "
   ]
  },
  {
   "cell_type": "code",
   "execution_count": 64,
   "id": "0a954149",
   "metadata": {},
   "outputs": [
    {
     "name": "stdout",
     "output_type": "stream",
     "text": [
      "                            OLS Regression Results                            \n",
      "==============================================================================\n",
      "Dep. Variable:             difficulty   R-squared:                       0.806\n",
      "Model:                            OLS   Adj. R-squared:                  0.783\n",
      "Method:                 Least Squares   F-statistic:                     35.98\n",
      "Date:                Fri, 25 Nov 2022   Prob (F-statistic):           3.19e-24\n",
      "Time:                        01:53:17   Log-Likelihood:                -62.265\n",
      "No. Observations:                  88   AIC:                             144.5\n",
      "Df Residuals:                      78   BIC:                             169.3\n",
      "Df Model:                           9                                         \n",
      "Covariance Type:            nonrobust                                         \n",
      "========================================================================================\n",
      "                           coef    std err          t      P>|t|      [0.025      0.975]\n",
      "----------------------------------------------------------------------------------------\n",
      "Intercept                1.0359      0.227      4.570      0.000       0.585       1.487\n",
      "C(fence_exist)[T.1]      0.3431      0.123      2.800      0.006       0.099       0.587\n",
      "straight_downhill        0.0341      0.011      3.000      0.004       0.011       0.057\n",
      "straight_all_section    -0.0076      0.002     -3.043      0.003      -0.013      -0.003\n",
      "trigger_warp             0.1082      0.043      2.528      0.014       0.023       0.193\n",
      "trigger_decel            0.0381      0.019      2.037      0.045       0.001       0.075\n",
      "trigger_jump             0.1276      0.043      2.977      0.004       0.042       0.213\n",
      "curve_hairpin            0.0737      0.012      6.033      0.000       0.049       0.098\n",
      "curve_all_section        0.0299      0.004      7.243      0.000       0.022       0.038\n",
      "obstacle                 0.0223      0.010      2.246      0.028       0.003       0.042\n",
      "==============================================================================\n",
      "Omnibus:                        1.950   Durbin-Watson:                   1.731\n",
      "Prob(Omnibus):                  0.377   Jarque-Bera (JB):                1.915\n",
      "Skew:                           0.346   Prob(JB):                        0.384\n",
      "Kurtosis:                       2.794   Cond. No.                         315.\n",
      "==============================================================================\n",
      "\n",
      "Notes:\n",
      "[1] Standard Errors assume that the covariance matrix of the errors is correctly specified.\n"
     ]
    }
   ],
   "source": [
    "#수정 r제곱 0.783\n",
    "test = ols('difficulty ~ straight_downhill + straight_all_section + trigger_warp + trigger_decel + trigger_jump+ curve_hairpin + curve_all_section + obstacle + C(fence_exist)', data = final_df).fit().summary()\n",
    "print(test)"
   ]
  },
  {
   "cell_type": "code",
   "execution_count": 65,
   "id": "9012758b",
   "metadata": {},
   "outputs": [
    {
     "data": {
      "text/html": [
       "<div>\n",
       "<style scoped>\n",
       "    .dataframe tbody tr th:only-of-type {\n",
       "        vertical-align: middle;\n",
       "    }\n",
       "\n",
       "    .dataframe tbody tr th {\n",
       "        vertical-align: top;\n",
       "    }\n",
       "\n",
       "    .dataframe thead th {\n",
       "        text-align: right;\n",
       "    }\n",
       "</style>\n",
       "<table border=\"1\" class=\"dataframe\">\n",
       "  <thead>\n",
       "    <tr style=\"text-align: right;\">\n",
       "      <th></th>\n",
       "      <th>VIF_Factor</th>\n",
       "      <th>Feature</th>\n",
       "    </tr>\n",
       "  </thead>\n",
       "  <tbody>\n",
       "    <tr>\n",
       "      <th>6</th>\n",
       "      <td>6.284825</td>\n",
       "      <td>curve_all_section</td>\n",
       "    </tr>\n",
       "    <tr>\n",
       "      <th>1</th>\n",
       "      <td>3.880276</td>\n",
       "      <td>straight_all_section</td>\n",
       "    </tr>\n",
       "    <tr>\n",
       "      <th>5</th>\n",
       "      <td>3.023309</td>\n",
       "      <td>curve_hairpin</td>\n",
       "    </tr>\n",
       "    <tr>\n",
       "      <th>0</th>\n",
       "      <td>2.738991</td>\n",
       "      <td>straight_downhill</td>\n",
       "    </tr>\n",
       "    <tr>\n",
       "      <th>7</th>\n",
       "      <td>2.198927</td>\n",
       "      <td>obstacle</td>\n",
       "    </tr>\n",
       "    <tr>\n",
       "      <th>3</th>\n",
       "      <td>2.016816</td>\n",
       "      <td>trigger_decel</td>\n",
       "    </tr>\n",
       "    <tr>\n",
       "      <th>8</th>\n",
       "      <td>2.009217</td>\n",
       "      <td>fence_exist</td>\n",
       "    </tr>\n",
       "    <tr>\n",
       "      <th>2</th>\n",
       "      <td>1.361687</td>\n",
       "      <td>trigger_warp</td>\n",
       "    </tr>\n",
       "    <tr>\n",
       "      <th>4</th>\n",
       "      <td>1.308038</td>\n",
       "      <td>trigger_jump</td>\n",
       "    </tr>\n",
       "  </tbody>\n",
       "</table>\n",
       "</div>"
      ],
      "text/plain": [
       "   VIF_Factor               Feature\n",
       "6    6.284825     curve_all_section\n",
       "1    3.880276  straight_all_section\n",
       "5    3.023309         curve_hairpin\n",
       "0    2.738991     straight_downhill\n",
       "7    2.198927              obstacle\n",
       "3    2.016816         trigger_decel\n",
       "8    2.009217           fence_exist\n",
       "2    1.361687          trigger_warp\n",
       "4    1.308038          trigger_jump"
      ]
     },
     "execution_count": 65,
     "metadata": {},
     "output_type": "execute_result"
    }
   ],
   "source": [
    "# 최종 모델 다중 공선성 확인 완료\n",
    "vif_scaled_test_df = final_df[[ 'straight_downhill', 'straight_all_section', 'trigger_warp', 'trigger_decel', 'trigger_jump', 'curve_hairpin', 'curve_all_section', 'obstacle' ,'fence_exist']]\n",
    "\n",
    "# extract effective features using variance inflation factor\n",
    "vif = pd.DataFrame()\n",
    "df = vif_scaled_test_df   # 여기에 다중공선성 볼 테이블을 넣어주세요\n",
    "# variance_inflation_factor(X, i) : Xi를 x나머지로 회귀분석한 후 VIF값을 구한것. 즉 xi의 vif값. 즉 이값이 높을수록 종속성이 높다는 뜻\n",
    "vif['VIF_Factor'] = [variance_inflation_factor(df.values, i)\n",
    "                     for i in range(df.shape[1])]\n",
    "vif['Feature'] = df.columns\n",
    "vif.sort_values(by='VIF_Factor', ascending=False)\n"
   ]
  },
  {
   "cell_type": "markdown",
   "id": "b22e1e5b",
   "metadata": {},
   "source": [
    "## 각종 그래프 그려보기"
   ]
  },
  {
   "cell_type": "code",
   "execution_count": 66,
   "id": "d0f7848b",
   "metadata": {},
   "outputs": [],
   "source": [
    "import matplotlib.pyplot as plt\n",
    "import seaborn as sns"
   ]
  },
  {
   "cell_type": "code",
   "execution_count": 67,
   "id": "cb55903b",
   "metadata": {},
   "outputs": [
    {
     "data": {
      "text/plain": [
       "<AxesSubplot:>"
      ]
     },
     "execution_count": 67,
     "metadata": {},
     "output_type": "execute_result"
    },
    {
     "data": {
      "image/png": "[encoded data removed]",
      "text/plain": [
       "<Figure size 720x576 with 2 Axes>"
      ]
     },
     "metadata": {
      "needs_background": "light"
     },
     "output_type": "display_data"
    }
   ],
   "source": [
    "heatmap_data = final_df[['straight_downhill','straight_uphill']]\n",
    "plt.figure(figsize=(10,8))\n",
    "sns.heatmap(heatmap_data.astype(float).corr(), vmax=1.0, vmin=-1.0, square = True, linecolor = 'white')"
   ]
  },
  {
   "cell_type": "code",
   "execution_count": 68,
   "id": "ff32ba05",
   "metadata": {},
   "outputs": [
    {
     "data": {
      "text/plain": [
       "<AxesSubplot:>"
      ]
     },
     "execution_count": 68,
     "metadata": {},
     "output_type": "execute_result"
    },
    {
     "data": {
      "image/png": "[encoded data removed]",
      "text/plain": [
       "<Figure size 720x576 with 2 Axes>"
      ]
     },
     "metadata": {
      "needs_background": "light"
     },
     "output_type": "display_data"
    }
   ],
   "source": [
    "heatmap_data = final_df[['straight_downhill','ratio_curve', 'ratio_hairpin', 'ratio_acute', 'ratio_obtuse']]\n",
    "plt.figure(figsize=(10,8))\n",
    "sns.heatmap(heatmap_data.astype(float).corr(), vmax=1.0, vmin=-1.0, square = True, linecolor = 'white')"
   ]
  },
  {
   "cell_type": "code",
   "execution_count": 69,
   "id": "49cd348d",
   "metadata": {},
   "outputs": [
    {
     "data": {
      "text/plain": [
       "<AxesSubplot:>"
      ]
     },
     "execution_count": 69,
     "metadata": {},
     "output_type": "execute_result"
    },
    {
     "data": {
      "image/png": "[encoded data removed]",
      "text/plain": [
       "<Figure size 720x576 with 2 Axes>"
      ]
     },
     "metadata": {
      "needs_background": "light"
     },
     "output_type": "display_data"
    }
   ],
   "source": [
    "heatmap_data = final_df[['straight_downhill','curve_hairpin', 'curve_acute',\n",
    "       'curve_obtuse', 'curve_continuous', 'curve_continuous_acute',\n",
    "       'curve_continuous_obtuse', 'curve_all_section']]\n",
    "plt.figure(figsize=(10,8))\n",
    "sns.heatmap(heatmap_data.astype(float).corr(), vmax=1.0, vmin=-1.0, square = True, linecolor = 'white')"
   ]
  }
 ],
 "metadata": {
  "kernelspec": {
   "display_name": "Python 3 (ipykernel)",
   "language": "python",
   "name": "python3"
  },
  "language_info": {
   "codemirror_mode": {
    "name": "ipython",
    "version": 3
   },
   "file_extension": ".py",
   "mimetype": "text/x-python",
   "name": "python",
   "nbconvert_exporter": "python",
   "pygments_lexer": "ipython3",
   "version": "3.9.12"
  },
  "toc": {
   "base_numbering": 1,
   "nav_menu": {},
   "number_sections": true,
   "sideBar": true,
   "skip_h1_title": false,
   "title_cell": "Table of Contents",
   "title_sidebar": "Contents",
   "toc_cell": false,
   "toc_position": {
    "height": "calc(100% - 180px)",
    "left": "10px",
    "top": "150px",
    "width": "366.016px"
   },
   "toc_section_display": true,
   "toc_window_display": true
  }
 },
 "nbformat": 4,
 "nbformat_minor": 5
}
