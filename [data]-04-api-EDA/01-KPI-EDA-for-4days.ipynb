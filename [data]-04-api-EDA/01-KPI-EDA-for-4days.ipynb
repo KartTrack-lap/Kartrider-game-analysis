{
 "cells": [
  {
   "cell_type": "markdown",
   "id": "738e6567",
   "metadata": {},
   "source": [
    "# 라이브러리 import"
   ]
  },
  {
   "cell_type": "code",
   "execution_count": null,
   "id": "b8198ef2",
   "metadata": {},
   "outputs": [],
   "source": [
    "import pandas as pd\n",
    "import matplotlib.pyplot as plt\n",
    "import numpy as np\n",
    "import seaborn as sns\n",
    "from matplotlib import rc # 폰트\n",
    "from datetime import datetime\n",
    "import time\n",
    "from datetime import timedelta\n",
    "import warnings\n",
    "warnings.filterwarnings('ignore')\n",
    "# datetime.strptime(start_date, '%Y-%m-%d %H:%M:%S')\n",
    "\n",
    "path = 'C:\\\\Users\\\\wldbs\\\\Desktop\\\\kart\\\\'"
   ]
  },
  {
   "cell_type": "markdown",
   "id": "2a81a9f2",
   "metadata": {},
   "source": [
    "## 컬럼 설명\n",
    "- cnt_match matchid 기준 건수  \n",
    "- cnt_account 사용자 기준 건수 (retire된 유저 포함)  \n",
    "- no_retire_SUM_time : 매치 타임을 전부 합한 값 (retire된 유저 포함)   \n",
    "- no_retire_SUM_time.1 : no_retire_SUM_time에서 retire된 유저를 제외한 평균값  \n",
    "- cnt_retire_player : 리타이어된 유저  \n",
    "- cnt_player : 전체 유저  \n",
    "- percent_retire : 리타이어된 유저 비율 "
   ]
  },
  {
   "cell_type": "markdown",
   "id": "97ed9a27",
   "metadata": {},
   "source": [
    "# KPI 데이터로 분포 확인"
   ]
  },
  {
   "cell_type": "code",
   "execution_count": null,
   "id": "d74bf92e",
   "metadata": {},
   "outputs": [],
   "source": [
    "kpi = pd.read_csv(path + \"00-single_speed_10031010-KPI.csv\")\n",
    "kpi.head(3)"
   ]
  },
  {
   "cell_type": "code",
   "execution_count": null,
   "id": "e5d7e7b9",
   "metadata": {},
   "outputs": [],
   "source": [
    "# 하루에 한 번도 플레이 하지 않은 맵 (4일 동안 최소 4번, n일동안 최소 n번) 은 삭제하기로 함\n",
    "\n",
    "cnt_df = kpi.loc[kpi.cnt_match >= 4]"
   ]
  },
  {
   "cell_type": "code",
   "execution_count": null,
   "id": "37da9090",
   "metadata": {},
   "outputs": [],
   "source": [
    "# 이상치 확인 함수\n",
    "def detect_num(df):\n",
    "    for i in df.select_dtypes(exclude='object').columns:\n",
    "        Q1 = df[i].quantile(0.25)\n",
    "        Q3 = df[i].quantile(0.75)\n",
    "        IQR = Q3 - Q1\n",
    "        print( i, df[i][ (df[i]>Q3 + IQR*1.5) | (df[i]<Q1 - IQR*1.5) ].count() )\n",
    "        print( i, 'Q1 이하: ', df[i][ (df[i]<Q1 - IQR*1.5) ].count() )\n",
    "        print( i, 'Q3 이상: ', df[i][ (df[i]>Q3 + IQR*1.5) ].count() )\n",
    "        print( i, '이상치의 전체 비율: ', round(df[i][ (df[i]>Q3 + IQR*1.5) | (df[i]<Q1 - IQR*1.5) ].count() / df[i].count(), 5) * 100 )\n",
    "        print(\"=\"*36)"
   ]
  },
  {
   "cell_type": "code",
   "execution_count": null,
   "id": "496f8e16",
   "metadata": {},
   "outputs": [],
   "source": [
    "# 전체 매치수\n",
    "\n",
    "cnt_df.cnt_match.sum()"
   ]
  },
  {
   "cell_type": "code",
   "execution_count": null,
   "id": "605c61b4",
   "metadata": {},
   "outputs": [],
   "source": [
    "# 사용률 백분위 컬럼 생성\n",
    "\n",
    "cnt_df['percentage'] = round(cnt_df.cnt_match/13443*100, 3)"
   ]
  },
  {
   "cell_type": "code",
   "execution_count": null,
   "id": "98081762",
   "metadata": {},
   "outputs": [],
   "source": [
    "# 로그 씌우기 전 cnt값 사분위수 확인하기\n",
    "\n",
    "Q1 = cnt_df['cnt_match'].quantile(0.25)\n",
    "Q2 = cnt_df['cnt_match'].quantile(0.5)\n",
    "Q3 = cnt_df['cnt_match'].quantile(0.75)\n",
    "\n",
    "print('Q1 : ', Q1)\n",
    "print('Q2 : ', Q2)\n",
    "print('Q3 : ', Q3)\n",
    "\n",
    "print('median : ', cnt_df.cnt_match.median())"
   ]
  },
  {
   "cell_type": "code",
   "execution_count": null,
   "id": "9b030d4c",
   "metadata": {},
   "outputs": [],
   "source": [
    "# cnt_match에 log 씌워보기\n",
    "\n",
    "cnt_df['log_cnt'] = np.log1p(cnt_df['cnt_match'])\n",
    "test_df = cnt_df[['map_name', 'cnt_match', 'log_cnt']]"
   ]
  },
  {
   "cell_type": "code",
   "execution_count": null,
   "id": "a9694338",
   "metadata": {},
   "outputs": [],
   "source": [
    "# 이상치 갯수 확인\n",
    "\n",
    "detect_num(test_df)"
   ]
  },
  {
   "cell_type": "code",
   "execution_count": null,
   "id": "473a3dbd",
   "metadata": {},
   "outputs": [],
   "source": [
    "# LOG\n",
    "# Q1 - Q2\n",
    "# Q3 이상\n",
    "\n",
    "# 로그 씌운 cnt값 사분위수 확인하기\n",
    "\n",
    "log_Q1 = test_df['log_cnt'].quantile(0.25)\n",
    "log_Q2 = test_df['log_cnt'].quantile(0.5)\n",
    "log_Q3 = test_df['log_cnt'].quantile(0.75)\n",
    "\n",
    "print('Q1 : ', log_Q1)\n",
    "print('Q2 : ', log_Q2)\n",
    "print('Q3 : ', log_Q3)\n",
    "\n",
    "print('median : ', cnt_df.log_cnt.median())"
   ]
  },
  {
   "cell_type": "markdown",
   "id": "7d1c99cc",
   "metadata": {},
   "source": [
    "## 시각화로 데이터 분포 확인하기  \n",
    "- log_cnt에 대한 boxplot 출력\n",
    "- 이상치 분포 확인 필요\n"
   ]
  },
  {
   "cell_type": "code",
   "execution_count": null,
   "id": "844604a3",
   "metadata": {},
   "outputs": [],
   "source": [
    "# 이상치 3개\n",
    "\n",
    "test_df[['log_cnt']].boxplot(figsize = (15, 10))"
   ]
  },
  {
   "cell_type": "code",
   "execution_count": null,
   "id": "ace11119",
   "metadata": {},
   "outputs": [],
   "source": [
    "# cnt_match에 대한 boxplot 출력\n",
    "# log 씌우지 않은 데이터로 확인하기 위해 출력해봄\n",
    "\n",
    "test_df[['cnt_match']].boxplot(figsize = (15, 10))"
   ]
  },
  {
   "cell_type": "code",
   "execution_count": null,
   "id": "4ef6a29e",
   "metadata": {},
   "outputs": [],
   "source": [
    "# LOG\n",
    "# Q1 - Q2 테이블로 만들기\n",
    "# 8 - 19회, 53건\n",
    "\n",
    "LOG_Q1Q2_df = test_df.loc[(test_df.log_cnt >= log_Q1) & (test_df.log_cnt <= log_Q2)]\n",
    "# LOG_Q1Q2_df"
   ]
  },
  {
   "cell_type": "code",
   "execution_count": null,
   "id": "6a58fec2",
   "metadata": {},
   "outputs": [],
   "source": [
    "# LOG\n",
    "# Q3 이상 테이블로 만들기\n",
    "# 57이상, 48건\n",
    "\n",
    "LOG_upper_Q3_df = test_df.loc[test_df.log_cnt >= log_Q3]\n",
    "# LOG_upper_Q3_df"
   ]
  },
  {
   "cell_type": "code",
   "execution_count": null,
   "id": "6a85f4b3",
   "metadata": {},
   "outputs": [],
   "source": [
    "# 저장하기\n",
    "\n",
    "LOG_upper_Q3_df.to_csv(path + 'upper_map.csv', index=False, encoding = 'utf-8')\n",
    "LOG_Q1Q2_df.to_csv(path + 'lower_map.csv', index=False, encoding = 'utf-8')"
   ]
  },
  {
   "cell_type": "markdown",
   "id": "5ad9ad9e",
   "metadata": {},
   "source": [
    "### 혜민님 요청 데이터"
   ]
  },
  {
   "cell_type": "code",
   "execution_count": null,
   "id": "6f7c085a",
   "metadata": {},
   "outputs": [],
   "source": [
    "# 변수명 변경 (코드 간소화를 위함)\n",
    "\n",
    "upper_map = LOG_upper_Q3_df\n",
    "lower_map = LOG_Q1Q2_df"
   ]
  },
  {
   "cell_type": "code",
   "execution_count": null,
   "id": "b3d35485",
   "metadata": {},
   "outputs": [],
   "source": [
    "# 요청 데이터 1 (Q2 ~ Q3를 포함하지 않는 사이 모든 데이터 출력)\n",
    "\n",
    "request1 = test_df.loc[(test_df.log_cnt > log_Q2) & (test_df.log_cnt < log_Q3)]\n",
    "# request1"
   ]
  },
  {
   "cell_type": "code",
   "execution_count": null,
   "id": "a820af3f",
   "metadata": {},
   "outputs": [],
   "source": [
    "# 요청 데이터 2 - 1 (Q2를 포함하여 Q2 상위 25건)\n",
    "\n",
    "request2_1 = test_df.loc[test_df.log_cnt >= log_Q2]\n",
    "request2_1 = request2_1.head(25)"
   ]
  },
  {
   "cell_type": "code",
   "execution_count": null,
   "id": "827a80fd",
   "metadata": {},
   "outputs": [],
   "source": [
    "# 요청 데이터 2 - 2 (Q2를 포함하여 Q2 하위 25건)\n",
    "\n",
    "request2_2 = test_df.loc[test_df.log_cnt <= log_Q2]\n",
    "request2_2=request2_1.head(25)"
   ]
  },
  {
   "cell_type": "code",
   "execution_count": null,
   "id": "72b6a2a6",
   "metadata": {},
   "outputs": [],
   "source": [
    "# 요청 데이터 2-1, 2-2 합침\n",
    "\n",
    "request2 = pd.concat([request2_1, request2_1], axis = 0)"
   ]
  },
  {
   "cell_type": "code",
   "execution_count": null,
   "id": "6f347829",
   "metadata": {},
   "outputs": [],
   "source": [
    "# # 저장\n",
    "\n",
    "# request1.to_csv(path + 'request1.csv', index=False, encoding = 'utf-8')\n",
    "# request2.to_csv(path + 'request2.csv', index=False, encoding = 'utf-8')"
   ]
  },
  {
   "cell_type": "code",
   "execution_count": null,
   "id": "0c7c4da9",
   "metadata": {},
   "outputs": [],
   "source": []
  }
 ],
 "metadata": {
  "kernelspec": {
   "display_name": "Python 3 (ipykernel)",
   "language": "python",
   "name": "python3"
  },
  "language_info": {
   "codemirror_mode": {
    "name": "ipython",
    "version": 3
   },
   "file_extension": ".py",
   "mimetype": "text/x-python",
   "name": "python",
   "nbconvert_exporter": "python",
   "pygments_lexer": "ipython3",
   "version": "3.9.7"
  },
  "toc": {
   "base_numbering": 1,
   "nav_menu": {},
   "number_sections": true,
   "sideBar": true,
   "skip_h1_title": false,
   "title_cell": "Table of Contents",
   "title_sidebar": "Contents",
   "toc_cell": false,
   "toc_position": {},
   "toc_section_display": true,
   "toc_window_display": false
  }
 },
 "nbformat": 4,
 "nbformat_minor": 5
}
