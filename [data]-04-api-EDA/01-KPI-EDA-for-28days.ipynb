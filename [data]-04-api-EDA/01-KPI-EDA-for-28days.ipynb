{
 "cells": [
  {
   "cell_type": "markdown",
   "id": "738e6567",
   "metadata": {},
   "source": [
    "# 라이브러리 import"
   ]
  },
  {
   "cell_type": "code",
   "execution_count": 1,
   "id": "b8198ef2",
   "metadata": {},
   "outputs": [],
   "source": [
    "import pandas as pd\n",
    "import matplotlib.pyplot as plt\n",
    "import numpy as np\n",
    "import seaborn as sns\n",
    "from matplotlib import rc # 폰트\n",
    "from datetime import datetime\n",
    "import time\n",
    "from datetime import timedelta\n",
    "import warnings\n",
    "warnings.filterwarnings('ignore')\n",
    "# datetime.strptime(start_date, '%Y-%m-%d %H:%M:%S')\n",
    "\n",
    "path = 'D:\\\\바탕 화면\\\\카트라이더\\\\1027\\\\'"
   ]
  },
  {
   "cell_type": "markdown",
   "id": "2a81a9f2",
   "metadata": {},
   "source": [
    "## 컬럼 설명\n",
    "- cnt_match matchid 기준 건수  \n",
    "- cnt_account 사용자 기준 건수 (retire된 유저 포함)  \n",
    "- no_retire_SUM_time : 매치 타임을 전부 합한 값 (retire된 유저 포함)   \n",
    "- no_retire_SUM_time.1 : no_retire_SUM_time에서 retire된 유저를 제외한 평균값  \n",
    "- cnt_retire_player : 리타이어된 유저  \n",
    "- cnt_player : 전체 유저  \n",
    "- percent_retire : 리타이어된 유저 비율 "
   ]
  },
  {
   "cell_type": "markdown",
   "id": "97ed9a27",
   "metadata": {},
   "source": [
    "# KPI 데이터로 분포 확인\n",
    "- kpi 데이터는 총 28일치 (4주)"
   ]
  },
  {
   "cell_type": "code",
   "execution_count": 2,
   "id": "d74bf92e",
   "metadata": {},
   "outputs": [
    {
     "data": {
      "text/html": [
       "<div>\n",
       "<style scoped>\n",
       "    .dataframe tbody tr th:only-of-type {\n",
       "        vertical-align: middle;\n",
       "    }\n",
       "\n",
       "    .dataframe tbody tr th {\n",
       "        vertical-align: top;\n",
       "    }\n",
       "\n",
       "    .dataframe thead th {\n",
       "        text-align: right;\n",
       "    }\n",
       "</style>\n",
       "<table border=\"1\" class=\"dataframe\">\n",
       "  <thead>\n",
       "    <tr style=\"text-align: right;\">\n",
       "      <th></th>\n",
       "      <th>map_name</th>\n",
       "      <th>cnt_match</th>\n",
       "      <th>cnt_user</th>\n",
       "      <th>cnt_retire_user</th>\n",
       "      <th>percent_retire</th>\n",
       "      <th>SUM_match_time</th>\n",
       "      <th>AVG_match_time</th>\n",
       "    </tr>\n",
       "  </thead>\n",
       "  <tbody>\n",
       "    <tr>\n",
       "      <th>0</th>\n",
       "      <td>빌리지 운하</td>\n",
       "      <td>10325</td>\n",
       "      <td>215222.0</td>\n",
       "      <td>70792.0</td>\n",
       "      <td>32.8925</td>\n",
       "      <td>1.809054e+09</td>\n",
       "      <td>51731.585016</td>\n",
       "    </tr>\n",
       "    <tr>\n",
       "      <th>1</th>\n",
       "      <td>트랙 9</td>\n",
       "      <td>7067</td>\n",
       "      <td>12807.0</td>\n",
       "      <td>3766.0</td>\n",
       "      <td>29.4058</td>\n",
       "      <td>4.570849e+08</td>\n",
       "      <td>55451.285454</td>\n",
       "    </tr>\n",
       "    <tr>\n",
       "      <th>2</th>\n",
       "      <td>노르테유 허공의 갈림길</td>\n",
       "      <td>5343</td>\n",
       "      <td>8232.0</td>\n",
       "      <td>1794.0</td>\n",
       "      <td>21.7930</td>\n",
       "      <td>3.461118e+08</td>\n",
       "      <td>58982.931152</td>\n",
       "    </tr>\n",
       "  </tbody>\n",
       "</table>\n",
       "</div>"
      ],
      "text/plain": [
       "       map_name  cnt_match  cnt_user  cnt_retire_user  percent_retire  \\\n",
       "0        빌리지 운하      10325  215222.0          70792.0         32.8925   \n",
       "1          트랙 9       7067   12807.0           3766.0         29.4058   \n",
       "2  노르테유 허공의 갈림길       5343    8232.0           1794.0         21.7930   \n",
       "\n",
       "   SUM_match_time  AVG_match_time  \n",
       "0    1.809054e+09    51731.585016  \n",
       "1    4.570849e+08    55451.285454  \n",
       "2    3.461118e+08    58982.931152  "
      ]
     },
     "execution_count": 2,
     "metadata": {},
     "output_type": "execute_result"
    }
   ],
   "source": [
    "kpi = pd.read_csv(path + \"00-single_speed_09121010-KPI.csv\")\n",
    "kpi.head(3)"
   ]
  },
  {
   "cell_type": "code",
   "execution_count": 3,
   "id": "9e754ee1",
   "metadata": {},
   "outputs": [],
   "source": [
    "# 결측치 제거\n",
    "\n",
    "kpi.isnull().sum()\n",
    "kpi = kpi.dropna()"
   ]
  },
  {
   "cell_type": "markdown",
   "id": "706a76da",
   "metadata": {},
   "source": [
    "## cnt_match와 cnt_user 의 상관성 확인"
   ]
  },
  {
   "cell_type": "code",
   "execution_count": 4,
   "id": "5bdf1949",
   "metadata": {
    "scrolled": true
   },
   "outputs": [
    {
     "data": {
      "text/html": [
       "<div>\n",
       "<style scoped>\n",
       "    .dataframe tbody tr th:only-of-type {\n",
       "        vertical-align: middle;\n",
       "    }\n",
       "\n",
       "    .dataframe tbody tr th {\n",
       "        vertical-align: top;\n",
       "    }\n",
       "\n",
       "    .dataframe thead th {\n",
       "        text-align: right;\n",
       "    }\n",
       "</style>\n",
       "<table border=\"1\" class=\"dataframe\">\n",
       "  <thead>\n",
       "    <tr style=\"text-align: right;\">\n",
       "      <th></th>\n",
       "      <th>cnt_match</th>\n",
       "      <th>cnt_user</th>\n",
       "      <th>cnt_retire_user</th>\n",
       "      <th>percent_retire</th>\n",
       "      <th>SUM_match_time</th>\n",
       "      <th>AVG_match_time</th>\n",
       "    </tr>\n",
       "  </thead>\n",
       "  <tbody>\n",
       "    <tr>\n",
       "      <th>cnt_match</th>\n",
       "      <td>1.000000</td>\n",
       "      <td>0.810465</td>\n",
       "      <td>0.795089</td>\n",
       "      <td>0.014546</td>\n",
       "      <td>0.452078</td>\n",
       "      <td>-0.022628</td>\n",
       "    </tr>\n",
       "    <tr>\n",
       "      <th>cnt_user</th>\n",
       "      <td>0.810465</td>\n",
       "      <td>1.000000</td>\n",
       "      <td>0.986246</td>\n",
       "      <td>0.040084</td>\n",
       "      <td>0.461586</td>\n",
       "      <td>-0.014883</td>\n",
       "    </tr>\n",
       "    <tr>\n",
       "      <th>cnt_retire_user</th>\n",
       "      <td>0.795089</td>\n",
       "      <td>0.986246</td>\n",
       "      <td>1.000000</td>\n",
       "      <td>0.089275</td>\n",
       "      <td>0.478131</td>\n",
       "      <td>-0.003321</td>\n",
       "    </tr>\n",
       "    <tr>\n",
       "      <th>percent_retire</th>\n",
       "      <td>0.014546</td>\n",
       "      <td>0.040084</td>\n",
       "      <td>0.089275</td>\n",
       "      <td>1.000000</td>\n",
       "      <td>0.090667</td>\n",
       "      <td>0.114503</td>\n",
       "    </tr>\n",
       "    <tr>\n",
       "      <th>SUM_match_time</th>\n",
       "      <td>0.452078</td>\n",
       "      <td>0.461586</td>\n",
       "      <td>0.478131</td>\n",
       "      <td>0.090667</td>\n",
       "      <td>1.000000</td>\n",
       "      <td>0.802449</td>\n",
       "    </tr>\n",
       "    <tr>\n",
       "      <th>AVG_match_time</th>\n",
       "      <td>-0.022628</td>\n",
       "      <td>-0.014883</td>\n",
       "      <td>-0.003321</td>\n",
       "      <td>0.114503</td>\n",
       "      <td>0.802449</td>\n",
       "      <td>1.000000</td>\n",
       "    </tr>\n",
       "  </tbody>\n",
       "</table>\n",
       "</div>"
      ],
      "text/plain": [
       "                 cnt_match  cnt_user  cnt_retire_user  percent_retire  \\\n",
       "cnt_match         1.000000  0.810465         0.795089        0.014546   \n",
       "cnt_user          0.810465  1.000000         0.986246        0.040084   \n",
       "cnt_retire_user   0.795089  0.986246         1.000000        0.089275   \n",
       "percent_retire    0.014546  0.040084         0.089275        1.000000   \n",
       "SUM_match_time    0.452078  0.461586         0.478131        0.090667   \n",
       "AVG_match_time   -0.022628 -0.014883        -0.003321        0.114503   \n",
       "\n",
       "                 SUM_match_time  AVG_match_time  \n",
       "cnt_match              0.452078       -0.022628  \n",
       "cnt_user               0.461586       -0.014883  \n",
       "cnt_retire_user        0.478131       -0.003321  \n",
       "percent_retire         0.090667        0.114503  \n",
       "SUM_match_time         1.000000        0.802449  \n",
       "AVG_match_time         0.802449        1.000000  "
      ]
     },
     "execution_count": 4,
     "metadata": {},
     "output_type": "execute_result"
    }
   ],
   "source": [
    "kpi.corr()"
   ]
  },
  {
   "cell_type": "code",
   "execution_count": 5,
   "id": "1b67db21",
   "metadata": {},
   "outputs": [
    {
     "data": {
      "image/png": "[encoded data removed]",
      "text/plain": [
       "<Figure size 504x504 with 2 Axes>"
      ]
     },
     "metadata": {
      "needs_background": "light"
     },
     "output_type": "display_data"
    }
   ],
   "source": [
    "from numpy import arange\n",
    "tmp = kpi.corr()\n",
    "\n",
    "# 그림 사이즈 지정\n",
    "fig, ax = plt.subplots( figsize=(7,7) )\n",
    "\n",
    "# 삼각형 마스크를 만든다(위 쪽 삼각형에 True, 아래 삼각형에 False)\n",
    "mask = np.zeros_like(tmp, dtype=np.bool)\n",
    "mask[np.triu_indices_from(mask)] = True\n",
    "# 히트맵 팔레트 색상 불러오기\n",
    "cmap = sns.diverging_palette(220, 20, as_cmap=True)\n",
    "# 히트맵을 그린다\n",
    "sns.heatmap(tmp ,\n",
    "            annot = True,   # 실제 값을 표시한다\n",
    "            mask=mask,      # 표시하지 않을 마스크 부분을 지정한다\n",
    "            linewidths=.5,  # 경계면 실선으로 구분하기\n",
    "            cbar_kws={\"shrink\": .5},# 컬러바 크기 절반으로 줄이기\n",
    "            cmap = cmap,\n",
    "            vmin = -1,vmax = 1   # 컬러바 범위 -1 ~ 1\n",
    "           )\n",
    "plt.show()"
   ]
  },
  {
   "cell_type": "markdown",
   "id": "e534413e",
   "metadata": {},
   "source": [
    "# cnt_match 기준 상위/하위 트랙 설정하기"
   ]
  },
  {
   "cell_type": "markdown",
   "id": "210d322f",
   "metadata": {},
   "source": [
    "## 사용하지 않을(삭제할) 데이터 기준"
   ]
  },
  {
   "cell_type": "code",
   "execution_count": 6,
   "id": "e5d7e7b9",
   "metadata": {},
   "outputs": [],
   "source": [
    "# 하루에 한 번도 플레이 하지 않은 맵 (4일 동안 최소 4번, n일동안 최소 n번) 은 삭제하기로 함\n",
    "\n",
    "kpi_for_match = kpi\n",
    "cnt_match_df = kpi_for_match.loc[kpi.cnt_match > 28]"
   ]
  },
  {
   "cell_type": "code",
   "execution_count": 7,
   "id": "0bd02037",
   "metadata": {},
   "outputs": [
    {
     "name": "stdout",
     "output_type": "stream",
     "text": [
      "45.45454545454545\n"
     ]
    }
   ],
   "source": [
    "# 28회가 전체의 몇 퍼센트 정도에 위치하는지 확인\n",
    "# 145개 / 전체 319개 맵\n",
    "kpi_for_match.loc[kpi_for_match.cnt_match <= 28]\n",
    "\n",
    "print(len(kpi_for_match.loc[kpi_for_match.cnt_match <= 28])/len(kpi_for_match) * 100)   # 약 하위 45.45%를 다 날려버리고 시작하게 됨"
   ]
  },
  {
   "cell_type": "code",
   "execution_count": 8,
   "id": "37da9090",
   "metadata": {},
   "outputs": [],
   "source": [
    "# 이상치 확인 함수\n",
    "def detect_num(df):\n",
    "    for i in df.select_dtypes(exclude='object').columns:\n",
    "        Q1 = df[i].quantile(0.25)\n",
    "        Q3 = df[i].quantile(0.75)\n",
    "        IQR = Q3 - Q1\n",
    "        print( i, df[i][ (df[i]>Q3 + IQR*1.5) | (df[i]<Q1 - IQR*1.5) ].count() )\n",
    "        print( i, 'Q1 이하: ', df[i][ (df[i]<Q1 - IQR*1.5) ].count() )\n",
    "        print( i, 'Q3 이상: ', df[i][ (df[i]>Q3 + IQR*1.5) ].count() )\n",
    "        print( i, '이상치의 전체 비율: ', round(df[i][ (df[i]>Q3 + IQR*1.5) | (df[i]<Q1 - IQR*1.5) ].count() / df[i].count(), 5) * 100 )\n",
    "        print(\"=\"*36)"
   ]
  },
  {
   "cell_type": "code",
   "execution_count": 9,
   "id": "496f8e16",
   "metadata": {},
   "outputs": [
    {
     "data": {
      "text/plain": [
       "79949"
      ]
     },
     "execution_count": 9,
     "metadata": {},
     "output_type": "execute_result"
    }
   ],
   "source": [
    "# 전체 매치수\n",
    "\n",
    "cnt_match_df.cnt_match.sum()"
   ]
  },
  {
   "cell_type": "code",
   "execution_count": 10,
   "id": "605c61b4",
   "metadata": {},
   "outputs": [],
   "source": [
    "# 사용률 백분위 컬럼 생성\n",
    "\n",
    "cnt_match_df['percentage'] = round(cnt_match_df.cnt_match/cnt_match_df.cnt_match.sum()*100, 3)"
   ]
  },
  {
   "cell_type": "code",
   "execution_count": 11,
   "id": "98081762",
   "metadata": {},
   "outputs": [
    {
     "name": "stdout",
     "output_type": "stream",
     "text": [
      "Q1 :  59.25\n",
      "Q2 :  128.0\n",
      "Q3 :  482.75\n"
     ]
    }
   ],
   "source": [
    "# cnt_match값 사분위수 확인하기\n",
    "\n",
    "Q1 = cnt_match_df['cnt_match'].quantile(0.25)\n",
    "Q2 = cnt_match_df['cnt_match'].quantile(0.5)\n",
    "Q3 = cnt_match_df['cnt_match'].quantile(0.75)\n",
    "\n",
    "print('Q1 : ', Q1)\n",
    "print('Q2 : ', Q2)\n",
    "print('Q3 : ', Q3)"
   ]
  },
  {
   "cell_type": "code",
   "execution_count": 12,
   "id": "a9694338",
   "metadata": {},
   "outputs": [
    {
     "name": "stdout",
     "output_type": "stream",
     "text": [
      "cnt_match 11\n",
      "cnt_match Q1 이하:  0\n",
      "cnt_match Q3 이상:  11\n",
      "cnt_match 이상치의 전체 비율:  6.322\n",
      "====================================\n",
      "cnt_user 29\n",
      "cnt_user Q1 이하:  0\n",
      "cnt_user Q3 이상:  29\n",
      "cnt_user 이상치의 전체 비율:  16.667\n",
      "====================================\n",
      "cnt_retire_user 27\n",
      "cnt_retire_user Q1 이하:  0\n",
      "cnt_retire_user Q3 이상:  27\n",
      "cnt_retire_user 이상치의 전체 비율:  15.517\n",
      "====================================\n",
      "percent_retire 6\n",
      "percent_retire Q1 이하:  0\n",
      "percent_retire Q3 이상:  6\n",
      "percent_retire 이상치의 전체 비율:  3.4479999999999995\n",
      "====================================\n",
      "SUM_match_time 28\n",
      "SUM_match_time Q1 이하:  0\n",
      "SUM_match_time Q3 이상:  28\n",
      "SUM_match_time 이상치의 전체 비율:  16.092000000000002\n",
      "====================================\n",
      "AVG_match_time 6\n",
      "AVG_match_time Q1 이하:  0\n",
      "AVG_match_time Q3 이상:  6\n",
      "AVG_match_time 이상치의 전체 비율:  3.4479999999999995\n",
      "====================================\n",
      "percentage 11\n",
      "percentage Q1 이하:  0\n",
      "percentage Q3 이상:  11\n",
      "percentage 이상치의 전체 비율:  6.322\n",
      "====================================\n"
     ]
    }
   ],
   "source": [
    "# 이상치 갯수 확인\n",
    "\n",
    "detect_num(cnt_match_df)"
   ]
  },
  {
   "cell_type": "code",
   "execution_count": 13,
   "id": "9b030d4c",
   "metadata": {},
   "outputs": [],
   "source": [
    "# # cnt_match에 log 씌워보기\n",
    "\n",
    "# cnt_match_df['log_cnt'] = np.log1p(cnt_match_df['cnt_match'])\n",
    "# test_match_df = cnt_match_df[['map_name', 'cnt_match', 'log_cnt']]"
   ]
  },
  {
   "cell_type": "code",
   "execution_count": 14,
   "id": "473a3dbd",
   "metadata": {},
   "outputs": [],
   "source": [
    "# # LOG\n",
    "# # Q1 - Q2\n",
    "# # Q3 이상\n",
    "\n",
    "# # 로그 씌운 cnt값 사분위수 확인하기\n",
    "\n",
    "# log_Q1 = test_match_df['log_cnt'].quantile(0.25)\n",
    "# log_Q2 = test_match_df['log_cnt'].quantile(0.5)\n",
    "# log_Q3 = test_match_df['log_cnt'].quantile(0.75)\n",
    "\n",
    "# print('Q1 : ', log_Q1)\n",
    "# print('Q2 : ', log_Q2)\n",
    "# print('Q3 : ', log_Q3)\n",
    "\n",
    "# print('median : ', cnt_match_df.log_cnt.median())"
   ]
  },
  {
   "cell_type": "markdown",
   "id": "7d1c99cc",
   "metadata": {},
   "source": [
    "## 시각화로 데이터 분포 확인하기  \n",
    "- cnt_match에 대한 boxplot 출력\n",
    "- 이상치 분포 확인 필요\n"
   ]
  },
  {
   "cell_type": "code",
   "execution_count": 15,
   "id": "844604a3",
   "metadata": {},
   "outputs": [
    {
     "data": {
      "text/plain": [
       "<AxesSubplot:>"
      ]
     },
     "execution_count": 15,
     "metadata": {},
     "output_type": "execute_result"
    },
    {
     "data": {
      "image/png": "[encoded data removed]",
      "text/plain": [
       "<Figure size 1080x720 with 1 Axes>"
      ]
     },
     "metadata": {
      "needs_background": "light"
     },
     "output_type": "display_data"
    }
   ],
   "source": [
    "# 이상치 11개\n",
    "\n",
    "cnt_match_df[['cnt_match']].boxplot(figsize = (15, 10))"
   ]
  },
  {
   "cell_type": "markdown",
   "id": "522acde9",
   "metadata": {},
   "source": [
    "## cnt_match 기준 상위 / 하위 결정 기준\n",
    "- cnt_match 28 이하 플레이 된 데이터 삭제\n",
    "- cnt_match 29 초과 플레이 된 데이터 기준 상위 n%를 추출하기로 결정함"
   ]
  },
  {
   "cell_type": "markdown",
   "id": "66754d59",
   "metadata": {},
   "source": [
    "### 상위 트랙 기준 정하기"
   ]
  },
  {
   "cell_type": "code",
   "execution_count": 16,
   "id": "a0cec898",
   "metadata": {},
   "outputs": [
    {
     "name": "stdout",
     "output_type": "stream",
     "text": [
      "44\n"
     ]
    },
    {
     "data": {
      "text/html": [
       "<div>\n",
       "<style scoped>\n",
       "    .dataframe tbody tr th:only-of-type {\n",
       "        vertical-align: middle;\n",
       "    }\n",
       "\n",
       "    .dataframe tbody tr th {\n",
       "        vertical-align: top;\n",
       "    }\n",
       "\n",
       "    .dataframe thead th {\n",
       "        text-align: right;\n",
       "    }\n",
       "</style>\n",
       "<table border=\"1\" class=\"dataframe\">\n",
       "  <thead>\n",
       "    <tr style=\"text-align: right;\">\n",
       "      <th></th>\n",
       "      <th>map_name</th>\n",
       "      <th>cnt_match</th>\n",
       "      <th>cnt_user</th>\n",
       "      <th>cnt_retire_user</th>\n",
       "      <th>percent_retire</th>\n",
       "      <th>SUM_match_time</th>\n",
       "      <th>AVG_match_time</th>\n",
       "      <th>percentage</th>\n",
       "    </tr>\n",
       "  </thead>\n",
       "  <tbody>\n",
       "    <tr>\n",
       "      <th>0</th>\n",
       "      <td>빌리지 운하</td>\n",
       "      <td>10325</td>\n",
       "      <td>215222.0</td>\n",
       "      <td>70792.0</td>\n",
       "      <td>32.8925</td>\n",
       "      <td>1.809054e+09</td>\n",
       "      <td>51731.585016</td>\n",
       "      <td>12.914</td>\n",
       "    </tr>\n",
       "    <tr>\n",
       "      <th>1</th>\n",
       "      <td>트랙 9</td>\n",
       "      <td>7067</td>\n",
       "      <td>12807.0</td>\n",
       "      <td>3766.0</td>\n",
       "      <td>29.4058</td>\n",
       "      <td>4.570849e+08</td>\n",
       "      <td>55451.285454</td>\n",
       "      <td>8.839</td>\n",
       "    </tr>\n",
       "    <tr>\n",
       "      <th>2</th>\n",
       "      <td>노르테유 허공의 갈림길</td>\n",
       "      <td>5343</td>\n",
       "      <td>8232.0</td>\n",
       "      <td>1794.0</td>\n",
       "      <td>21.7930</td>\n",
       "      <td>3.461118e+08</td>\n",
       "      <td>58982.931152</td>\n",
       "      <td>6.683</td>\n",
       "    </tr>\n",
       "    <tr>\n",
       "      <th>3</th>\n",
       "      <td>코리아 제주 해오름 다운힐</td>\n",
       "      <td>4183</td>\n",
       "      <td>25468.0</td>\n",
       "      <td>8688.0</td>\n",
       "      <td>34.1134</td>\n",
       "      <td>4.962177e+08</td>\n",
       "      <td>68794.905171</td>\n",
       "      <td>5.232</td>\n",
       "    </tr>\n",
       "    <tr>\n",
       "      <th>4</th>\n",
       "      <td>빌리지 고가의 질주</td>\n",
       "      <td>2714</td>\n",
       "      <td>30486.0</td>\n",
       "      <td>10096.0</td>\n",
       "      <td>33.1168</td>\n",
       "      <td>7.808868e+08</td>\n",
       "      <td>116969.266327</td>\n",
       "      <td>3.395</td>\n",
       "    </tr>\n",
       "    <tr>\n",
       "      <th>5</th>\n",
       "      <td>비치 해변 드라이브</td>\n",
       "      <td>2140</td>\n",
       "      <td>24805.0</td>\n",
       "      <td>11344.0</td>\n",
       "      <td>45.7327</td>\n",
       "      <td>6.537340e+08</td>\n",
       "      <td>128865.355805</td>\n",
       "      <td>2.677</td>\n",
       "    </tr>\n",
       "    <tr>\n",
       "      <th>6</th>\n",
       "      <td>사막 버려진 오아시스</td>\n",
       "      <td>1543</td>\n",
       "      <td>7449.0</td>\n",
       "      <td>3560.0</td>\n",
       "      <td>47.7916</td>\n",
       "      <td>2.198743e+08</td>\n",
       "      <td>104354.199336</td>\n",
       "      <td>1.930</td>\n",
       "    </tr>\n",
       "    <tr>\n",
       "      <th>7</th>\n",
       "      <td>메이플 헤네시스 공원</td>\n",
       "      <td>1507</td>\n",
       "      <td>20226.0</td>\n",
       "      <td>7559.0</td>\n",
       "      <td>37.3727</td>\n",
       "      <td>3.790161e+08</td>\n",
       "      <td>98933.980684</td>\n",
       "      <td>1.885</td>\n",
       "    </tr>\n",
       "    <tr>\n",
       "      <th>8</th>\n",
       "      <td>빌리지 남산</td>\n",
       "      <td>1457</td>\n",
       "      <td>19645.0</td>\n",
       "      <td>5778.0</td>\n",
       "      <td>29.4121</td>\n",
       "      <td>4.193928e+08</td>\n",
       "      <td>109673.854864</td>\n",
       "      <td>1.822</td>\n",
       "    </tr>\n",
       "    <tr>\n",
       "      <th>9</th>\n",
       "      <td>메이플 리스항구 언덕길</td>\n",
       "      <td>1452</td>\n",
       "      <td>19738.0</td>\n",
       "      <td>8864.0</td>\n",
       "      <td>44.9083</td>\n",
       "      <td>3.164022e+08</td>\n",
       "      <td>92515.272515</td>\n",
       "      <td>1.816</td>\n",
       "    </tr>\n",
       "    <tr>\n",
       "      <th>10</th>\n",
       "      <td>WKC 코리아 서킷</td>\n",
       "      <td>1311</td>\n",
       "      <td>19796.0</td>\n",
       "      <td>6257.0</td>\n",
       "      <td>31.6074</td>\n",
       "      <td>4.454642e+08</td>\n",
       "      <td>120722.013821</td>\n",
       "      <td>1.640</td>\n",
       "    </tr>\n",
       "    <tr>\n",
       "      <th>11</th>\n",
       "      <td>네모 산타의 비밀공간</td>\n",
       "      <td>1104</td>\n",
       "      <td>16638.0</td>\n",
       "      <td>9466.0</td>\n",
       "      <td>56.8939</td>\n",
       "      <td>3.197435e+08</td>\n",
       "      <td>120566.943816</td>\n",
       "      <td>1.381</td>\n",
       "    </tr>\n",
       "    <tr>\n",
       "      <th>12</th>\n",
       "      <td>월드 뉴욕 대질주</td>\n",
       "      <td>1085</td>\n",
       "      <td>15975.0</td>\n",
       "      <td>6617.0</td>\n",
       "      <td>41.4210</td>\n",
       "      <td>2.871091e+08</td>\n",
       "      <td>101165.995419</td>\n",
       "      <td>1.357</td>\n",
       "    </tr>\n",
       "    <tr>\n",
       "      <th>13</th>\n",
       "      <td>메이플 레헬른 악몽의 시계탑</td>\n",
       "      <td>1079</td>\n",
       "      <td>15722.0</td>\n",
       "      <td>11523.0</td>\n",
       "      <td>73.2922</td>\n",
       "      <td>3.374342e+08</td>\n",
       "      <td>136668.366140</td>\n",
       "      <td>1.350</td>\n",
       "    </tr>\n",
       "    <tr>\n",
       "      <th>14</th>\n",
       "      <td>차이나 상해 동방명주</td>\n",
       "      <td>1048</td>\n",
       "      <td>10206.0</td>\n",
       "      <td>3545.0</td>\n",
       "      <td>34.7345</td>\n",
       "      <td>2.598528e+08</td>\n",
       "      <td>104737.140266</td>\n",
       "      <td>1.311</td>\n",
       "    </tr>\n",
       "    <tr>\n",
       "      <th>15</th>\n",
       "      <td>차이나 라사</td>\n",
       "      <td>1039</td>\n",
       "      <td>17778.0</td>\n",
       "      <td>6998.0</td>\n",
       "      <td>39.3633</td>\n",
       "      <td>3.717552e+08</td>\n",
       "      <td>124708.214693</td>\n",
       "      <td>1.300</td>\n",
       "    </tr>\n",
       "    <tr>\n",
       "      <th>16</th>\n",
       "      <td>메이플 리스항구 선착장</td>\n",
       "      <td>1030</td>\n",
       "      <td>1954.0</td>\n",
       "      <td>369.0</td>\n",
       "      <td>18.8843</td>\n",
       "      <td>9.616066e+07</td>\n",
       "      <td>75717.058268</td>\n",
       "      <td>1.288</td>\n",
       "    </tr>\n",
       "    <tr>\n",
       "      <th>17</th>\n",
       "      <td>월드 리오 다운힐</td>\n",
       "      <td>978</td>\n",
       "      <td>15833.0</td>\n",
       "      <td>5327.0</td>\n",
       "      <td>33.6449</td>\n",
       "      <td>2.310178e+08</td>\n",
       "      <td>81950.260731</td>\n",
       "      <td>1.223</td>\n",
       "    </tr>\n",
       "    <tr>\n",
       "      <th>18</th>\n",
       "      <td>월드 두바이 다운타운</td>\n",
       "      <td>931</td>\n",
       "      <td>17109.0</td>\n",
       "      <td>9299.0</td>\n",
       "      <td>54.3515</td>\n",
       "      <td>3.158509e+08</td>\n",
       "      <td>120232.557290</td>\n",
       "      <td>1.164</td>\n",
       "    </tr>\n",
       "    <tr>\n",
       "      <th>19</th>\n",
       "      <td>빌리지 운명의 다리</td>\n",
       "      <td>894</td>\n",
       "      <td>14771.0</td>\n",
       "      <td>7801.0</td>\n",
       "      <td>52.8129</td>\n",
       "      <td>3.270594e+08</td>\n",
       "      <td>145489.060053</td>\n",
       "      <td>1.118</td>\n",
       "    </tr>\n",
       "    <tr>\n",
       "      <th>20</th>\n",
       "      <td>노르테유 스카이웨이</td>\n",
       "      <td>852</td>\n",
       "      <td>14073.0</td>\n",
       "      <td>8563.0</td>\n",
       "      <td>60.8470</td>\n",
       "      <td>3.017929e+08</td>\n",
       "      <td>143369.540143</td>\n",
       "      <td>1.066</td>\n",
       "    </tr>\n",
       "    <tr>\n",
       "      <th>21</th>\n",
       "      <td>쥐라기 공룡 무덤</td>\n",
       "      <td>828</td>\n",
       "      <td>14534.0</td>\n",
       "      <td>5217.0</td>\n",
       "      <td>35.8951</td>\n",
       "      <td>2.903866e+08</td>\n",
       "      <td>115876.542698</td>\n",
       "      <td>1.036</td>\n",
       "    </tr>\n",
       "    <tr>\n",
       "      <th>22</th>\n",
       "      <td>WKC 크레이지 10</td>\n",
       "      <td>825</td>\n",
       "      <td>19948.0</td>\n",
       "      <td>11755.0</td>\n",
       "      <td>58.9282</td>\n",
       "      <td>9.077042e+07</td>\n",
       "      <td>55246.758369</td>\n",
       "      <td>1.032</td>\n",
       "    </tr>\n",
       "    <tr>\n",
       "      <th>23</th>\n",
       "      <td>신화 신들의 세계</td>\n",
       "      <td>821</td>\n",
       "      <td>15442.0</td>\n",
       "      <td>4222.0</td>\n",
       "      <td>27.3410</td>\n",
       "      <td>2.722103e+08</td>\n",
       "      <td>101571.016418</td>\n",
       "      <td>1.027</td>\n",
       "    </tr>\n",
       "    <tr>\n",
       "      <th>24</th>\n",
       "      <td>빌리지 손가락</td>\n",
       "      <td>816</td>\n",
       "      <td>6533.0</td>\n",
       "      <td>3359.0</td>\n",
       "      <td>51.4159</td>\n",
       "      <td>2.024365e+08</td>\n",
       "      <td>122023.192887</td>\n",
       "      <td>1.021</td>\n",
       "    </tr>\n",
       "    <tr>\n",
       "      <th>25</th>\n",
       "      <td>WKC 투어링 랠리</td>\n",
       "      <td>796</td>\n",
       "      <td>14644.0</td>\n",
       "      <td>6741.0</td>\n",
       "      <td>46.0325</td>\n",
       "      <td>2.226388e+08</td>\n",
       "      <td>103408.655365</td>\n",
       "      <td>0.996</td>\n",
       "    </tr>\n",
       "    <tr>\n",
       "      <th>26</th>\n",
       "      <td>네모 장난감 선물공장</td>\n",
       "      <td>793</td>\n",
       "      <td>12917.0</td>\n",
       "      <td>5707.0</td>\n",
       "      <td>44.1821</td>\n",
       "      <td>1.821593e+08</td>\n",
       "      <td>86413.312619</td>\n",
       "      <td>0.992</td>\n",
       "    </tr>\n",
       "    <tr>\n",
       "      <th>27</th>\n",
       "      <td>브로디 비밀의 연구소</td>\n",
       "      <td>722</td>\n",
       "      <td>14779.0</td>\n",
       "      <td>5935.0</td>\n",
       "      <td>40.1583</td>\n",
       "      <td>3.376013e+08</td>\n",
       "      <td>148265.835310</td>\n",
       "      <td>0.903</td>\n",
       "    </tr>\n",
       "    <tr>\n",
       "      <th>28</th>\n",
       "      <td>쥐라기 공룡 결투장</td>\n",
       "      <td>722</td>\n",
       "      <td>14597.0</td>\n",
       "      <td>7386.0</td>\n",
       "      <td>50.5994</td>\n",
       "      <td>2.769068e+08</td>\n",
       "      <td>130863.327032</td>\n",
       "      <td>0.903</td>\n",
       "    </tr>\n",
       "    <tr>\n",
       "      <th>29</th>\n",
       "      <td>차이나 서안 병마용</td>\n",
       "      <td>719</td>\n",
       "      <td>5739.0</td>\n",
       "      <td>2349.0</td>\n",
       "      <td>40.9305</td>\n",
       "      <td>1.821898e+08</td>\n",
       "      <td>126784.851775</td>\n",
       "      <td>0.899</td>\n",
       "    </tr>\n",
       "    <tr>\n",
       "      <th>30</th>\n",
       "      <td>차이나 황산</td>\n",
       "      <td>700</td>\n",
       "      <td>14469.0</td>\n",
       "      <td>6742.0</td>\n",
       "      <td>46.5962</td>\n",
       "      <td>1.956892e+08</td>\n",
       "      <td>92349.797074</td>\n",
       "      <td>0.876</td>\n",
       "    </tr>\n",
       "    <tr>\n",
       "      <th>31</th>\n",
       "      <td>WKC 싱가폴 서킷</td>\n",
       "      <td>697</td>\n",
       "      <td>6956.0</td>\n",
       "      <td>3428.0</td>\n",
       "      <td>49.2812</td>\n",
       "      <td>2.301378e+08</td>\n",
       "      <td>150515.262917</td>\n",
       "      <td>0.872</td>\n",
       "    </tr>\n",
       "    <tr>\n",
       "      <th>32</th>\n",
       "      <td>차이나 북경 자금성</td>\n",
       "      <td>677</td>\n",
       "      <td>6658.0</td>\n",
       "      <td>3024.0</td>\n",
       "      <td>45.4190</td>\n",
       "      <td>1.499707e+08</td>\n",
       "      <td>99913.855430</td>\n",
       "      <td>0.847</td>\n",
       "    </tr>\n",
       "    <tr>\n",
       "      <th>33</th>\n",
       "      <td>월드 이탈리아 피사의 사탑</td>\n",
       "      <td>661</td>\n",
       "      <td>14803.0</td>\n",
       "      <td>8051.0</td>\n",
       "      <td>54.3876</td>\n",
       "      <td>1.709861e+08</td>\n",
       "      <td>82842.098837</td>\n",
       "      <td>0.827</td>\n",
       "    </tr>\n",
       "    <tr>\n",
       "      <th>34</th>\n",
       "      <td>차이나 서안 병마용 2</td>\n",
       "      <td>647</td>\n",
       "      <td>15169.0</td>\n",
       "      <td>8546.0</td>\n",
       "      <td>56.3386</td>\n",
       "      <td>2.155965e+08</td>\n",
       "      <td>105892.169941</td>\n",
       "      <td>0.809</td>\n",
       "    </tr>\n",
       "    <tr>\n",
       "      <th>35</th>\n",
       "      <td>빌리지 두개의 관문</td>\n",
       "      <td>618</td>\n",
       "      <td>5446.0</td>\n",
       "      <td>2266.0</td>\n",
       "      <td>41.6085</td>\n",
       "      <td>1.428361e+08</td>\n",
       "      <td>107314.908340</td>\n",
       "      <td>0.773</td>\n",
       "    </tr>\n",
       "    <tr>\n",
       "      <th>36</th>\n",
       "      <td>빌리지 고가의 질주 2</td>\n",
       "      <td>614</td>\n",
       "      <td>5617.0</td>\n",
       "      <td>1797.0</td>\n",
       "      <td>31.9922</td>\n",
       "      <td>1.578491e+08</td>\n",
       "      <td>120311.817835</td>\n",
       "      <td>0.768</td>\n",
       "    </tr>\n",
       "    <tr>\n",
       "      <th>37</th>\n",
       "      <td>1920 기차역 질주</td>\n",
       "      <td>614</td>\n",
       "      <td>5859.0</td>\n",
       "      <td>1964.0</td>\n",
       "      <td>33.5211</td>\n",
       "      <td>1.778394e+08</td>\n",
       "      <td>134624.864497</td>\n",
       "      <td>0.768</td>\n",
       "    </tr>\n",
       "    <tr>\n",
       "      <th>38</th>\n",
       "      <td>1920 아슬아슬 비행장</td>\n",
       "      <td>572</td>\n",
       "      <td>12590.0</td>\n",
       "      <td>5069.0</td>\n",
       "      <td>40.2621</td>\n",
       "      <td>2.903608e+08</td>\n",
       "      <td>158667.102186</td>\n",
       "      <td>0.715</td>\n",
       "    </tr>\n",
       "    <tr>\n",
       "      <th>39</th>\n",
       "      <td>포레스트 골짜기</td>\n",
       "      <td>517</td>\n",
       "      <td>5694.0</td>\n",
       "      <td>2536.0</td>\n",
       "      <td>44.5381</td>\n",
       "      <td>1.397972e+08</td>\n",
       "      <td>117279.540268</td>\n",
       "      <td>0.647</td>\n",
       "    </tr>\n",
       "    <tr>\n",
       "      <th>40</th>\n",
       "      <td>사막 베거이 시장</td>\n",
       "      <td>509</td>\n",
       "      <td>5031.0</td>\n",
       "      <td>1877.0</td>\n",
       "      <td>37.3087</td>\n",
       "      <td>1.107466e+08</td>\n",
       "      <td>92674.969038</td>\n",
       "      <td>0.637</td>\n",
       "    </tr>\n",
       "    <tr>\n",
       "      <th>41</th>\n",
       "      <td>포레스트 기암괴석</td>\n",
       "      <td>505</td>\n",
       "      <td>4271.0</td>\n",
       "      <td>1281.0</td>\n",
       "      <td>29.9930</td>\n",
       "      <td>9.427483e+07</td>\n",
       "      <td>89444.813093</td>\n",
       "      <td>0.632</td>\n",
       "    </tr>\n",
       "    <tr>\n",
       "      <th>42</th>\n",
       "      <td>포레스트 행복한 팬더 마을</td>\n",
       "      <td>498</td>\n",
       "      <td>4601.0</td>\n",
       "      <td>1757.0</td>\n",
       "      <td>38.1874</td>\n",
       "      <td>9.955456e+07</td>\n",
       "      <td>94543.746439</td>\n",
       "      <td>0.623</td>\n",
       "    </tr>\n",
       "    <tr>\n",
       "      <th>43</th>\n",
       "      <td>노르테유 익스프레스</td>\n",
       "      <td>491</td>\n",
       "      <td>3799.0</td>\n",
       "      <td>1706.0</td>\n",
       "      <td>44.9066</td>\n",
       "      <td>1.456907e+08</td>\n",
       "      <td>155985.805139</td>\n",
       "      <td>0.614</td>\n",
       "    </tr>\n",
       "  </tbody>\n",
       "</table>\n",
       "</div>"
      ],
      "text/plain": [
       "           map_name  cnt_match  cnt_user  cnt_retire_user  percent_retire  \\\n",
       "0            빌리지 운하      10325  215222.0          70792.0         32.8925   \n",
       "1              트랙 9       7067   12807.0           3766.0         29.4058   \n",
       "2      노르테유 허공의 갈림길       5343    8232.0           1794.0         21.7930   \n",
       "3    코리아 제주 해오름 다운힐       4183   25468.0           8688.0         34.1134   \n",
       "4        빌리지 고가의 질주       2714   30486.0          10096.0         33.1168   \n",
       "5        비치 해변 드라이브       2140   24805.0          11344.0         45.7327   \n",
       "6       사막 버려진 오아시스       1543    7449.0           3560.0         47.7916   \n",
       "7       메이플 헤네시스 공원       1507   20226.0           7559.0         37.3727   \n",
       "8            빌리지 남산       1457   19645.0           5778.0         29.4121   \n",
       "9      메이플 리스항구 언덕길       1452   19738.0           8864.0         44.9083   \n",
       "10       WKC 코리아 서킷       1311   19796.0           6257.0         31.6074   \n",
       "11      네모 산타의 비밀공간       1104   16638.0           9466.0         56.8939   \n",
       "12        월드 뉴욕 대질주       1085   15975.0           6617.0         41.4210   \n",
       "13  메이플 레헬른 악몽의 시계탑       1079   15722.0          11523.0         73.2922   \n",
       "14      차이나 상해 동방명주       1048   10206.0           3545.0         34.7345   \n",
       "15           차이나 라사       1039   17778.0           6998.0         39.3633   \n",
       "16     메이플 리스항구 선착장       1030    1954.0            369.0         18.8843   \n",
       "17        월드 리오 다운힐        978   15833.0           5327.0         33.6449   \n",
       "18      월드 두바이 다운타운        931   17109.0           9299.0         54.3515   \n",
       "19       빌리지 운명의 다리        894   14771.0           7801.0         52.8129   \n",
       "20       노르테유 스카이웨이        852   14073.0           8563.0         60.8470   \n",
       "21        쥐라기 공룡 무덤        828   14534.0           5217.0         35.8951   \n",
       "22      WKC 크레이지 10        825   19948.0          11755.0         58.9282   \n",
       "23        신화 신들의 세계        821   15442.0           4222.0         27.3410   \n",
       "24          빌리지 손가락        816    6533.0           3359.0         51.4159   \n",
       "25       WKC 투어링 랠리        796   14644.0           6741.0         46.0325   \n",
       "26      네모 장난감 선물공장        793   12917.0           5707.0         44.1821   \n",
       "27      브로디 비밀의 연구소        722   14779.0           5935.0         40.1583   \n",
       "28       쥐라기 공룡 결투장        722   14597.0           7386.0         50.5994   \n",
       "29       차이나 서안 병마용        719    5739.0           2349.0         40.9305   \n",
       "30           차이나 황산        700   14469.0           6742.0         46.5962   \n",
       "31       WKC 싱가폴 서킷        697    6956.0           3428.0         49.2812   \n",
       "32       차이나 북경 자금성        677    6658.0           3024.0         45.4190   \n",
       "33   월드 이탈리아 피사의 사탑        661   14803.0           8051.0         54.3876   \n",
       "34     차이나 서안 병마용 2        647   15169.0           8546.0         56.3386   \n",
       "35       빌리지 두개의 관문        618    5446.0           2266.0         41.6085   \n",
       "36     빌리지 고가의 질주 2        614    5617.0           1797.0         31.9922   \n",
       "37      1920 기차역 질주        614    5859.0           1964.0         33.5211   \n",
       "38    1920 아슬아슬 비행장        572   12590.0           5069.0         40.2621   \n",
       "39         포레스트 골짜기        517    5694.0           2536.0         44.5381   \n",
       "40        사막 베거이 시장        509    5031.0           1877.0         37.3087   \n",
       "41        포레스트 기암괴석        505    4271.0           1281.0         29.9930   \n",
       "42   포레스트 행복한 팬더 마을        498    4601.0           1757.0         38.1874   \n",
       "43       노르테유 익스프레스        491    3799.0           1706.0         44.9066   \n",
       "\n",
       "    SUM_match_time  AVG_match_time  percentage  \n",
       "0     1.809054e+09    51731.585016      12.914  \n",
       "1     4.570849e+08    55451.285454       8.839  \n",
       "2     3.461118e+08    58982.931152       6.683  \n",
       "3     4.962177e+08    68794.905171       5.232  \n",
       "4     7.808868e+08   116969.266327       3.395  \n",
       "5     6.537340e+08   128865.355805       2.677  \n",
       "6     2.198743e+08   104354.199336       1.930  \n",
       "7     3.790161e+08    98933.980684       1.885  \n",
       "8     4.193928e+08   109673.854864       1.822  \n",
       "9     3.164022e+08    92515.272515       1.816  \n",
       "10    4.454642e+08   120722.013821       1.640  \n",
       "11    3.197435e+08   120566.943816       1.381  \n",
       "12    2.871091e+08   101165.995419       1.357  \n",
       "13    3.374342e+08   136668.366140       1.350  \n",
       "14    2.598528e+08   104737.140266       1.311  \n",
       "15    3.717552e+08   124708.214693       1.300  \n",
       "16    9.616066e+07    75717.058268       1.288  \n",
       "17    2.310178e+08    81950.260731       1.223  \n",
       "18    3.158509e+08   120232.557290       1.164  \n",
       "19    3.270594e+08   145489.060053       1.118  \n",
       "20    3.017929e+08   143369.540143       1.066  \n",
       "21    2.903866e+08   115876.542698       1.036  \n",
       "22    9.077042e+07    55246.758369       1.032  \n",
       "23    2.722103e+08   101571.016418       1.027  \n",
       "24    2.024365e+08   122023.192887       1.021  \n",
       "25    2.226388e+08   103408.655365       0.996  \n",
       "26    1.821593e+08    86413.312619       0.992  \n",
       "27    3.376013e+08   148265.835310       0.903  \n",
       "28    2.769068e+08   130863.327032       0.903  \n",
       "29    1.821898e+08   126784.851775       0.899  \n",
       "30    1.956892e+08    92349.797074       0.876  \n",
       "31    2.301378e+08   150515.262917       0.872  \n",
       "32    1.499707e+08    99913.855430       0.847  \n",
       "33    1.709861e+08    82842.098837       0.827  \n",
       "34    2.155965e+08   105892.169941       0.809  \n",
       "35    1.428361e+08   107314.908340       0.773  \n",
       "36    1.578491e+08   120311.817835       0.768  \n",
       "37    1.778394e+08   134624.864497       0.768  \n",
       "38    2.903608e+08   158667.102186       0.715  \n",
       "39    1.397972e+08   117279.540268       0.647  \n",
       "40    1.107466e+08    92674.969038       0.637  \n",
       "41    9.427483e+07    89444.813093       0.632  \n",
       "42    9.955456e+07    94543.746439       0.623  \n",
       "43    1.456907e+08   155985.805139       0.614  "
      ]
     },
     "metadata": {},
     "output_type": "display_data"
    }
   ],
   "source": [
    "# (1) 상위 트랙 기준 정하기 (상위 25%)\n",
    "# Q3 이상, 상위 테이블로 만들기\n",
    "# 482.75이상, 44건\n",
    "\n",
    "upper_Q3_df = cnt_match_df.loc[cnt_match_df.cnt_match >= Q3]\n",
    "print(len(upper_Q3_df))\n",
    "#print(Q3)upper_Q3_df\n",
    "display(upper_Q3_df)"
   ]
  },
  {
   "cell_type": "markdown",
   "id": "c376de46",
   "metadata": {},
   "source": [
    "### 하위 트랙 기준 정하기"
   ]
  },
  {
   "cell_type": "code",
   "execution_count": 17,
   "id": "1c77ce06",
   "metadata": {},
   "outputs": [
    {
     "data": {
      "text/plain": [
       "44"
      ]
     },
     "execution_count": 17,
     "metadata": {},
     "output_type": "execute_result"
    }
   ],
   "source": [
    "# (1) 하위 트랙 기준 정하기, 하위 25%\n",
    "# Q1 미만을 확인, 44개\n",
    "# 29 ~ 59\n",
    "\n",
    "lower_Q1_df = cnt_match_df.loc[cnt_match_df.cnt_match < Q1]\n",
    "len(lower_Q1_df)\n",
    "# display(lower_Q1_df)"
   ]
  },
  {
   "cell_type": "markdown",
   "id": "f28a7691",
   "metadata": {},
   "source": [
    "아래는 하위 트랙 기준을 정하기 위해 논의했던 내용들  \n",
    "box-plot 기준으로 데이터를 추출할까 고민하였으나, 통상적 의미의 '하위' 를 추출하는 게 낫겠다고 판단하였음"
   ]
  },
  {
   "cell_type": "code",
   "execution_count": 18,
   "id": "3cc51ae4",
   "metadata": {},
   "outputs": [],
   "source": [
    "# # (2) 하위 트랙 기준 정하기\n",
    "# # Q1 ~ Q2 사이를 확인하기\n",
    "# # Q1 이상, Q2 미만, 43개\n",
    "# # 60 ~ 125\n",
    "\n",
    "\n",
    "# lower_Q1Q2_df = cnt_match_df.loc[(cnt_match_df.cnt_match >= Q1) & (cnt_match_df.cnt_match < Q2)]\n",
    "# len(lower_Q1Q2_df)\n",
    "# # display(lower_Q1Q2_df)"
   ]
  },
  {
   "cell_type": "code",
   "execution_count": 19,
   "id": "994bac84",
   "metadata": {},
   "outputs": [],
   "source": [
    "# # (2) 하위 트랙 기준 정하기\n",
    "# # Q2 미만을 확인하기\n",
    "# # Q2 미만, 87개\n",
    "\n",
    "\n",
    "\n",
    "# lower_Q2_df = cnt_match_df.loc[cnt_match_df.cnt_match < Q2]\n",
    "# # lower_Q2_df.head(25)\n"
   ]
  },
  {
   "cell_type": "code",
   "execution_count": 20,
   "id": "0352a687",
   "metadata": {},
   "outputs": [],
   "source": [
    "# # (3) 하위 트랙 기준 정하기\n",
    "# # Q2 기준 위 아래로 12.5%씩 출력\n",
    "\n",
    "# Q2_5 = cnt_match_df['cnt_match'].quantile(0.375)\n",
    "# Q3_5 = cnt_match_df['cnt_match'].quantile(0.625)\n",
    "\n",
    "# between_Q2_df = cnt_match_df.loc[(cnt_match_df.cnt_match >= Q2_5) & (cnt_match_df.cnt_match < Q3_5)]\n",
    "# print(len(between_Q2_df))\n",
    "# # display(between_Q2_df)"
   ]
  },
  {
   "cell_type": "code",
   "execution_count": 21,
   "id": "ff0e814c",
   "metadata": {},
   "outputs": [
    {
     "data": {
      "text/html": [
       "<div>\n",
       "<style scoped>\n",
       "    .dataframe tbody tr th:only-of-type {\n",
       "        vertical-align: middle;\n",
       "    }\n",
       "\n",
       "    .dataframe tbody tr th {\n",
       "        vertical-align: top;\n",
       "    }\n",
       "\n",
       "    .dataframe thead th {\n",
       "        text-align: right;\n",
       "    }\n",
       "</style>\n",
       "<table border=\"1\" class=\"dataframe\">\n",
       "  <thead>\n",
       "    <tr style=\"text-align: right;\">\n",
       "      <th></th>\n",
       "      <th>map_name</th>\n",
       "      <th>cnt_match</th>\n",
       "      <th>cnt_user</th>\n",
       "      <th>cnt_retire_user</th>\n",
       "      <th>percent_retire</th>\n",
       "      <th>SUM_match_time</th>\n",
       "      <th>AVG_match_time</th>\n",
       "      <th>percentage</th>\n",
       "    </tr>\n",
       "  </thead>\n",
       "  <tbody>\n",
       "    <tr>\n",
       "      <th>43</th>\n",
       "      <td>노르테유 익스프레스</td>\n",
       "      <td>491</td>\n",
       "      <td>3799.0</td>\n",
       "      <td>1706.0</td>\n",
       "      <td>44.9066</td>\n",
       "      <td>145690742.0</td>\n",
       "      <td>155985.805139</td>\n",
       "      <td>0.614</td>\n",
       "    </tr>\n",
       "  </tbody>\n",
       "</table>\n",
       "</div>"
      ],
      "text/plain": [
       "      map_name  cnt_match  cnt_user  cnt_retire_user  percent_retire  \\\n",
       "43  노르테유 익스프레스        491    3799.0           1706.0         44.9066   \n",
       "\n",
       "    SUM_match_time  AVG_match_time  percentage  \n",
       "43     145690742.0   155985.805139       0.614  "
      ]
     },
     "metadata": {},
     "output_type": "display_data"
    },
    {
     "data": {
      "text/html": [
       "<div>\n",
       "<style scoped>\n",
       "    .dataframe tbody tr th:only-of-type {\n",
       "        vertical-align: middle;\n",
       "    }\n",
       "\n",
       "    .dataframe tbody tr th {\n",
       "        vertical-align: top;\n",
       "    }\n",
       "\n",
       "    .dataframe thead th {\n",
       "        text-align: right;\n",
       "    }\n",
       "</style>\n",
       "<table border=\"1\" class=\"dataframe\">\n",
       "  <thead>\n",
       "    <tr style=\"text-align: right;\">\n",
       "      <th></th>\n",
       "      <th>map_name</th>\n",
       "      <th>cnt_match</th>\n",
       "      <th>cnt_user</th>\n",
       "      <th>cnt_retire_user</th>\n",
       "      <th>percent_retire</th>\n",
       "      <th>SUM_match_time</th>\n",
       "      <th>AVG_match_time</th>\n",
       "      <th>percentage</th>\n",
       "    </tr>\n",
       "  </thead>\n",
       "  <tbody>\n",
       "    <tr>\n",
       "      <th>131</th>\n",
       "      <td>신화 오딘의 궁전</td>\n",
       "      <td>59</td>\n",
       "      <td>484.0</td>\n",
       "      <td>156.0</td>\n",
       "      <td>32.2314</td>\n",
       "      <td>16143666.0</td>\n",
       "      <td>136810.728814</td>\n",
       "      <td>0.074</td>\n",
       "    </tr>\n",
       "  </tbody>\n",
       "</table>\n",
       "</div>"
      ],
      "text/plain": [
       "      map_name  cnt_match  cnt_user  cnt_retire_user  percent_retire  \\\n",
       "131  신화 오딘의 궁전         59     484.0            156.0         32.2314   \n",
       "\n",
       "     SUM_match_time  AVG_match_time  percentage  \n",
       "131      16143666.0   136810.728814       0.074  "
      ]
     },
     "metadata": {},
     "output_type": "display_data"
    }
   ],
   "source": [
    "# 상위 트랙 리스트 중 최하위열\n",
    "display(upper_Q3_df.tail(1))\n",
    "\n",
    "# 하위 트랙 리스트 중 최상위열\n",
    "display(lower_Q1_df.head(1))"
   ]
  },
  {
   "cell_type": "code",
   "execution_count": 22,
   "id": "6a85f4b3",
   "metadata": {},
   "outputs": [],
   "source": [
    "# 저장하기\n",
    "\n",
    "upper_Q3_df.to_csv(path + 'upper_match_map.csv', index=False, encoding = 'utf-8')\n",
    "lower_Q1_df.to_csv(path + 'lower_match_map.csv', index=False, encoding = 'utf-8')"
   ]
  },
  {
   "cell_type": "markdown",
   "id": "91585ff8",
   "metadata": {},
   "source": [
    "## cnt_user 상위 / 하위 결정 기준"
   ]
  },
  {
   "cell_type": "markdown",
   "id": "9cd890ad",
   "metadata": {},
   "source": [
    "### 기본 데이터 분포 확인"
   ]
  },
  {
   "cell_type": "code",
   "execution_count": 24,
   "id": "0c7c4da9",
   "metadata": {
    "scrolled": true
   },
   "outputs": [
    {
     "data": {
      "text/plain": [
       "count       319.000000\n",
       "mean       2821.912226\n",
       "std       12915.210623\n",
       "min           4.000000\n",
       "25%          78.500000\n",
       "50%         187.000000\n",
       "75%        1047.500000\n",
       "max      215222.000000\n",
       "Name: cnt_user, dtype: float64"
      ]
     },
     "execution_count": 24,
     "metadata": {},
     "output_type": "execute_result"
    }
   ],
   "source": [
    "kpi.cnt_user.describe()\n",
    "\n",
    "# 하위 25%가 78명\n",
    "# 우리 데이터는 28일치 데이터\n",
    "# 한 매치당 몇 명의 플레이어가 플레이 하는지 평균 / 중위값을 알아내보자\n",
    "# 그래서 한 매치당 평균 플레이어 수가 나올테니, 거기서 * 28을 해볼까\n",
    "\n",
    "\n",
    "# 한 매치당 중위수 기준 2명 정도 들어가는 것으로 파악됨\n",
    "# 그 맵이 하루에 한 번 플레이 됐다면, 최소 2명 * 28이니 56명은 있어야 하는데\n",
    "# 56보다 적다면 하루에 한 번도 플레이 하지 않은 것으로 해석할 수 있지 않을까?"
   ]
  },
  {
   "cell_type": "code",
   "execution_count": 25,
   "id": "c4b6de0e",
   "metadata": {},
   "outputs": [],
   "source": [
    "# # 맵당 플레이 한 유저 수 파악하기\n",
    "\n",
    "# fig, ax = plt.subplots(figsize = (10, 8))\n",
    "\n",
    "# sns.set_style('whitegrid')\n",
    "# sns.histplot(kpi.cnt_user, kde = True)\n",
    "\n",
    "# plt.title('user distribution by map')"
   ]
  },
  {
   "cell_type": "markdown",
   "id": "aa481d1b",
   "metadata": {},
   "source": [
    "### 매치 당 유저 수 파악"
   ]
  },
  {
   "cell_type": "code",
   "execution_count": 27,
   "id": "ab5d0bb1",
   "metadata": {
    "scrolled": true
   },
   "outputs": [],
   "source": [
    "# 매치당 유저 수 파악하기\n",
    "# 평균, 중위수, 최빈값 확인\n",
    "# 필요하다면 시각화 해서 확인\n",
    "\n",
    "# 각 맵당 플레이 한 유저 수 테이블 새로 생성하여 import\n",
    "find_user_cnt = pd.read_csv(path + \"00-single_speed_match_id_Player.csv\")\n",
    "find_user_cnt.head(3)\n",
    "\n",
    "print('산술평균 :', find_user_cnt.cnt_user.mean())    \n",
    "print('중위수 :', find_user_cnt.cnt_user.median())    "
   ]
  },
  {
   "cell_type": "code",
   "execution_count": null,
   "id": "891caded",
   "metadata": {},
   "outputs": [],
   "source": [
    "from collections import Counter\n",
    "list3_count = Counter(find_user_cnt.cnt_user) #각 속성별 갯수 구하기\n",
    "list3_count.most_common(1) "
   ]
  },
  {
   "cell_type": "code",
   "execution_count": null,
   "id": "b442882b",
   "metadata": {},
   "outputs": [],
   "source": [
    "from collections import Counter\n",
    "list3_count = Counter(find_user_cnt.cnt_user) #각 속성별 갯수 구하기\n",
    "list3_count.most_common(3)"
   ]
  },
  {
   "cell_type": "code",
   "execution_count": null,
   "id": "3d763210",
   "metadata": {
    "scrolled": true
   },
   "outputs": [],
   "source": [
    "fig, ax = plt.subplots(figsize = (10, 8))\n",
    "\n",
    "sns.set_style('whitegrid')\n",
    "sns.histplot(find_user_cnt.cnt_user,bins = range(0,10,1), kde = True)\n",
    "\n",
    "plt.title('user distribution by match')"
   ]
  },
  {
   "cell_type": "markdown",
   "id": "2d2b51e1",
   "metadata": {},
   "source": [
    "### 사용하지 않을 데이터 기준"
   ]
  },
  {
   "cell_type": "code",
   "execution_count": null,
   "id": "bb2a6912",
   "metadata": {},
   "outputs": [],
   "source": [
    "# 중위수 기준 매치당 2명의 플레이어가 배정됨\n",
    "# 하루에 한 건의 매치가 발생했다면, 최소 56명의 플레이어가 해당 맵을 플레이 했어야 함\n",
    "# 따라서, 28일 동안 플레이 한 유저 수가 56명 이하인 경우는 제거하기로 함\n",
    "\n",
    "# 하루에 한 번도 플레이 하지 않은 맵 (4일 동안 최소 4번, n일동안 최소 n번) 은 삭제하기로 함\n",
    "\n",
    "kpi_for_user = kpi\n",
    "cnt_user_df = kpi_for_user.loc[kpi.cnt_user > 56]"
   ]
  },
  {
   "cell_type": "code",
   "execution_count": null,
   "id": "3f38406b",
   "metadata": {},
   "outputs": [],
   "source": [
    "cnt_user_df  # 전체 274건"
   ]
  },
  {
   "cell_type": "code",
   "execution_count": null,
   "id": "881e34a1",
   "metadata": {},
   "outputs": [],
   "source": [
    "# 로그 씌우기 전 cnt_user값 사분위수 확인하기\n",
    "\n",
    "user_Q1 = cnt_user_df['cnt_user'].quantile(0.25)\n",
    "user_Q2 = cnt_user_df['cnt_user'].quantile(0.5)\n",
    "user_Q3 = cnt_user_df['cnt_user'].quantile(0.75)\n",
    "\n",
    "print('Q1 : ', user_Q1)\n",
    "print('Q2 : ', user_Q2)\n",
    "print('Q3 : ', user_Q3)\n",
    "\n",
    "print('- ' * 36)\n",
    "print('max : ', cnt_user_df.cnt_user.max())\n",
    "print('min : ', cnt_user_df.cnt_user.min())\n",
    "\n",
    "print(cnt_user_df.count())"
   ]
  },
  {
   "cell_type": "code",
   "execution_count": null,
   "id": "c04746b2",
   "metadata": {
    "scrolled": true
   },
   "outputs": [],
   "source": [
    "# 이상치 확인하기\n",
    "# cnt_user 기준 이상치는 46개, 전부 Q3 이상에서 발생\n",
    "# 이상치의 전체 비율은 16.788\n",
    "# -> 로그 씌워서 파악해야 할 것 같음\n",
    "\n",
    "# detect_num(cnt_user_df)"
   ]
  },
  {
   "cell_type": "markdown",
   "id": "729fc254",
   "metadata": {},
   "source": [
    "### 상위 트랙 기준 정하기"
   ]
  },
  {
   "cell_type": "code",
   "execution_count": null,
   "id": "69ab2293",
   "metadata": {},
   "outputs": [],
   "source": [
    "# 이상치 46개\n",
    "# 로그를 씌우지 않으면 match와 같은 기준을 설정할 수 없을 것이라고 판단\n",
    "\n",
    "#cnt_user_df[['cnt_user']].boxplot(figsize = (15, 10))"
   ]
  },
  {
   "cell_type": "code",
   "execution_count": null,
   "id": "75f878ab",
   "metadata": {},
   "outputs": [],
   "source": [
    "# (1) 로그 씌우지 않은 데이터 - 상위 트랙 기준 정하기\n",
    "# Q3 이상, 상위 테이블로 만들기\n",
    "# 1416.0이상, 69건\n",
    "\n",
    "user_upper_Q3_df = cnt_user_df.loc[cnt_user_df.cnt_user >= user_Q3]\n",
    "# len(user_upper_Q3_df)\n",
    "# display(user_upper_Q3_df)"
   ]
  },
  {
   "cell_type": "code",
   "execution_count": null,
   "id": "2d2d2a92",
   "metadata": {
    "scrolled": true
   },
   "outputs": [],
   "source": [
    "# cnt_match에 log 씌워보기\n",
    "\n",
    "cnt_user_df['log_cnt'] = np.log1p(cnt_user_df['cnt_user'])\n",
    "test_df = cnt_user_df[['map_name', 'cnt_user', 'log_cnt']]\n",
    "test_df"
   ]
  },
  {
   "cell_type": "code",
   "execution_count": null,
   "id": "2d9fbfa1",
   "metadata": {},
   "outputs": [],
   "source": [
    "log_user_Q1 = test_df['log_cnt'].quantile(0.25)\n",
    "log_user_Q2 = test_df['log_cnt'].quantile(0.5)\n",
    "log_user_Q3 = test_df['log_cnt'].quantile(0.75)\n",
    "\n",
    "print('Q1 : ', log_user_Q1)\n",
    "print('Q2 : ', log_user_Q2)\n",
    "print('Q3 : ', log_user_Q3)"
   ]
  },
  {
   "cell_type": "code",
   "execution_count": null,
   "id": "ae1278d6",
   "metadata": {
    "scrolled": true
   },
   "outputs": [],
   "source": [
    "detect_num(test_df)"
   ]
  },
  {
   "cell_type": "code",
   "execution_count": null,
   "id": "f14caae5",
   "metadata": {
    "scrolled": true
   },
   "outputs": [],
   "source": [
    "log_user_upper_Q3_df = test_df.loc[test_df.log_cnt >= log_user_Q3]\n",
    "len(log_user_upper_Q3_df)\n",
    "display(log_user_upper_Q3_df)"
   ]
  },
  {
   "cell_type": "markdown",
   "id": "6842ec98",
   "metadata": {},
   "source": [
    "### 효진요청\n",
    "- cnt_user가 2072를 초과한 트랙의 수 \n",
    "- 한 매치당 플레이어 중위수(2) * 28일 * 각 트랙 별 매치수의 중위수(37)"
   ]
  },
  {
   "cell_type": "code",
   "execution_count": null,
   "id": "7534c8f9",
   "metadata": {},
   "outputs": [],
   "source": [
    "len(cnt_user_df.loc[cnt_user_df.cnt_user > 2072])"
   ]
  }
 ],
 "metadata": {
  "kernelspec": {
   "display_name": "Python 3 (ipykernel)",
   "language": "python",
   "name": "python3"
  },
  "language_info": {
   "codemirror_mode": {
    "name": "ipython",
    "version": 3
   },
   "file_extension": ".py",
   "mimetype": "text/x-python",
   "name": "python",
   "nbconvert_exporter": "python",
   "pygments_lexer": "ipython3",
   "version": "3.9.7"
  },
  "toc": {
   "base_numbering": 1,
   "nav_menu": {},
   "number_sections": true,
   "sideBar": true,
   "skip_h1_title": false,
   "title_cell": "Table of Contents",
   "title_sidebar": "Contents",
   "toc_cell": false,
   "toc_position": {},
   "toc_section_display": true,
   "toc_window_display": true
  }
 },
 "nbformat": 4,
 "nbformat_minor": 5
}
