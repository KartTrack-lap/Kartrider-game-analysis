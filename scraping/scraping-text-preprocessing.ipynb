{
 "cells": [
  {
   "cell_type": "markdown",
   "id": "4d3311f6",
   "metadata": {},
   "source": [
    "# 라이브러리 import"
   ]
  },
  {
   "cell_type": "code",
   "execution_count": 1,
   "id": "d26ccaba",
   "metadata": {},
   "outputs": [],
   "source": [
    "import pandas as pd\n",
    "import matplotlib.pyplot as plt\n",
    "import numpy as np\n",
    "import seaborn as sns\n",
    "from matplotlib import rc # 폰트\n",
    "from datetime import datetime\n",
    "import time\n",
    "from datetime import timedelta\n",
    "import warnings\n",
    "warnings.filterwarnings('ignore')\n",
    "# datetime.strptime(start_date, '%Y-%m-%d %H:%M:%S')\n",
    "\n",
    "pd.set_option ('display.max_rows', 10)\n",
    "\n",
    "\n",
    "\n",
    "# path = 'C:\\\\Users\\\\wldbs\\\\Desktop\\\\kart-game-project\\\\[data]_crawling\\\\'"
   ]
  },
  {
   "cell_type": "markdown",
   "id": "be783a59",
   "metadata": {},
   "source": [
    "# 크롤링 데이터 전처리"
   ]
  },
  {
   "cell_type": "code",
   "execution_count": 5,
   "id": "3b6bd8ca",
   "metadata": {},
   "outputs": [],
   "source": [
    "crawl = pd.read_csv(path + 'scraping-rawdata.csv')"
   ]
  },
  {
   "cell_type": "code",
   "execution_count": 6,
   "id": "608db0f8",
   "metadata": {},
   "outputs": [],
   "source": [
    "# merge를 위해 변수명 변경\n",
    "\n",
    "crawl.columns = ['map_name', '태그', '난이도', '랩', '트랙 길이', '진행 방향', '트랙 분류', 'AI 주행', '첫 등장일','리그 트랙', '라이센스', '약칭']"
   ]
  },
  {
   "cell_type": "code",
   "execution_count": 7,
   "id": "5a182933",
   "metadata": {},
   "outputs": [],
   "source": [
    "# 차이나 북경 경기장의 경우 난이도, 랩 잘못 입력되어있음. 아예 삭제하는 게 낫겠다는 판단\n",
    "drop_data = crawl[crawl['난이도'].isnull()].index\n",
    "\n",
    "crawl.drop(drop_data, inplace = True)"
   ]
  },
  {
   "cell_type": "code",
   "execution_count": 8,
   "id": "e4ee8b47",
   "metadata": {},
   "outputs": [],
   "source": [
    "# 결측치 대치 (missing 이라는 문자값으로 입력되게 함)\n",
    "\n",
    "crawl = crawl.fillna('missing')"
   ]
  },
  {
   "cell_type": "code",
   "execution_count": 9,
   "id": "be0e6d52",
   "metadata": {},
   "outputs": [],
   "source": [
    "# 필요 없는 컬럼 제거\n",
    "\n",
    "crawl = crawl.drop(['태그', '트랙 분류', '리그 트랙', '라이센스', '약칭', 'AI 주행'], axis = 1)"
   ]
  },
  {
   "cell_type": "code",
   "execution_count": 10,
   "id": "ac0ac98b",
   "metadata": {},
   "outputs": [],
   "source": [
    "# 난이도 문자열 - 숫자열로 변경\n",
    "\n",
    "crawl['난이도'] = crawl.난이도.str.split('[').str[0]\n",
    "crawl['난이도'] = crawl.난이도.str.split(' ').str[0]\n",
    "\n",
    "crawl.난이도.unique()\n",
    "\n",
    "crawl['난이도'].replace( {'●○○○○' : 1,\n",
    "                          '●●○○○' : 2,\n",
    "                          '●●●○○' : 3,\n",
    "                          '●●●●○' : 4,\n",
    "                          '●●●●●' : 5,\n",
    "                          '●●○○○○' : 2,\n",
    "                          '●●●●●○' : 4,\n",
    "                          '●●●○○○' : 3,\n",
    "                          '●●●●●●' : 5\n",
    "                          }, inplace = True)"
   ]
  },
  {
   "cell_type": "code",
   "execution_count": 11,
   "id": "d5bd261d",
   "metadata": {},
   "outputs": [],
   "source": [
    "# 랩 문자열 - 숫자열로 변경\n",
    "\n",
    "crawl['랩'] = crawl.랩.str.split('바').str[0]\n",
    "crawl['랩']= crawl.랩.astype('int')"
   ]
  },
  {
   "cell_type": "code",
   "execution_count": 12,
   "id": "a7c03763",
   "metadata": {},
   "outputs": [],
   "source": [
    "# 트랙 길이 문자열 - 숫자열로 변경\n",
    "\n",
    "crawl['트랙 길이'].unique()\n",
    "\n",
    "crawl['트랙 길이'] = crawl['트랙 길이'].str.split('k').str[0]\n",
    "crawl['트랙 길이'] = crawl['트랙 길이'].str.split(' ').str[0]\n",
    "crawl['트랙 길이'].replace( {'???' : 0 }, inplace = True)\n",
    "\n",
    "crawl['트랙 길이'] = crawl['트랙 길이'].astype('float')"
   ]
  },
  {
   "cell_type": "code",
   "execution_count": 13,
   "id": "979bd77a",
   "metadata": {},
   "outputs": [
    {
     "data": {
      "text/plain": [
       "array(['반시계방향', '시계방향', '이중 8자형', '단선형', '8자형', '왕복형', '워프형', '스피드전',\n",
       "       '삼중 8자형', '이중 시계방향', '이중 반시계방향', '복합 8자형'], dtype=object)"
      ]
     },
     "execution_count": 13,
     "metadata": {},
     "output_type": "execute_result"
    }
   ],
   "source": [
    "# 범주형 변수 따로 변환하지 않기로 함\n",
    "crawl['진행 방향'].unique()"
   ]
  },
  {
   "cell_type": "code",
   "execution_count": 14,
   "id": "344bb1f7",
   "metadata": {},
   "outputs": [],
   "source": [
    "# # 날짜형 변환\n",
    "\n",
    "crawl['년'] = crawl['첫 등장일'].str.split(' ').str[0]\n",
    "crawl['월'] = crawl['첫 등장일'].str.split(' ').str[1]\n",
    "crawl['일'] = crawl['첫 등장일'].str.split(' ').str[2]\n",
    "\n",
    "crawl['년'] = crawl['년'].str.strip('년').str[0:4]\n",
    "crawl['월'] = crawl['월'].str.split('월').str[0]\n",
    "crawl['일'] = crawl['일'].str.split('일').str[0]\n",
    "\n",
    "crawl['월'] = crawl['월'].str.rjust(width=2,fillchar='0')        # rlpad\n",
    "crawl['일'] = crawl['일'].str.rjust(width=2,fillchar='0')        # rlpad"
   ]
  },
  {
   "cell_type": "code",
   "execution_count": 15,
   "id": "02510fe7",
   "metadata": {},
   "outputs": [
    {
     "data": {
      "text/plain": [
       "array(['2004', '2006', '2007', '2009', '2016', '2005', '2019', '2010',\n",
       "       '2015', '2020', '2008', 'miss', '2017', '2012', '2011', '2021',\n",
       "       '2013', '2014', '200-', '2022', '-', '2018'], dtype=object)"
      ]
     },
     "execution_count": 15,
     "metadata": {},
     "output_type": "execute_result"
    }
   ],
   "source": [
    "crawl['년'].unique()"
   ]
  },
  {
   "cell_type": "code",
   "execution_count": 16,
   "id": "f4365fe2",
   "metadata": {},
   "outputs": [],
   "source": [
    "# 년 변환\n",
    "crawl['년'].replace( {'200-' : np.NaN,\n",
    "                      'miss' : np.NaN,\n",
    "                      '-'    : np.NaN}, inplace = True)\n",
    "\n",
    "# 월 변환\n",
    "crawl['월'].replace( {'0-' : np.NaN,\n",
    "                      '0?' : np.NaN\n",
    "                      }, inplace = True)\n",
    "\n",
    "# 일 변환\n",
    "crawl['일'].replace( {'0-' : np.NaN,\n",
    "                      '0?' : np.NaN\n",
    "                      }, inplace = True)"
   ]
  },
  {
   "cell_type": "code",
   "execution_count": 17,
   "id": "439ce8a0",
   "metadata": {},
   "outputs": [],
   "source": [
    "# 출시일 컬럼 생성\n",
    "\n",
    "crawl['출시일'] = crawl['년'] + crawl['월'] + crawl['일']"
   ]
  },
  {
   "cell_type": "code",
   "execution_count": 21,
   "id": "8c94a6d4",
   "metadata": {},
   "outputs": [],
   "source": [
    "# crawl['출시일'].unique()"
   ]
  },
  {
   "cell_type": "code",
   "execution_count": 19,
   "id": "201166a4",
   "metadata": {},
   "outputs": [],
   "source": [
    "# 날짜형으로 변경\n",
    "\n",
    "crawl['출시일'] = pd.to_datetime(crawl['출시일'])"
   ]
  },
  {
   "cell_type": "code",
   "execution_count": 20,
   "id": "e85d64da",
   "metadata": {},
   "outputs": [],
   "source": [
    "# 출시일의 nan 값 0으로 변경\n",
    "\n",
    "crawl = crawl.fillna('0')"
   ]
  },
  {
   "cell_type": "code",
   "execution_count": 22,
   "id": "b1ebdcb2",
   "metadata": {},
   "outputs": [
    {
     "data": {
      "text/plain": [
       "304"
      ]
     },
     "execution_count": 22,
     "metadata": {},
     "output_type": "execute_result"
    }
   ],
   "source": [
    "# 중복 데이터 있는지 확인\n",
    "# 30개 행의 map_name이 중복되고 있음\n",
    "\n",
    "crawl.map_name.nunique()"
   ]
  },
  {
   "cell_type": "code",
   "execution_count": 23,
   "id": "5ea3088b",
   "metadata": {},
   "outputs": [
    {
     "data": {
      "text/html": [
       "<div>\n",
       "<style scoped>\n",
       "    .dataframe tbody tr th:only-of-type {\n",
       "        vertical-align: middle;\n",
       "    }\n",
       "\n",
       "    .dataframe tbody tr th {\n",
       "        vertical-align: top;\n",
       "    }\n",
       "\n",
       "    .dataframe thead th {\n",
       "        text-align: right;\n",
       "    }\n",
       "</style>\n",
       "<table border=\"1\" class=\"dataframe\">\n",
       "  <thead>\n",
       "    <tr style=\"text-align: right;\">\n",
       "      <th></th>\n",
       "      <th>map_name</th>\n",
       "      <th>난이도</th>\n",
       "      <th>랩</th>\n",
       "      <th>트랙 길이</th>\n",
       "      <th>진행 방향</th>\n",
       "      <th>첫 등장일</th>\n",
       "      <th>년</th>\n",
       "      <th>월</th>\n",
       "      <th>일</th>\n",
       "      <th>출시일</th>\n",
       "    </tr>\n",
       "  </thead>\n",
       "  <tbody>\n",
       "    <tr>\n",
       "      <th>58</th>\n",
       "      <td>빌리지 파괴된 시계탑</td>\n",
       "      <td>2</td>\n",
       "      <td>3</td>\n",
       "      <td>6.3</td>\n",
       "      <td>8자형</td>\n",
       "      <td>2010년 12월 30일</td>\n",
       "      <td>2010</td>\n",
       "      <td>12</td>\n",
       "      <td>30</td>\n",
       "      <td>2010-12-30 00:00:00</td>\n",
       "    </tr>\n",
       "    <tr>\n",
       "      <th>74</th>\n",
       "      <td>빌리지 파괴된 손가락</td>\n",
       "      <td>3</td>\n",
       "      <td>3</td>\n",
       "      <td>6.0</td>\n",
       "      <td>시계방향</td>\n",
       "      <td>2011년 8월 25일</td>\n",
       "      <td>2011</td>\n",
       "      <td>08</td>\n",
       "      <td>25</td>\n",
       "      <td>2011-08-25 00:00:00</td>\n",
       "    </tr>\n",
       "    <tr>\n",
       "      <th>65</th>\n",
       "      <td>빌리지 크레이지 운하</td>\n",
       "      <td>2</td>\n",
       "      <td>3</td>\n",
       "      <td>4.8</td>\n",
       "      <td>시계방향</td>\n",
       "      <td>2015년 12월 23일</td>\n",
       "      <td>2015</td>\n",
       "      <td>12</td>\n",
       "      <td>23</td>\n",
       "      <td>2015-12-23 00:00:00</td>\n",
       "    </tr>\n",
       "    <tr>\n",
       "      <th>75</th>\n",
       "      <td>빌리지 지우펀</td>\n",
       "      <td>4</td>\n",
       "      <td>1</td>\n",
       "      <td>5.5</td>\n",
       "      <td>단선형</td>\n",
       "      <td>2012년 9월 6일</td>\n",
       "      <td>2012</td>\n",
       "      <td>09</td>\n",
       "      <td>06</td>\n",
       "      <td>2012-09-06 00:00:00</td>\n",
       "    </tr>\n",
       "    <tr>\n",
       "      <th>71</th>\n",
       "      <td>빌리지 익스트림 경기장</td>\n",
       "      <td>3</td>\n",
       "      <td>2</td>\n",
       "      <td>7.4</td>\n",
       "      <td>시계방향</td>\n",
       "      <td>2008년 5월 22일</td>\n",
       "      <td>2008</td>\n",
       "      <td>05</td>\n",
       "      <td>22</td>\n",
       "      <td>2008-05-22 00:00:00</td>\n",
       "    </tr>\n",
       "    <tr>\n",
       "      <th>...</th>\n",
       "      <td>...</td>\n",
       "      <td>...</td>\n",
       "      <td>...</td>\n",
       "      <td>...</td>\n",
       "      <td>...</td>\n",
       "      <td>...</td>\n",
       "      <td>...</td>\n",
       "      <td>...</td>\n",
       "      <td>...</td>\n",
       "      <td>...</td>\n",
       "    </tr>\n",
       "    <tr>\n",
       "      <th>63</th>\n",
       "      <td>[R] 빌리지 수로</td>\n",
       "      <td>2</td>\n",
       "      <td>3</td>\n",
       "      <td>6.0</td>\n",
       "      <td>8자형</td>\n",
       "      <td>2005년 4월 14일</td>\n",
       "      <td>2005</td>\n",
       "      <td>04</td>\n",
       "      <td>14</td>\n",
       "      <td>2005-04-14 00:00:00</td>\n",
       "    </tr>\n",
       "    <tr>\n",
       "      <th>79</th>\n",
       "      <td>[R] 빌리지 손가락</td>\n",
       "      <td>3</td>\n",
       "      <td>3</td>\n",
       "      <td>6.0</td>\n",
       "      <td>반시계방향</td>\n",
       "      <td>2005년 4월 14일</td>\n",
       "      <td>2005</td>\n",
       "      <td>04</td>\n",
       "      <td>14</td>\n",
       "      <td>2005-04-14 00:00:00</td>\n",
       "    </tr>\n",
       "    <tr>\n",
       "      <th>78</th>\n",
       "      <td>[R] 빌리지 붐힐터널</td>\n",
       "      <td>4</td>\n",
       "      <td>1</td>\n",
       "      <td>5.3</td>\n",
       "      <td>반시계방향</td>\n",
       "      <td>2005년 4월 14일</td>\n",
       "      <td>2005</td>\n",
       "      <td>04</td>\n",
       "      <td>14</td>\n",
       "      <td>2005-04-14 00:00:00</td>\n",
       "    </tr>\n",
       "    <tr>\n",
       "      <th>61</th>\n",
       "      <td>[R] 빌리지 두개의 관문</td>\n",
       "      <td>1</td>\n",
       "      <td>3</td>\n",
       "      <td>6.9</td>\n",
       "      <td>반시계방향</td>\n",
       "      <td>2005년 4월 14일</td>\n",
       "      <td>2005</td>\n",
       "      <td>04</td>\n",
       "      <td>14</td>\n",
       "      <td>2005-04-14 00:00:00</td>\n",
       "    </tr>\n",
       "    <tr>\n",
       "      <th>77</th>\n",
       "      <td>[R] 빌리지 고가의 질주</td>\n",
       "      <td>3</td>\n",
       "      <td>2</td>\n",
       "      <td>7.4</td>\n",
       "      <td>반시계방향</td>\n",
       "      <td>2005년 4월 14일</td>\n",
       "      <td>2005</td>\n",
       "      <td>04</td>\n",
       "      <td>14</td>\n",
       "      <td>2005-04-14 00:00:00</td>\n",
       "    </tr>\n",
       "  </tbody>\n",
       "</table>\n",
       "<p>30 rows × 10 columns</p>\n",
       "</div>"
      ],
      "text/plain": [
       "          map_name  난이도  랩  트랙 길이  진행 방향          첫 등장일     년   월   일  \\\n",
       "58     빌리지 파괴된 시계탑    2  3    6.3    8자형  2010년 12월 30일  2010  12  30   \n",
       "74     빌리지 파괴된 손가락    3  3    6.0   시계방향   2011년 8월 25일  2011  08  25   \n",
       "65     빌리지 크레이지 운하    2  3    4.8   시계방향  2015년 12월 23일  2015  12  23   \n",
       "75         빌리지 지우펀    4  1    5.5    단선형    2012년 9월 6일  2012  09  06   \n",
       "71    빌리지 익스트림 경기장    3  2    7.4   시계방향   2008년 5월 22일  2008  05  22   \n",
       "..             ...  ... ..    ...    ...            ...   ...  ..  ..   \n",
       "63      [R] 빌리지 수로    2  3    6.0    8자형   2005년 4월 14일  2005  04  14   \n",
       "79     [R] 빌리지 손가락    3  3    6.0  반시계방향   2005년 4월 14일  2005  04  14   \n",
       "78    [R] 빌리지 붐힐터널    4  1    5.3  반시계방향   2005년 4월 14일  2005  04  14   \n",
       "61  [R] 빌리지 두개의 관문    1  3    6.9  반시계방향   2005년 4월 14일  2005  04  14   \n",
       "77  [R] 빌리지 고가의 질주    3  2    7.4  반시계방향   2005년 4월 14일  2005  04  14   \n",
       "\n",
       "                    출시일  \n",
       "58  2010-12-30 00:00:00  \n",
       "74  2011-08-25 00:00:00  \n",
       "65  2015-12-23 00:00:00  \n",
       "75  2012-09-06 00:00:00  \n",
       "71  2008-05-22 00:00:00  \n",
       "..                  ...  \n",
       "63  2005-04-14 00:00:00  \n",
       "79  2005-04-14 00:00:00  \n",
       "78  2005-04-14 00:00:00  \n",
       "61  2005-04-14 00:00:00  \n",
       "77  2005-04-14 00:00:00  \n",
       "\n",
       "[30 rows x 10 columns]"
      ]
     },
     "execution_count": 23,
     "metadata": {},
     "output_type": "execute_result"
    }
   ],
   "source": [
    "# 중복 내용이 모든 컬럼에 대해 중복인지 확인\n",
    "# 모든 컬럼에 대한 중복이 맞음\n",
    "crawl.loc[crawl.map_name.duplicated()==True].sort_values(by = 'map_name', ascending = False)"
   ]
  },
  {
   "cell_type": "code",
   "execution_count": 24,
   "id": "7dcd0a2e",
   "metadata": {},
   "outputs": [],
   "source": [
    "# 중복 제거\n",
    "crawl = crawl.drop_duplicates()"
   ]
  },
  {
   "cell_type": "markdown",
   "id": "7c6f997d",
   "metadata": {},
   "source": [
    "# json 기반 trackId와 theme table merge하기"
   ]
  },
  {
   "cell_type": "code",
   "execution_count": 27,
   "id": "ca90d288",
   "metadata": {},
   "outputs": [],
   "source": [
    "compare_table = pd.read_csv(path + \"00-json-metadata-trackId-with-map-name.csv\", encoding = 'cp949')\n",
    "\n",
    "\n",
    "# 스피드전에 대한 테마만 존재\n",
    "theme_table = pd.read_csv(path + '00-track-theme.csv')"
   ]
  },
  {
   "cell_type": "code",
   "execution_count": 2,
   "id": "25424792",
   "metadata": {},
   "outputs": [],
   "source": [
    "# 카멜롯 외곽 순찰로 이름으로 trackId가 두 개 있음 \n",
    "# 확인해보니, 3일치 데이터에서는 4cdbb5 ~ trackId만 존재함\n",
    "# 9f583 ~ ID는 과거의 아이디였을 것으로 추정됨\n",
    "# 삭제할지, (구) 를 붙여 남겨둘지는 고민필요\n",
    "\n",
    "compare_table['duplicated'] = compare_table['map_name'].duplicated()\n",
    "compare_table.loc[compare_table['duplicated'] == True]\n",
    "\n",
    "compare_table['trackId'].loc[compare_table.map_name == '카멜롯 외곽 순찰로'].to_list()"
   ]
  },
  {
   "cell_type": "code",
   "execution_count": 1,
   "id": "87d854f1",
   "metadata": {},
   "outputs": [],
   "source": [
    "# 카멜롯 외곽 순찰로의 두 trackId 중 9f~ id는 과거 id로 판단하고, 삭제하기로 결정\n",
    "# map_name 으로 join하기 때문에 (구) 를 붙여 이름을 바꾸더라도, 교집합으로 처리되지 않아 삭제될 것으로 예상되었기 때문\n",
    "\n",
    "drop_data = compare_table[compare_table['trackId'] == '9f5830793101bb00f5b1889745bef379020e668e8b969b53906113ec67a25a86'].index\n",
    "\n",
    "compare_table.drop(drop_data, inplace = True)\n",
    "\n",
    "# 필요 없는 'duplicated' 컬럼 제거\n",
    "compare_table = compare_table.drop(['duplicated'], axis = 1)"
   ]
  },
  {
   "cell_type": "code",
   "execution_count": null,
   "id": "c88e849d",
   "metadata": {},
   "outputs": [],
   "source": [
    "# trackId_name 테이블과 theme_table merge\n",
    "# meta data 기반 테이블을 기준으로 merge 하였음\n",
    "# 여기서 theme 나오지 않는 map_name의 경우 나중에 수기로 붙이기로 결정\n",
    "\n",
    "new_meta_table = pd.merge(theme_table, compare_table, left_on = '트랙이름', right_on = 'map_name', how = 'right')\n",
    "\n",
    "new_meta_table.loc[new_meta_table['트랙이름'] == new_meta_table['map_name'], 'result'] = 'equal'"
   ]
  },
  {
   "cell_type": "code",
   "execution_count": null,
   "id": "f5135ebc",
   "metadata": {},
   "outputs": [],
   "source": [
    "# 중복, 필요 없는 컬럼 제거\n",
    "\n",
    "new_meta_table = new_meta_table.drop(['트랙이름', 'result'], axis = 1)"
   ]
  },
  {
   "cell_type": "code",
   "execution_count": null,
   "id": "4bc29842",
   "metadata": {},
   "outputs": [],
   "source": [
    "# 저장\n",
    "\n",
    "new_meta_table.to_csv(path + 'scraping.csv', index=False, encoding = 'utf-8')"
   ]
  }
 ],
 "metadata": {
  "kernelspec": {
   "display_name": "Python 3 (ipykernel)",
   "language": "python",
   "name": "python3"
  },
  "language_info": {
   "codemirror_mode": {
    "name": "ipython",
    "version": 3
   },
   "file_extension": ".py",
   "mimetype": "text/x-python",
   "name": "python",
   "nbconvert_exporter": "python",
   "pygments_lexer": "ipython3",
   "version": "3.9.7"
  },
  "toc": {
   "base_numbering": 1,
   "nav_menu": {},
   "number_sections": true,
   "sideBar": true,
   "skip_h1_title": false,
   "title_cell": "Table of Contents",
   "title_sidebar": "Contents",
   "toc_cell": false,
   "toc_position": {},
   "toc_section_display": true,
   "toc_window_display": false
  }
 },
 "nbformat": 4,
 "nbformat_minor": 5
}
