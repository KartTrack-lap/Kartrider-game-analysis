{
 "cells": [
  {
   "cell_type": "code",
   "execution_count": 9,
   "id": "f6dc0bc6",
   "metadata": {},
   "outputs": [],
   "source": [
    "from selenium import webdriver\n",
    "from bs4 import BeautifulSoup \n",
    "from selenium.webdriver.chrome.service import Service\n",
    "from webdriver_manager.chrome import ChromeDriverManager\n",
    "import pandas as pd\n",
    "from tqdm import tqdm\n",
    "\n",
    "chrome_options = webdriver.ChromeOptions()\n",
    "#driver = webdriver.Chrome(service=Service(ChromeDriverManager(os_type=\"mac_arm64\").install()))\n",
    "driver = webdriver.Chrome(service=Service(ChromeDriverManager().install()), options=chrome_options)\n",
    "#driver = webdriver.Chrome(executable_path='/Users/kimsieun/Documents/Daitgirls/FinalProject/chromedriver')"
   ]
  },
  {
   "cell_type": "code",
   "execution_count": 5,
   "id": "72ffec90",
   "metadata": {},
   "outputs": [],
   "source": [
    "# 나무위키 url 리스트\n",
    "df_track_url = ['https://namu.wiki/w/%ED%81%AC%EB%A0%88%EC%9D%B4%EC%A7%80%EB%A0%88%EC%9D%B4%EC%8B%B1%20%EC%B9%B4%ED%8A%B8%EB%9D%BC%EC%9D%B4%EB%8D%94/%ED%8A%B8%EB%9E%99/%ED%8F%AC%EB%A0%88%EC%8A%A4%ED%8A%B8', \n",
    "                'https://namu.wiki/w/%ED%81%AC%EB%A0%88%EC%9D%B4%EC%A7%80%EB%A0%88%EC%9D%B4%EC%8B%B1%20%EC%B9%B4%ED%8A%B8%EB%9D%BC%EC%9D%B4%EB%8D%94/%ED%8A%B8%EB%9E%99/%EB%B9%8C%EB%A6%AC%EC%A7%80',\n",
    "                'https://namu.wiki/w/%ED%81%AC%EB%A0%88%EC%9D%B4%EC%A7%80%EB%A0%88%EC%9D%B4%EC%8B%B1%20%EC%B9%B4%ED%8A%B8%EB%9D%BC%EC%9D%B4%EB%8D%94/%ED%8A%B8%EB%9E%99/%EB%B9%8C%EB%A6%AC%EC%A7%80',\n",
    "                'https://namu.wiki/w/%ED%81%AC%EB%A0%88%EC%9D%B4%EC%A7%80%EB%A0%88%EC%9D%B4%EC%8B%B1%20%EC%B9%B4%ED%8A%B8%EB%9D%BC%EC%9D%B4%EB%8D%94/%ED%8A%B8%EB%9E%99/%EC%95%84%EC%9D%B4%EC%8A%A4',\n",
    "                'https://namu.wiki/w/%ED%81%AC%EB%A0%88%EC%9D%B4%EC%A7%80%EB%A0%88%EC%9D%B4%EC%8B%B1%20%EC%B9%B4%ED%8A%B8%EB%9D%BC%EC%9D%B4%EB%8D%94/%ED%8A%B8%EB%9E%99/%EA%B3%B5%EB%8F%99%EB%AC%98%EC%A7%80',\n",
    "                'https://namu.wiki/w/%ED%81%AC%EB%A0%88%EC%9D%B4%EC%A7%80%EB%A0%88%EC%9D%B4%EC%8B%B1%20%EC%B9%B4%ED%8A%B8%EB%9D%BC%EC%9D%B4%EB%8D%94/%ED%8A%B8%EB%9E%99/%EA%B4%91%EC%82%B0',\n",
    "                'https://namu.wiki/w/%ED%81%AC%EB%A0%88%EC%9D%B4%EC%A7%80%EB%A0%88%EC%9D%B4%EC%8B%B1%20%EC%B9%B4%ED%8A%B8%EB%9D%BC%EC%9D%B4%EB%8D%94/%ED%8A%B8%EB%9E%99/%EB%85%B8%EB%A5%B4%ED%85%8C%EC%9C%A0',\n",
    "                'https://namu.wiki/w/%ED%81%AC%EB%A0%88%EC%9D%B4%EC%A7%80%EB%A0%88%EC%9D%B4%EC%8B%B1%20%EC%B9%B4%ED%8A%B8%EB%9D%BC%EC%9D%B4%EB%8D%94/%ED%8A%B8%EB%9E%99/%ED%8C%A9%ED%86%A0%EB%A6%AC',\n",
    "                'https://namu.wiki/w/%ED%81%AC%EB%A0%88%EC%9D%B4%EC%A7%80%EB%A0%88%EC%9D%B4%EC%8B%B1%20%EC%B9%B4%ED%8A%B8%EB%9D%BC%EC%9D%B4%EB%8D%94/%ED%8A%B8%EB%9E%99/%ED%95%B4%EC%A0%81',\n",
    "                'https://namu.wiki/w/%ED%81%AC%EB%A0%88%EC%9D%B4%EC%A7%80%EB%A0%88%EC%9D%B4%EC%8B%B1%20%EC%B9%B4%ED%8A%B8%EB%9D%BC%EC%9D%B4%EB%8D%94/%ED%8A%B8%EB%9E%99/%EB%8F%99%ED%99%94',\n",
    "                'https://namu.wiki/w/%ED%81%AC%EB%A0%88%EC%9D%B4%EC%A7%80%EB%A0%88%EC%9D%B4%EC%8B%B1%20%EC%B9%B4%ED%8A%B8%EB%9D%BC%EC%9D%B4%EB%8D%94/%ED%8A%B8%EB%9E%99/%EB%AC%B8%ED%9E%90%EC%8B%9C%ED%8B%B0',\n",
    "                'https://namu.wiki/w/%ED%81%AC%EB%A0%88%EC%9D%B4%EC%A7%80%EB%A0%88%EC%9D%B4%EC%8B%B1%20%EC%B9%B4%ED%8A%B8%EB%9D%BC%EC%9D%B4%EB%8D%94/%ED%8A%B8%EB%9E%99/%ED%99%A9%EA%B8%88%EB%AC%B8%EB%AA%85',\n",
    "                'https://namu.wiki/w/%ED%81%AC%EB%A0%88%EC%9D%B4%EC%A7%80%EB%A0%88%EC%9D%B4%EC%8B%B1%20%EC%B9%B4%ED%8A%B8%EB%9D%BC%EC%9D%B4%EB%8D%94/%ED%8A%B8%EB%9E%99/%EC%B0%A8%EC%9D%B4%EB%82%98',\n",
    "                'https://namu.wiki/w/%ED%81%AC%EB%A0%88%EC%9D%B4%EC%A7%80%EB%A0%88%EC%9D%B4%EC%8B%B1%20%EC%B9%B4%ED%8A%B8%EB%9D%BC%EC%9D%B4%EB%8D%94/%ED%8A%B8%EB%9E%99/%EB%8C%80%EC%A0%80%ED%83%9D',\n",
    "                'https://namu.wiki/w/%ED%81%AC%EB%A0%88%EC%9D%B4%EC%A7%80%EB%A0%88%EC%9D%B4%EC%8B%B1%20%EC%B9%B4%ED%8A%B8%EB%9D%BC%EC%9D%B4%EB%8D%94/%ED%8A%B8%EB%9E%99/%EB%8B%98%ED%94%84',\n",
    "                'https://namu.wiki/w/%ED%81%AC%EB%A0%88%EC%9D%B4%EC%A7%80%EB%A0%88%EC%9D%B4%EC%8B%B1%20%EC%B9%B4%ED%8A%B8%EB%9D%BC%EC%9D%B4%EB%8D%94/%ED%8A%B8%EB%9E%99/%EB%A9%94%EC%B9%B4%EB%8B%89',\n",
    "                'https://namu.wiki/w/%ED%81%AC%EB%A0%88%EC%9D%B4%EC%A7%80%EB%A0%88%EC%9D%B4%EC%8B%B1%20%EC%B9%B4%ED%8A%B8%EB%9D%BC%EC%9D%B4%EB%8D%94/%ED%8A%B8%EB%9E%99/%EC%8B%9C%EC%96%91%EC%96%91',\n",
    "                'https://namu.wiki/w/%ED%81%AC%EB%A0%88%EC%9D%B4%EC%A7%80%EB%A0%88%EC%9D%B4%EC%8B%B1%20%EC%B9%B4%ED%8A%B8%EB%9D%BC%EC%9D%B4%EB%8D%94/%ED%8A%B8%EB%9E%99/WKC',\n",
    "                'https://namu.wiki/w/%ED%81%AC%EB%A0%88%EC%9D%B4%EC%A7%80%EB%A0%88%EC%9D%B4%EC%8B%B1%20%EC%B9%B4%ED%8A%B8%EB%9D%BC%EC%9D%B4%EB%8D%94/%ED%8A%B8%EB%9E%99/%EB%B8%8C%EB%A1%9C%EB%94%94',\n",
    "                'https://namu.wiki/w/%ED%81%AC%EB%A0%88%EC%9D%B4%EC%A7%80%EB%A0%88%EC%9D%B4%EC%8B%B1%20%EC%B9%B4%ED%8A%B8%EB%9D%BC%EC%9D%B4%EB%8D%94/%ED%8A%B8%EB%9E%99/%EB%86%80%EC%9D%B4%EB%8F%99%EC%82%B0',\n",
    "                'https://namu.wiki/w/%ED%81%AC%EB%A0%88%EC%9D%B4%EC%A7%80%EB%A0%88%EC%9D%B4%EC%8B%B1%20%EC%B9%B4%ED%8A%B8%EB%9D%BC%EC%9D%B4%EB%8D%94/%ED%8A%B8%EB%9E%99/%EB%B9%84%EC%B9%98',\n",
    "                'https://namu.wiki/w/%ED%81%AC%EB%A0%88%EC%9D%B4%EC%A7%80%EB%A0%88%EC%9D%B4%EC%8B%B1%20%EC%B9%B4%ED%8A%B8%EB%9D%BC%EC%9D%B4%EB%8D%94/%ED%8A%B8%EB%9E%99/1920',\n",
    "                'https://namu.wiki/w/%ED%81%AC%EB%A0%88%EC%9D%B4%EC%A7%80%EB%A0%88%EC%9D%B4%EC%8B%B1%20%EC%B9%B4%ED%8A%B8%EB%9D%BC%EC%9D%B4%EB%8D%94/%ED%8A%B8%EB%9E%99/%ED%8A%B8%EB%9E%9C%EC%8A%A4%ED%8F%AC%EB%A8%B8',\n",
    "                'https://namu.wiki/w/%ED%81%AC%EB%A0%88%EC%9D%B4%EC%A7%80%EB%A0%88%EC%9D%B4%EC%8B%B1%20%EC%B9%B4%ED%8A%B8%EB%9D%BC%EC%9D%B4%EB%8D%94/%ED%8A%B8%EB%9E%99/%EC%A5%90%EB%9D%BC%EA%B8%B0',\n",
    "                'https://namu.wiki/w/%ED%81%AC%EB%A0%88%EC%9D%B4%EC%A7%80%EB%A0%88%EC%9D%B4%EC%8B%B1%20%EC%B9%B4%ED%8A%B8%EB%9D%BC%EC%9D%B4%EB%8D%94/%ED%8A%B8%EB%9E%99/%EC%9B%94%EB%93%9C',\n",
    "                'https://namu.wiki/w/%ED%81%AC%EB%A0%88%EC%9D%B4%EC%A7%80%EB%A0%88%EC%9D%B4%EC%8B%B1%20%EC%B9%B4%ED%8A%B8%EB%9D%BC%EC%9D%B4%EB%8D%94/%ED%8A%B8%EB%9E%99/%EB%84%A4%EB%AA%A8',\n",
    "                'https://namu.wiki/w/%ED%81%AC%EB%A0%88%EC%9D%B4%EC%A7%80%EB%A0%88%EC%9D%B4%EC%8B%B1%20%EC%B9%B4%ED%8A%B8%EB%9D%BC%EC%9D%B4%EB%8D%94/%ED%8A%B8%EB%9E%99/%EB%8F%84%EA%B2%80',\n",
    "                'https://namu.wiki/w/%ED%81%AC%EB%A0%88%EC%9D%B4%EC%A7%80%EB%A0%88%EC%9D%B4%EC%8B%B1%20%EC%B9%B4%ED%8A%B8%EB%9D%BC%EC%9D%B4%EB%8D%94/%ED%8A%B8%EB%9E%99/%EC%8B%A0%ED%99%94',\n",
    "                'https://namu.wiki/w/%ED%81%AC%EB%A0%88%EC%9D%B4%EC%A7%80%EB%A0%88%EC%9D%B4%EC%8B%B1%20%EC%B9%B4%ED%8A%B8%EB%9D%BC%EC%9D%B4%EB%8D%94/%ED%8A%B8%EB%9E%99/%EC%96%B4%EB%B9%84%EC%8A%A4',\n",
    "                'https://namu.wiki/w/%ED%81%AC%EB%A0%88%EC%9D%B4%EC%A7%80%EB%A0%88%EC%9D%B4%EC%8B%B1%20%EC%B9%B4%ED%8A%B8%EB%9D%BC%EC%9D%B4%EB%8D%94/%ED%8A%B8%EB%9E%99/%EC%B9%B4%EB%A9%9C%EB%A1%AF',\n",
    "                'https://namu.wiki/w/%ED%81%AC%EB%A0%88%EC%9D%B4%EC%A7%80%EB%A0%88%EC%9D%B4%EC%8B%B1%20%EC%B9%B4%ED%8A%B8%EB%9D%BC%EC%9D%B4%EB%8D%94/%ED%8A%B8%EB%9E%99/%EC%98%AC%EB%A6%BC%ED%8F%AC%EC%8A%A4',\n",
    "                'https://namu.wiki/w/%ED%81%AC%EB%A0%88%EC%9D%B4%EC%A7%80%EB%A0%88%EC%9D%B4%EC%8B%B1%20%EC%B9%B4%ED%8A%B8%EB%9D%BC%EC%9D%B4%EB%8D%94/%ED%8A%B8%EB%9E%99/%EC%BD%94%EB%A6%AC%EC%95%84',\n",
    "                'https://namu.wiki/w/%ED%81%AC%EB%A0%88%EC%9D%B4%EC%A7%80%EB%A0%88%EC%9D%B4%EC%8B%B1%20%EC%B9%B4%ED%8A%B8%EB%9D%BC%EC%9D%B4%EB%8D%94/%ED%8A%B8%EB%9E%99/%EB%A7%88%EB%B9%84%EB%85%B8%EA%B8%B0',\n",
    "                'https://namu.wiki/w/%ED%81%AC%EB%A0%88%EC%9D%B4%EC%A7%80%EB%A0%88%EC%9D%B4%EC%8B%B1%20%EC%B9%B4%ED%8A%B8%EB%9D%BC%EC%9D%B4%EB%8D%94/%ED%8A%B8%EB%9E%99/%EB%A9%94%EC%9D%B4%ED%94%8C%EC%8A%A4%ED%86%A0%EB%A6%AC']\n",
    "        \n",
    "    "
   ]
  },
  {
   "cell_type": "code",
   "execution_count": 14,
   "id": "7045297b",
   "metadata": {},
   "outputs": [],
   "source": [
    "# 데이터 컬럼 미리 설정\n",
    "columns = [\"트랙 이름\", \"태그\", \"난이도\", \"랩\", \"트랙 길이\", \"진행 방향\", \"트랙 분류\", \"AI 주행\", \"첫 등장일\", \"리그 트랙\", \"라이센스\", \"약칭\"]"
   ]
  },
  {
   "cell_type": "code",
   "execution_count": 15,
   "id": "95ef942d",
   "metadata": {},
   "outputs": [],
   "source": [
    "# for문 생성\n",
    "def get_crawl():\n",
    "    track_data_list =[]\n",
    "    error_list=[]\n",
    "    print(len(df_track_url))\n",
    "    for a in tqdm(df_track_url):\n",
    "        chrome_options = webdriver.ChromeOptions()\n",
    "        #driver = webdriver.Chrome(service=Service(ChromeDriverManager(os_type=\"mac_arm64\").install()))\n",
    "        driver = webdriver.Chrome(service=Service(ChromeDriverManager().install()), options=chrome_options)\n",
    "        #driver = webdriver.Chrome(executable_path='/Users/kimsieun/Documents/Daitgirls/FinalProject/chromedriver')\n",
    "\n",
    "        url=a\n",
    "        driver.get(url)\n",
    "\n",
    "        html = driver.page_source  # 브라우저가 가지고 있는 정보를 가져옴\n",
    "        soup = BeautifulSoup(html, \"html.parser\")\n",
    "        track_list = soup.select(\"table.zXNrsKJD._f0b7325cc9e2662864c573d822bf4dca\")\n",
    "\n",
    "        for track_info in track_list:\n",
    "            try: \n",
    "                name = track_info.select(\"tr\")[0]   # 코드 가독성을 위해 변수 이름을 좀 더 간단하게 변경\n",
    "                tag   = track_info.select(\"tr\")[2]\n",
    "                hardness = track_info.select(\"tr\")[3]\n",
    "                laps     = track_info.select(\"tr\")[4]\n",
    "                track_length   = track_info.select(\"tr\")[5]\n",
    "                direction   = track_info.select(\"tr\")[6]\n",
    "                playmode  = track_info.select(\"tr\")[7]\n",
    "                AI  = track_info.select(\"tr\")[8]\n",
    "                # 서버는 수집에서 제외\n",
    "                release_date  = track_info.select(\"tr\")[10]\n",
    "                league_track  = track_info.select(\"tr\")[11]\n",
    "                license  = track_info.select(\"tr\")[12]\n",
    "                nickname  = track_info.select(\"tr\")[13]\n",
    "\n",
    "                track_data_list.append(\n",
    "                    [\n",
    "                        name.text,\n",
    "                        tag.text,\n",
    "                        hardness.text[3:],\n",
    "                        laps.text[1:],\n",
    "                        track_length.text[5:],\n",
    "                        direction.text[5:],\n",
    "                        playmode.text[5:],\n",
    "                        AI.text[5:],\n",
    "                        release_date.text[5:],\n",
    "                        league_track.text[5:],\n",
    "                        license.text[4:],\n",
    "                        nickname.text[2:]\n",
    "                    ]\n",
    "                )\n",
    "            # 형식에 맞지 않은 데이터는 예외처리\n",
    "            except:\n",
    "                name = track_info.select(\"tr\")[0].text\n",
    "                error_list.append(name)\n",
    "\n",
    "    df = pd.DataFrame(track_data_list, columns = columns)\n",
    "\n",
    "    driver.close()      \n",
    "    \n",
    "    return df, error_list\n"
   ]
  },
  {
   "cell_type": "code",
   "execution_count": 16,
   "id": "14dc37ef",
   "metadata": {},
   "outputs": [
    {
     "name": "stdout",
     "output_type": "stream",
     "text": [
      "34\n"
     ]
    },
    {
     "name": "stderr",
     "output_type": "stream",
     "text": [
      "100%|██████████████████████████████████████████████████████████████████████████████████| 34/34 [05:06<00:00,  9.02s/it]\n"
     ]
    }
   ],
   "source": [
    "# 데이터 수집 및 데이터프레임 생성\n",
    "df, error_list=get_crawl()\n",
    "error=pd.DataFrame(error_list)"
   ]
  },
  {
   "cell_type": "code",
   "execution_count": null,
   "id": "e0d96480",
   "metadata": {
    "scrolled": true
   },
   "outputs": [],
   "source": [
    "# csv 저장\n",
    "df.to_csv('scraping-rawdata.csv', index=False, encoding='cp949')\n",
    "error.to_csv('scraping-rawdata-error-track.csv', index=False, encoding='cp949')"
   ]
  }
 ],
 "metadata": {
  "kernelspec": {
   "display_name": "Python 3 (ipykernel)",
   "language": "python",
   "name": "python3"
  },
  "language_info": {
   "codemirror_mode": {
    "name": "ipython",
    "version": 3
   },
   "file_extension": ".py",
   "mimetype": "text/x-python",
   "name": "python",
   "nbconvert_exporter": "python",
   "pygments_lexer": "ipython3",
   "version": "3.9.12"
  },
  "toc": {
   "base_numbering": 1,
   "nav_menu": {},
   "number_sections": true,
   "sideBar": true,
   "skip_h1_title": false,
   "title_cell": "Table of Contents",
   "title_sidebar": "Contents",
   "toc_cell": false,
   "toc_position": {
    "height": "calc(100% - 180px)",
    "left": "10px",
    "top": "150px",
    "width": "165px"
   },
   "toc_section_display": true,
   "toc_window_display": true
  }
 },
 "nbformat": 4,
 "nbformat_minor": 5
}
