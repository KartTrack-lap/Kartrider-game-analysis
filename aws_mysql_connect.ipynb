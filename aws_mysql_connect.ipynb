{
 "cells": [
  {
   "cell_type": "markdown",
   "id": "592fedd3",
   "metadata": {},
   "source": [
    "https://hongjuzzang.github.io/howto/dataframe_to_mysql/"
   ]
  },
  {
   "cell_type": "code",
   "execution_count": 2,
   "id": "88cf825c",
   "metadata": {},
   "outputs": [
    {
     "name": "stdout",
     "output_type": "stream",
     "text": [
      "Collecting pymysql\n",
      "  Using cached PyMySQL-1.0.2-py3-none-any.whl (43 kB)\n",
      "Installing collected packages: pymysql\n",
      "Successfully installed pymysql-1.0.2\n"
     ]
    }
   ],
   "source": [
    "!pip install pymysql\n",
    "# !pip install sqlalchemy"
   ]
  },
  {
   "cell_type": "code",
   "execution_count": 3,
   "id": "cc573a28",
   "metadata": {
    "scrolled": false
   },
   "outputs": [],
   "source": [
    "from sqlalchemy import create_engine\n",
    "import pymysql\n",
    "import pandas as pd"
   ]
  },
  {
   "cell_type": "code",
   "execution_count": 5,
   "id": "da751d50",
   "metadata": {},
   "outputs": [],
   "source": [
    "engine=create_engine(\"mysql+pymysql://dataitgirls:\"+\"kartlovers01\" \\\n",
    "                     +\"@dataitgirls-kart.cbcbbbg7kjlk.ap-northeast-2.rds.amazonaws.com:3306/1017_test\")"
   ]
  },
  {
   "cell_type": "code",
   "execution_count": 6,
   "id": "cdb6d713",
   "metadata": {},
   "outputs": [],
   "source": [
    "conn=engine.connect()"
   ]
  },
  {
   "cell_type": "markdown",
   "id": "46b1be7c",
   "metadata": {},
   "source": [
    "# 예시.."
   ]
  },
  {
   "cell_type": "code",
   "execution_count": 7,
   "id": "0cacfe59",
   "metadata": {},
   "outputs": [
    {
     "name": "stdout",
     "output_type": "stream",
     "text": [
      "CPU times: total: 0 ns\n",
      "Wall time: 29.4 ms\n"
     ]
    }
   ],
   "source": [
    "%%time\n",
    "df=pd.read_csv('1014.csv', encoding='cp949')"
   ]
  },
  {
   "cell_type": "code",
   "execution_count": 8,
   "id": "b8cb2921",
   "metadata": {},
   "outputs": [
    {
     "data": {
      "text/html": [
       "<div>\n",
       "<style scoped>\n",
       "    .dataframe tbody tr th:only-of-type {\n",
       "        vertical-align: middle;\n",
       "    }\n",
       "\n",
       "    .dataframe tbody tr th {\n",
       "        vertical-align: top;\n",
       "    }\n",
       "\n",
       "    .dataframe thead th {\n",
       "        text-align: right;\n",
       "    }\n",
       "</style>\n",
       "<table border=\"1\" class=\"dataframe\">\n",
       "  <thead>\n",
       "    <tr style=\"text-align: right;\">\n",
       "      <th></th>\n",
       "      <th>matches</th>\n",
       "      <th>matchType</th>\n",
       "    </tr>\n",
       "  </thead>\n",
       "  <tbody>\n",
       "    <tr>\n",
       "      <th>0</th>\n",
       "      <td>01b7000db80ee64c</td>\n",
       "      <td>7b9f0fd5377c38514dbb78ebe63ac6c3b81009d5a31dd5...</td>\n",
       "    </tr>\n",
       "    <tr>\n",
       "      <th>1</th>\n",
       "      <td>03a6000bb80eb73d</td>\n",
       "      <td>7b9f0fd5377c38514dbb78ebe63ac6c3b81009d5a31dd5...</td>\n",
       "    </tr>\n",
       "    <tr>\n",
       "      <th>2</th>\n",
       "      <td>034a000bb80ea153</td>\n",
       "      <td>7b9f0fd5377c38514dbb78ebe63ac6c3b81009d5a31dd5...</td>\n",
       "    </tr>\n",
       "    <tr>\n",
       "      <th>3</th>\n",
       "      <td>022c000db80eb0f3</td>\n",
       "      <td>7b9f0fd5377c38514dbb78ebe63ac6c3b81009d5a31dd5...</td>\n",
       "    </tr>\n",
       "    <tr>\n",
       "      <th>4</th>\n",
       "      <td>0061000db80eaf5d</td>\n",
       "      <td>7b9f0fd5377c38514dbb78ebe63ac6c3b81009d5a31dd5...</td>\n",
       "    </tr>\n",
       "    <tr>\n",
       "      <th>...</th>\n",
       "      <td>...</td>\n",
       "      <td>...</td>\n",
       "    </tr>\n",
       "    <tr>\n",
       "      <th>11995</th>\n",
       "      <td>017a000ab80b8260</td>\n",
       "      <td>14e772d195642279cf6c8307125044274db371c1b08fc3...</td>\n",
       "    </tr>\n",
       "    <tr>\n",
       "      <th>11996</th>\n",
       "      <td>03e6000ab80b7fc0</td>\n",
       "      <td>14e772d195642279cf6c8307125044274db371c1b08fc3...</td>\n",
       "    </tr>\n",
       "    <tr>\n",
       "      <th>11997</th>\n",
       "      <td>0245000ab80b6b6d</td>\n",
       "      <td>14e772d195642279cf6c8307125044274db371c1b08fc3...</td>\n",
       "    </tr>\n",
       "    <tr>\n",
       "      <th>11998</th>\n",
       "      <td>02af000ab80b62a3</td>\n",
       "      <td>14e772d195642279cf6c8307125044274db371c1b08fc3...</td>\n",
       "    </tr>\n",
       "    <tr>\n",
       "      <th>11999</th>\n",
       "      <td>014d0017b80bea03</td>\n",
       "      <td>NaN</td>\n",
       "    </tr>\n",
       "  </tbody>\n",
       "</table>\n",
       "<p>12000 rows × 2 columns</p>\n",
       "</div>"
      ],
      "text/plain": [
       "                matches                                          matchType\n",
       "0      01b7000db80ee64c  7b9f0fd5377c38514dbb78ebe63ac6c3b81009d5a31dd5...\n",
       "1      03a6000bb80eb73d  7b9f0fd5377c38514dbb78ebe63ac6c3b81009d5a31dd5...\n",
       "2      034a000bb80ea153  7b9f0fd5377c38514dbb78ebe63ac6c3b81009d5a31dd5...\n",
       "3      022c000db80eb0f3  7b9f0fd5377c38514dbb78ebe63ac6c3b81009d5a31dd5...\n",
       "4      0061000db80eaf5d  7b9f0fd5377c38514dbb78ebe63ac6c3b81009d5a31dd5...\n",
       "...                 ...                                                ...\n",
       "11995  017a000ab80b8260  14e772d195642279cf6c8307125044274db371c1b08fc3...\n",
       "11996  03e6000ab80b7fc0  14e772d195642279cf6c8307125044274db371c1b08fc3...\n",
       "11997  0245000ab80b6b6d  14e772d195642279cf6c8307125044274db371c1b08fc3...\n",
       "11998  02af000ab80b62a3  14e772d195642279cf6c8307125044274db371c1b08fc3...\n",
       "11999  014d0017b80bea03                                                NaN\n",
       "\n",
       "[12000 rows x 2 columns]"
      ]
     },
     "execution_count": 8,
     "metadata": {},
     "output_type": "execute_result"
    }
   ],
   "source": [
    "df"
   ]
  },
  {
   "cell_type": "code",
   "execution_count": 9,
   "id": "4ae502e1",
   "metadata": {
    "scrolled": true
   },
   "outputs": [
    {
     "name": "stdout",
     "output_type": "stream",
     "text": [
      "CPU times: total: 125 ms\n",
      "Wall time: 599 ms\n"
     ]
    },
    {
     "data": {
      "text/plain": [
       "12000"
      ]
     },
     "execution_count": 9,
     "metadata": {},
     "output_type": "execute_result"
    }
   ],
   "source": [
    "%%time\n",
    "df.to_sql(name='test', con=engine, if_exists='append',index=False)  "
   ]
  },
  {
   "cell_type": "code",
   "execution_count": null,
   "id": "75f1fdac",
   "metadata": {},
   "outputs": [],
   "source": []
  }
 ],
 "metadata": {
  "kernelspec": {
   "display_name": "Python 3 (ipykernel)",
   "language": "python",
   "name": "python3"
  },
  "language_info": {
   "codemirror_mode": {
    "name": "ipython",
    "version": 3
   },
   "file_extension": ".py",
   "mimetype": "text/x-python",
   "name": "python",
   "nbconvert_exporter": "python",
   "pygments_lexer": "ipython3",
   "version": "3.9.12"
  },
  "toc": {
   "base_numbering": 1,
   "nav_menu": {},
   "number_sections": true,
   "sideBar": true,
   "skip_h1_title": false,
   "title_cell": "Table of Contents",
   "title_sidebar": "Contents",
   "toc_cell": false,
   "toc_position": {},
   "toc_section_display": true,
   "toc_window_display": false
  }
 },
 "nbformat": 4,
 "nbformat_minor": 5
}
