{
 "cells": [
  {
   "cell_type": "code",
   "execution_count": 1,
   "id": "4def23f3",
   "metadata": {
    "ExecuteTime": {
     "end_time": "2022-11-23T16:49:09.256631Z",
     "start_time": "2022-11-23T16:49:05.194611Z"
    }
   },
   "outputs": [
    {
     "name": "stdout",
     "output_type": "stream",
     "text": [
      "Collecting pymysql\n",
      "  Using cached PyMySQL-1.0.2-py3-none-any.whl (43 kB)\n",
      "Installing collected packages: pymysql\n",
      "Successfully installed pymysql-1.0.2\n",
      "Collecting sqlalchemy\n",
      "  Downloading SQLAlchemy-1.4.44-cp37-cp37m-macosx_10_15_x86_64.whl (1.6 MB)\n",
      "\u001b[2K     \u001b[90m━━━━━━━━━━━━━━━━━━━━━━━━━━━━━━━━━━━━━━━━\u001b[0m \u001b[32m1.6/1.6 MB\u001b[0m \u001b[31m16.2 MB/s\u001b[0m eta \u001b[36m0:00:00\u001b[0m00:01\u001b[0m00:01\u001b[0m\n",
      "\u001b[?25hRequirement already satisfied: importlib-metadata in /Users/himhimm/opt/miniconda3/envs/myenv/lib/python3.7/site-packages (from sqlalchemy) (4.11.4)\n",
      "Collecting greenlet!=0.4.17\n",
      "  Downloading greenlet-2.0.1-cp37-cp37m-macosx_10_15_x86_64.whl (202 kB)\n",
      "\u001b[2K     \u001b[90m━━━━━━━━━━━━━━━━━━━━━━━━━━━━━━━━━━━━━━━\u001b[0m \u001b[32m202.8/202.8 kB\u001b[0m \u001b[31m6.6 MB/s\u001b[0m eta \u001b[36m0:00:00\u001b[0m\n",
      "\u001b[?25hRequirement already satisfied: typing-extensions>=3.6.4 in /Users/himhimm/opt/miniconda3/envs/myenv/lib/python3.7/site-packages (from importlib-metadata->sqlalchemy) (4.4.0)\n",
      "Requirement already satisfied: zipp>=0.5 in /Users/himhimm/opt/miniconda3/envs/myenv/lib/python3.7/site-packages (from importlib-metadata->sqlalchemy) (3.10.0)\n",
      "Installing collected packages: greenlet, sqlalchemy\n",
      "Successfully installed greenlet-2.0.1 sqlalchemy-1.4.44\n"
     ]
    }
   ],
   "source": [
    "#!pip install pymysql\n",
    "#!pip install sqlalchemy"
   ]
  },
  {
   "cell_type": "markdown",
   "id": "6d945a51",
   "metadata": {},
   "source": [
    "# AWS rds에 연결하기"
   ]
  },
  {
   "cell_type": "code",
   "execution_count": 36,
   "id": "928433d9",
   "metadata": {
    "ExecuteTime": {
     "end_time": "2022-11-23T18:32:35.410615Z",
     "start_time": "2022-11-23T18:32:35.402282Z"
    }
   },
   "outputs": [],
   "source": [
    "from sqlalchemy import create_engine\n",
    "import pymysql\n",
    "import pandas as pd"
   ]
  },
  {
   "cell_type": "code",
   "execution_count": 50,
   "id": "6c8313dc",
   "metadata": {
    "ExecuteTime": {
     "end_time": "2022-11-23T18:38:17.650917Z",
     "start_time": "2022-11-23T18:38:17.357702Z"
    },
    "code_folding": []
   },
   "outputs": [],
   "source": [
    "#db_connection_str = 'mysql+pymysql://[db유저이름]:[db password]@[host address]/[db name]'\n",
    "# DB엔진 연결하기\n",
    "engine = create_engine(\"@@@\")\n",
    "\n",
    "con = engine.connect()"
   ]
  },
  {
   "cell_type": "markdown",
   "id": "37fc065e",
   "metadata": {},
   "source": [
    "# 테이블 업로드 하기"
   ]
  },
  {
   "cell_type": "code",
   "execution_count": 38,
   "id": "5932d95b",
   "metadata": {
    "ExecuteTime": {
     "end_time": "2022-11-23T18:32:41.042331Z",
     "start_time": "2022-11-23T18:32:37.967409Z"
    }
   },
   "outputs": [],
   "source": [
    "import pandas as pd\n",
    "\n",
    "df_match_type = pd.read_csv(\"../data/match_type.csv\")\n",
    "df_match = pd.read_csv(\"../data/match.csv\")\n",
    "df_track_curve = pd.read_csv(\"../data/track_curve.csv\")\n",
    "df_track_obstacle = pd.read_csv(\"../data/track_obstacle.csv\")\n",
    "df_track_road = pd.read_csv(\"../data/track_road.csv\")\n",
    "df_track_shortcut = pd.read_csv(\"../data/track_shortcut.csv\")\n",
    "df_track_straight = pd.read_csv(\"../data/track_straight.csv\")\n",
    "df_track_tigger = pd.read_csv(\"../data/track_tigger.csv\")\n",
    "df_track = pd.read_csv(\"../data/track.csv\")"
   ]
  },
  {
   "cell_type": "code",
   "execution_count": 39,
   "id": "cce44b5a",
   "metadata": {
    "ExecuteTime": {
     "end_time": "2022-11-23T18:33:38.711450Z",
     "start_time": "2022-11-23T18:33:22.772646Z"
    }
   },
   "outputs": [],
   "source": [
    "# match_type 테이블 업로드\n",
    "df_match_type.to_sql(name='match_type', con=engine, if_exists='replace', index=False)"
   ]
  },
  {
   "cell_type": "code",
   "execution_count": 40,
   "id": "2f78687f",
   "metadata": {
    "ExecuteTime": {
     "end_time": "2022-11-23T18:36:29.087182Z",
     "start_time": "2022-11-23T18:34:20.113419Z"
    }
   },
   "outputs": [],
   "source": [
    "# match 테이블 업로드\n",
    "\n",
    "df_match.to_sql(name='match', con=engine, if_exists='replace', index=False)"
   ]
  },
  {
   "cell_type": "code",
   "execution_count": 42,
   "id": "de5ef4a4",
   "metadata": {
    "ExecuteTime": {
     "end_time": "2022-11-23T18:36:37.369014Z",
     "start_time": "2022-11-23T18:36:36.440371Z"
    }
   },
   "outputs": [],
   "source": [
    "# track_curve 테이블 업로드\n",
    "\n",
    "df_track_curve.to_sql(name='track_curve', con=engine, if_exists='replace', index=False)"
   ]
  },
  {
   "cell_type": "code",
   "execution_count": 43,
   "id": "cf9db653",
   "metadata": {
    "ExecuteTime": {
     "end_time": "2022-11-23T18:36:44.892831Z",
     "start_time": "2022-11-23T18:36:44.538072Z"
    }
   },
   "outputs": [],
   "source": [
    "# track_obstacle 테이블 업로드\n",
    "\n",
    "df_track_obstacle.to_sql(name='track_obstacle', con=engine, if_exists='replace', index=False)"
   ]
  },
  {
   "cell_type": "code",
   "execution_count": 44,
   "id": "136c925a",
   "metadata": {
    "ExecuteTime": {
     "end_time": "2022-11-23T18:36:46.464901Z",
     "start_time": "2022-11-23T18:36:46.216743Z"
    }
   },
   "outputs": [],
   "source": [
    "# track_road 테이블 업로드\n",
    "\n",
    "df_track_road.to_sql(name='track_road', con=engine, if_exists='replace', index=False)"
   ]
  },
  {
   "cell_type": "code",
   "execution_count": 45,
   "id": "5fe732d2",
   "metadata": {
    "ExecuteTime": {
     "end_time": "2022-11-23T18:37:20.069092Z",
     "start_time": "2022-11-23T18:37:19.889773Z"
    }
   },
   "outputs": [],
   "source": [
    "# track_shortcut 테이블 업로드\n",
    "\n",
    "df_track_shortcut.to_sql(name='track_shortcut', con=engine, if_exists='replace', index=False)"
   ]
  },
  {
   "cell_type": "code",
   "execution_count": 46,
   "id": "d5ec2427",
   "metadata": {
    "ExecuteTime": {
     "end_time": "2022-11-23T18:37:21.054167Z",
     "start_time": "2022-11-23T18:37:20.868694Z"
    }
   },
   "outputs": [],
   "source": [
    "# track_straight 테이블 업로드\n",
    "\n",
    "df_track_straight.to_sql(name='track_straight', con=engine, if_exists='replace', index=False)"
   ]
  },
  {
   "cell_type": "code",
   "execution_count": 47,
   "id": "06ba6fd7",
   "metadata": {
    "ExecuteTime": {
     "end_time": "2022-11-23T18:37:22.116617Z",
     "start_time": "2022-11-23T18:37:21.935947Z"
    }
   },
   "outputs": [],
   "source": [
    "# track_tigger 테이블 업로드\n",
    "\n",
    "df_track_tigger.to_sql(name='track_tigger', con=engine, if_exists='replace', index=False)"
   ]
  },
  {
   "cell_type": "code",
   "execution_count": 48,
   "id": "2e263eb5",
   "metadata": {
    "ExecuteTime": {
     "end_time": "2022-11-23T18:37:31.068541Z",
     "start_time": "2022-11-23T18:37:30.691201Z"
    }
   },
   "outputs": [],
   "source": [
    "# track 테이블 업로드\n",
    "\n",
    "df_track.to_sql(name='track', con=engine, if_exists='replace', index=False)"
   ]
  },
  {
   "cell_type": "code",
   "execution_count": 52,
   "id": "e3f81438",
   "metadata": {
    "ExecuteTime": {
     "end_time": "2022-11-23T18:38:27.678278Z",
     "start_time": "2022-11-23T18:38:27.652164Z"
    }
   },
   "outputs": [],
   "source": [
    "# DB 연결 끊기\n",
    "con.close()"
   ]
  },
  {
   "cell_type": "code",
   "execution_count": null,
   "id": "1dfa5e73",
   "metadata": {},
   "outputs": [],
   "source": []
  }
 ],
 "metadata": {
  "hide_input": false,
  "kernelspec": {
   "display_name": "Python 3 (ipykernel)",
   "language": "python",
   "name": "python3"
  },
  "language_info": {
   "codemirror_mode": {
    "name": "ipython",
    "version": 3
   },
   "file_extension": ".py",
   "mimetype": "text/x-python",
   "name": "python",
   "nbconvert_exporter": "python",
   "pygments_lexer": "ipython3",
   "version": "3.7.12"
  },
  "latex_envs": {
   "LaTeX_envs_menu_present": true,
   "autoclose": false,
   "autocomplete": true,
   "bibliofile": "biblio.bib",
   "cite_by": "apalike",
   "current_citInitial": 1,
   "eqLabelWithNumbers": true,
   "eqNumInitial": 1,
   "hotkeys": {
    "equation": "Ctrl-E",
    "itemize": "Ctrl-I"
   },
   "labels_anchors": false,
   "latex_user_defs": false,
   "report_style_numbering": false,
   "user_envs_cfg": false
  },
  "toc": {
   "base_numbering": 1,
   "nav_menu": {},
   "number_sections": true,
   "sideBar": true,
   "skip_h1_title": false,
   "title_cell": "Table of Contents",
   "title_sidebar": "Contents",
   "toc_cell": false,
   "toc_position": {},
   "toc_section_display": true,
   "toc_window_display": false
  }
 },
 "nbformat": 4,
 "nbformat_minor": 5
}
