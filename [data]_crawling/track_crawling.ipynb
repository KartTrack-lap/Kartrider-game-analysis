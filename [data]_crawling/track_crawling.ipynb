{
 "cells": [
  {
   "cell_type": "code",
   "execution_count": 4,
   "id": "f6dc0bc6",
   "metadata": {},
   "outputs": [],
   "source": [
    "from selenium import webdriver\n",
    "from bs4 import BeautifulSoup \n",
    "from selenium.webdriver.chrome.service import Service\n",
    "from webdriver_manager.chrome import ChromeDriverManager\n",
    "import pandas as pd\n",
    "\n",
    "chrome_options = webdriver.ChromeOptions()\n",
    "#driver = webdriver.Chrome(service=Service(ChromeDriverManager(os_type=\"mac_arm64\").install()))\n",
    "driver = webdriver.Chrome(service=Service(ChromeDriverManager().install()), options=chrome_options)\n",
    "#driver = webdriver.Chrome(executable_path='/Users/kimsieun/Documents/Daitgirls/FinalProject/chromedriver')"
   ]
  },
  {
   "cell_type": "code",
   "execution_count": 5,
   "id": "5fd50487",
   "metadata": {},
   "outputs": [],
   "source": [
    "# 크롤링할 주소 설정\n",
    "url = 'https://namu.wiki/w/%ED%81%AC%EB%A0%88%EC%9D%B4%EC%A7%80%EB%A0%88%EC%9D%B4%EC%8B%B1%20%EC%B9%B4%ED%8A%B8%EB%9D%BC%EC%9D%B4%EB%8D%94/%ED%8A%B8%EB%9E%99/1920' #카트 트랙 랭킹 \n",
    "driver.get(url)"
   ]
  },
  {
   "cell_type": "code",
   "execution_count": 6,
   "id": "3e8da835",
   "metadata": {
    "scrolled": false
   },
   "outputs": [
    {
     "name": "stdout",
     "output_type": "stream",
     "text": [
      "1920 수상한 증기 공장\n",
      " \n",
      "러쉬플러스\n",
      "난이도●●○○○\n",
      "랩3바퀴\n",
      "트랙 길이9.5km\n",
      "진행 방향시계방향\n",
      "트랙 분류아이템전\n",
      "AI 주행X\n",
      "서버  \n",
      "첫 등장일2013년 12월 26일\n",
      "리그 트랙-\n",
      "라이센스모바일: 루키\n",
      "약칭증기공장\n"
     ]
    }
   ],
   "source": [
    "# 소스를 읽어 BeatuifulSoup를 이용해 파싱\n",
    "html = driver.page_source  # 브라우저가 가지고 있는 정보를 가져옴\n",
    "soup = BeautifulSoup(html, \"html.parser\")\n",
    "track_list = soup.select(\"table.zXNrsKJD._f0b7325cc9e2662864c573d822bf4dca\")\n",
    "#print(track_list)\n",
    "# #print(track_list[0].prettify())\n",
    "trs = track_list[0].select(\"tr\")  \n",
    "for tr in trs:\n",
    "         print(tr.text)"
   ]
  },
  {
   "cell_type": "code",
   "execution_count": 41,
   "id": "581fb298",
   "metadata": {
    "scrolled": false
   },
   "outputs": [
    {
     "data": {
      "text/html": [
       "<div>\n",
       "<style scoped>\n",
       "    .dataframe tbody tr th:only-of-type {\n",
       "        vertical-align: middle;\n",
       "    }\n",
       "\n",
       "    .dataframe tbody tr th {\n",
       "        vertical-align: top;\n",
       "    }\n",
       "\n",
       "    .dataframe thead th {\n",
       "        text-align: right;\n",
       "    }\n",
       "</style>\n",
       "<table border=\"1\" class=\"dataframe\">\n",
       "  <thead>\n",
       "    <tr style=\"text-align: right;\">\n",
       "      <th></th>\n",
       "      <th>트랙 이름</th>\n",
       "      <th>태그</th>\n",
       "      <th>난이도</th>\n",
       "      <th>랩</th>\n",
       "      <th>트랙 길이</th>\n",
       "      <th>진행 방향</th>\n",
       "      <th>트랙 분류</th>\n",
       "      <th>AI 주행</th>\n",
       "      <th>첫 등장일</th>\n",
       "      <th>리그 트랙</th>\n",
       "      <th>라이센스</th>\n",
       "      <th>약칭</th>\n",
       "    </tr>\n",
       "  </thead>\n",
       "  <tbody>\n",
       "    <tr>\n",
       "      <th>0</th>\n",
       "      <td>1920 수상한 증기 공장</td>\n",
       "      <td>러쉬플러스</td>\n",
       "      <td>●●○○○</td>\n",
       "      <td>3바퀴</td>\n",
       "      <td>9.5km</td>\n",
       "      <td>시계방향</td>\n",
       "      <td>아이템전</td>\n",
       "      <td>X</td>\n",
       "      <td>2013년 12월 26일</td>\n",
       "      <td>-</td>\n",
       "      <td>모바일: 루키</td>\n",
       "      <td>증기공장</td>\n",
       "    </tr>\n",
       "    <tr>\n",
       "      <th>1</th>\n",
       "      <td>1920 기차역 질주</td>\n",
       "      <td></td>\n",
       "      <td>●●○○○[구3]</td>\n",
       "      <td>2바퀴</td>\n",
       "      <td>8.6km</td>\n",
       "      <td>시계방향</td>\n",
       "      <td>스피드전</td>\n",
       "      <td>X</td>\n",
       "      <td>2013년 12월 26일</td>\n",
       "      <td>-</td>\n",
       "      <td>-</td>\n",
       "      <td>기차역</td>\n",
       "    </tr>\n",
       "    <tr>\n",
       "      <th>2</th>\n",
       "      <td>1920 아슬아슬 비행장</td>\n",
       "      <td>노멀 러쉬플러스</td>\n",
       "      <td>●●●○○[구2]</td>\n",
       "      <td>2바퀴</td>\n",
       "      <td>10.5km[8]</td>\n",
       "      <td>시계방향</td>\n",
       "      <td>스피드전</td>\n",
       "      <td>X</td>\n",
       "      <td>2014년 1월 23일</td>\n",
       "      <td>-</td>\n",
       "      <td>모바일: 루키</td>\n",
       "      <td>1920, 1920비행장</td>\n",
       "    </tr>\n",
       "  </tbody>\n",
       "</table>\n",
       "</div>"
      ],
      "text/plain": [
       "            트랙 이름        태그        난이도    랩      트랙 길이 진행 방향 트랙 분류 AI 주행  \\\n",
       "0  1920 수상한 증기 공장     러쉬플러스      ●●○○○  3바퀴      9.5km  시계방향  아이템전     X   \n",
       "1     1920 기차역 질주            ●●○○○[구3]  2바퀴      8.6km  시계방향  스피드전     X   \n",
       "2   1920 아슬아슬 비행장  노멀 러쉬플러스  ●●●○○[구2]  2바퀴  10.5km[8]  시계방향  스피드전     X   \n",
       "\n",
       "           첫 등장일 리그 트랙     라이센스             약칭  \n",
       "0  2013년 12월 26일     -  모바일: 루키           증기공장  \n",
       "1  2013년 12월 26일     -        -            기차역  \n",
       "2   2014년 1월 23일     -  모바일: 루키  1920, 1920비행장  "
      ]
     },
     "execution_count": 41,
     "metadata": {},
     "output_type": "execute_result"
    }
   ],
   "source": [
    "track_data_list =[]\n",
    "for track_info in track_list:\n",
    "    name = track_info.select(\"tr\")[0]   # 코드 가독성을 위해 변수 이름을 좀 더 간단하게 변경\n",
    "    tag   = track_info.select(\"tr\")[2]\n",
    "    hardness = track_info.select(\"tr\")[3]\n",
    "    laps     = track_info.select(\"tr\")[4]\n",
    "    track_length   = track_info.select(\"tr\")[5]\n",
    "    direction   = track_info.select(\"tr\")[6]\n",
    "    playmode  = track_info.select(\"tr\")[7]\n",
    "    AI  = track_info.select(\"tr\")[8]\n",
    "    # 서버는 수집에서 제외\n",
    "    release_date  = track_info.select(\"tr\")[10]    \n",
    "    league_track  = track_info.select(\"tr\")[11]\n",
    "    license  = track_info.select(\"tr\")[12]\n",
    "    nickname  = track_info.select(\"tr\")[13]\n",
    "    \n",
    "    track_data_list.append(\n",
    "        [\n",
    "            name.text,\n",
    "            tag.text,\n",
    "            hardness.text[3:],\n",
    "            laps.text[1:],\n",
    "            track_length.text[5:],\n",
    "            direction.text[5:],\n",
    "            playmode.text[5:],\n",
    "            AI.text[5:],\n",
    "            release_date.text[5:],\n",
    "            league_track.text[5:],\n",
    "            license.text[4:],\n",
    "            nickname.text[2:]\n",
    "        ]\n",
    "    )\n",
    "\n",
    "columns = [\"트랙 이름\", \"태그\", \"난이도\", \"랩\", \"트랙 길이\", \"진행 방향\", \"트랙 분류\", \"AI 주행\", \"첫 등장일\", \"리그 트랙\", \"라이센스\", \"약칭\"]\n",
    "df = pd.DataFrame(track_data_list, columns = columns)\n",
    "df\n",
    "\n",
    "# driver.close()"
   ]
  },
  {
   "cell_type": "code",
   "execution_count": 48,
   "id": "6bcdf026",
   "metadata": {
    "scrolled": true
   },
   "outputs": [
    {
     "name": "stdout",
     "output_type": "stream",
     "text": [
      "<tr data-v-da0f07da=\"\"><td data-v-da0f07da=\"\" style=\"text-align:center;\"><div class=\"RyU9fL6Q\" data-v-da0f07da=\"\"><strong data-v-da0f07da=\"\">첫 등장일</strong></div></td><td data-v-da0f07da=\"\" style=\"text-align:left;\"><div class=\"RyU9fL6Q\" data-v-da0f07da=\"\">2014년 1월 23일</div></td></tr>\n"
     ]
    }
   ],
   "source": [
    "# 탐구\n",
    "#print(track_info.select(\"tr\")[0])\n",
    "print(track_info.select(\"tr\")[10])"
   ]
  },
  {
   "cell_type": "markdown",
   "id": "05003fc6",
   "metadata": {},
   "source": [
    "## 실험"
   ]
  },
  {
   "cell_type": "code",
   "execution_count": 16,
   "id": "2eb68ad8",
   "metadata": {},
   "outputs": [],
   "source": [
    "from tqdm import tqdm"
   ]
  },
  {
   "cell_type": "code",
   "execution_count": 17,
   "id": "130e0a9c",
   "metadata": {
    "scrolled": false
   },
   "outputs": [
    {
     "name": "stderr",
     "output_type": "stream",
     "text": [
      "100%|█████████████████████████████████████████████████████████████████████████████████| 22/22 [00:00<00:00, 155.96it/s]\n"
     ]
    }
   ],
   "source": [
    "chrome_options = webdriver.ChromeOptions()\n",
    "#driver = webdriver.Chrome(service=Service(ChromeDriverManager(os_type=\"mac_arm64\").install()))\n",
    "driver = webdriver.Chrome(service=Service(ChromeDriverManager().install()), options=chrome_options)\n",
    "#driver = webdriver.Chrome(executable_path='/Users/kimsieun/Documents/Daitgirls/FinalProject/chromedriver')\n",
    "\n",
    "# 크롤링할 주소 설정\n",
    "url = 'https://namu.wiki/w/%ED%81%AC%EB%A0%88%EC%9D%B4%EC%A7%80%EB%A0%88%EC%9D%B4%EC%8B%B1%20%EC%B9%B4%ED%8A%B8%EB%9D%BC%EC%9D%B4%EB%8D%94/%ED%8A%B8%EB%9E%99/%ED%8F%AC%EB%A0%88%EC%8A%A4%ED%8A%B8' \n",
    " #카트 트랙 랭킹 \n",
    "driver.get(url)\n",
    "\n",
    "# 소스를 읽어 BeatuifulSoup를 이용해 파싱\n",
    "html = driver.page_source  # 브라우저가 가지고 있는 정보를 가져옴\n",
    "soup = BeautifulSoup(html, \"html.parser\")\n",
    "track_list = soup.select(\"table.zXNrsKJD._f0b7325cc9e2662864c573d822bf4dca\")\n",
    "# #print(track_list[0].prettify())\n",
    "#trs = track_list[0].select(\"tr\")  \n",
    "#for tr in trs:\n",
    "#         print(tr.text)\n",
    "        \n",
    "track_data_list =[]\n",
    "error_list=[]\n",
    "for track_info in tqdm(track_list):\n",
    "    try: \n",
    "        name = track_info.select(\"tr\")[0]   # 코드 가독성을 위해 변수 이름을 좀 더 간단하게 변경\n",
    "        tag   = track_info.select(\"tr\")[2]\n",
    "        hardness = track_info.select(\"tr\")[3]\n",
    "        laps     = track_info.select(\"tr\")[4]\n",
    "        track_length   = track_info.select(\"tr\")[5]\n",
    "        direction   = track_info.select(\"tr\")[6]\n",
    "        playmode  = track_info.select(\"tr\")[7]\n",
    "        AI  = track_info.select(\"tr\")[8]\n",
    "        # 서버는 수집에서 제외\n",
    "        release_date  = track_info.select(\"tr\")[10]\n",
    "        league_track  = track_info.select(\"tr\")[11]\n",
    "        license  = track_info.select(\"tr\")[12]\n",
    "        nickname  = track_info.select(\"tr\")[13]\n",
    "\n",
    "        track_data_list.append(\n",
    "            [\n",
    "                name.text,\n",
    "                tag.text,\n",
    "                hardness.text[3:],\n",
    "                laps.text[1:],\n",
    "                track_length.text[5:],\n",
    "                direction.text[5:],\n",
    "                playmode.text[5:],\n",
    "                AI.text[5:],\n",
    "                release_date.text[5:],\n",
    "                league_track.text[5:],\n",
    "                license.text[4:],\n",
    "                nickname.text[2:]\n",
    "            ]\n",
    "        )\n",
    "    except:\n",
    "        name = track_info.select(\"tr\")[0].text\n",
    "        error_list.append(name)\n",
    "#         print(name)\n",
    "\n",
    "columns = [\"트랙 이름\", \"태그\", \"난이도\", \"랩\", \"트랙 길이\", \"진행 방향\", \"트랙 분류\", \"AI 주행\", \"첫 등장일\", \"리그 트랙\", \"라이센스\", \"약칭\"]\n",
    "\n",
    "driver.close()       \n",
    "        "
   ]
  },
  {
   "cell_type": "code",
   "execution_count": 15,
   "id": "4b6b9f7e",
   "metadata": {},
   "outputs": [
    {
     "data": {
      "text/plain": [
       "['포레스트 숨겨진 초원']"
      ]
     },
     "execution_count": 15,
     "metadata": {},
     "output_type": "execute_result"
    }
   ],
   "source": [
    "error_list"
   ]
  },
  {
   "cell_type": "markdown",
   "id": "c9c1b856",
   "metadata": {},
   "source": [
    "## 나무위키 링크"
   ]
  },
  {
   "cell_type": "code",
   "execution_count": 7,
   "id": "72ffec90",
   "metadata": {},
   "outputs": [],
   "source": [
    "df_track_url = ['https://namu.wiki/w/%ED%81%AC%EB%A0%88%EC%9D%B4%EC%A7%80%EB%A0%88%EC%9D%B4%EC%8B%B1%20%EC%B9%B4%ED%8A%B8%EB%9D%BC%EC%9D%B4%EB%8D%94/%ED%8A%B8%EB%9E%99/%ED%8F%AC%EB%A0%88%EC%8A%A4%ED%8A%B8', \n",
    "                'https://namu.wiki/w/%ED%81%AC%EB%A0%88%EC%9D%B4%EC%A7%80%EB%A0%88%EC%9D%B4%EC%8B%B1%20%EC%B9%B4%ED%8A%B8%EB%9D%BC%EC%9D%B4%EB%8D%94/%ED%8A%B8%EB%9E%99/%EB%B9%8C%EB%A6%AC%EC%A7%80',\n",
    "                'https://namu.wiki/w/%ED%81%AC%EB%A0%88%EC%9D%B4%EC%A7%80%EB%A0%88%EC%9D%B4%EC%8B%B1%20%EC%B9%B4%ED%8A%B8%EB%9D%BC%EC%9D%B4%EB%8D%94/%ED%8A%B8%EB%9E%99/%EB%B9%8C%EB%A6%AC%EC%A7%80',\n",
    "                'https://namu.wiki/w/%ED%81%AC%EB%A0%88%EC%9D%B4%EC%A7%80%EB%A0%88%EC%9D%B4%EC%8B%B1%20%EC%B9%B4%ED%8A%B8%EB%9D%BC%EC%9D%B4%EB%8D%94/%ED%8A%B8%EB%9E%99/%EC%95%84%EC%9D%B4%EC%8A%A4',\n",
    "                'https://namu.wiki/w/%ED%81%AC%EB%A0%88%EC%9D%B4%EC%A7%80%EB%A0%88%EC%9D%B4%EC%8B%B1%20%EC%B9%B4%ED%8A%B8%EB%9D%BC%EC%9D%B4%EB%8D%94/%ED%8A%B8%EB%9E%99/%EA%B3%B5%EB%8F%99%EB%AC%98%EC%A7%80',\n",
    "                'https://namu.wiki/w/%ED%81%AC%EB%A0%88%EC%9D%B4%EC%A7%80%EB%A0%88%EC%9D%B4%EC%8B%B1%20%EC%B9%B4%ED%8A%B8%EB%9D%BC%EC%9D%B4%EB%8D%94/%ED%8A%B8%EB%9E%99/%EA%B4%91%EC%82%B0',\n",
    "                'https://namu.wiki/w/%ED%81%AC%EB%A0%88%EC%9D%B4%EC%A7%80%EB%A0%88%EC%9D%B4%EC%8B%B1%20%EC%B9%B4%ED%8A%B8%EB%9D%BC%EC%9D%B4%EB%8D%94/%ED%8A%B8%EB%9E%99/%EB%85%B8%EB%A5%B4%ED%85%8C%EC%9C%A0',\n",
    "                'https://namu.wiki/w/%ED%81%AC%EB%A0%88%EC%9D%B4%EC%A7%80%EB%A0%88%EC%9D%B4%EC%8B%B1%20%EC%B9%B4%ED%8A%B8%EB%9D%BC%EC%9D%B4%EB%8D%94/%ED%8A%B8%EB%9E%99/%ED%8C%A9%ED%86%A0%EB%A6%AC',\n",
    "                'https://namu.wiki/w/%ED%81%AC%EB%A0%88%EC%9D%B4%EC%A7%80%EB%A0%88%EC%9D%B4%EC%8B%B1%20%EC%B9%B4%ED%8A%B8%EB%9D%BC%EC%9D%B4%EB%8D%94/%ED%8A%B8%EB%9E%99/%ED%95%B4%EC%A0%81',\n",
    "                'https://namu.wiki/w/%ED%81%AC%EB%A0%88%EC%9D%B4%EC%A7%80%EB%A0%88%EC%9D%B4%EC%8B%B1%20%EC%B9%B4%ED%8A%B8%EB%9D%BC%EC%9D%B4%EB%8D%94/%ED%8A%B8%EB%9E%99/%EB%8F%99%ED%99%94',\n",
    "                'https://namu.wiki/w/%ED%81%AC%EB%A0%88%EC%9D%B4%EC%A7%80%EB%A0%88%EC%9D%B4%EC%8B%B1%20%EC%B9%B4%ED%8A%B8%EB%9D%BC%EC%9D%B4%EB%8D%94/%ED%8A%B8%EB%9E%99/%EB%AC%B8%ED%9E%90%EC%8B%9C%ED%8B%B0',\n",
    "                'https://namu.wiki/w/%ED%81%AC%EB%A0%88%EC%9D%B4%EC%A7%80%EB%A0%88%EC%9D%B4%EC%8B%B1%20%EC%B9%B4%ED%8A%B8%EB%9D%BC%EC%9D%B4%EB%8D%94/%ED%8A%B8%EB%9E%99/%ED%99%A9%EA%B8%88%EB%AC%B8%EB%AA%85',\n",
    "                'https://namu.wiki/w/%ED%81%AC%EB%A0%88%EC%9D%B4%EC%A7%80%EB%A0%88%EC%9D%B4%EC%8B%B1%20%EC%B9%B4%ED%8A%B8%EB%9D%BC%EC%9D%B4%EB%8D%94/%ED%8A%B8%EB%9E%99/%EC%B0%A8%EC%9D%B4%EB%82%98',\n",
    "                'https://namu.wiki/w/%ED%81%AC%EB%A0%88%EC%9D%B4%EC%A7%80%EB%A0%88%EC%9D%B4%EC%8B%B1%20%EC%B9%B4%ED%8A%B8%EB%9D%BC%EC%9D%B4%EB%8D%94/%ED%8A%B8%EB%9E%99/%EB%8C%80%EC%A0%80%ED%83%9D',\n",
    "                'https://namu.wiki/w/%ED%81%AC%EB%A0%88%EC%9D%B4%EC%A7%80%EB%A0%88%EC%9D%B4%EC%8B%B1%20%EC%B9%B4%ED%8A%B8%EB%9D%BC%EC%9D%B4%EB%8D%94/%ED%8A%B8%EB%9E%99/%EB%8B%98%ED%94%84',\n",
    "                'https://namu.wiki/w/%ED%81%AC%EB%A0%88%EC%9D%B4%EC%A7%80%EB%A0%88%EC%9D%B4%EC%8B%B1%20%EC%B9%B4%ED%8A%B8%EB%9D%BC%EC%9D%B4%EB%8D%94/%ED%8A%B8%EB%9E%99/%EB%A9%94%EC%B9%B4%EB%8B%89',\n",
    "                'https://namu.wiki/w/%ED%81%AC%EB%A0%88%EC%9D%B4%EC%A7%80%EB%A0%88%EC%9D%B4%EC%8B%B1%20%EC%B9%B4%ED%8A%B8%EB%9D%BC%EC%9D%B4%EB%8D%94/%ED%8A%B8%EB%9E%99/%EC%8B%9C%EC%96%91%EC%96%91',\n",
    "                'https://namu.wiki/w/%ED%81%AC%EB%A0%88%EC%9D%B4%EC%A7%80%EB%A0%88%EC%9D%B4%EC%8B%B1%20%EC%B9%B4%ED%8A%B8%EB%9D%BC%EC%9D%B4%EB%8D%94/%ED%8A%B8%EB%9E%99/WKC',\n",
    "                'https://namu.wiki/w/%ED%81%AC%EB%A0%88%EC%9D%B4%EC%A7%80%EB%A0%88%EC%9D%B4%EC%8B%B1%20%EC%B9%B4%ED%8A%B8%EB%9D%BC%EC%9D%B4%EB%8D%94/%ED%8A%B8%EB%9E%99/%EB%B8%8C%EB%A1%9C%EB%94%94',\n",
    "                'https://namu.wiki/w/%ED%81%AC%EB%A0%88%EC%9D%B4%EC%A7%80%EB%A0%88%EC%9D%B4%EC%8B%B1%20%EC%B9%B4%ED%8A%B8%EB%9D%BC%EC%9D%B4%EB%8D%94/%ED%8A%B8%EB%9E%99/%EB%86%80%EC%9D%B4%EB%8F%99%EC%82%B0',\n",
    "                'https://namu.wiki/w/%ED%81%AC%EB%A0%88%EC%9D%B4%EC%A7%80%EB%A0%88%EC%9D%B4%EC%8B%B1%20%EC%B9%B4%ED%8A%B8%EB%9D%BC%EC%9D%B4%EB%8D%94/%ED%8A%B8%EB%9E%99/%EB%B9%84%EC%B9%98',\n",
    "                'https://namu.wiki/w/%ED%81%AC%EB%A0%88%EC%9D%B4%EC%A7%80%EB%A0%88%EC%9D%B4%EC%8B%B1%20%EC%B9%B4%ED%8A%B8%EB%9D%BC%EC%9D%B4%EB%8D%94/%ED%8A%B8%EB%9E%99/1920',\n",
    "                'https://namu.wiki/w/%ED%81%AC%EB%A0%88%EC%9D%B4%EC%A7%80%EB%A0%88%EC%9D%B4%EC%8B%B1%20%EC%B9%B4%ED%8A%B8%EB%9D%BC%EC%9D%B4%EB%8D%94/%ED%8A%B8%EB%9E%99/%ED%8A%B8%EB%9E%9C%EC%8A%A4%ED%8F%AC%EB%A8%B8',\n",
    "                'https://namu.wiki/w/%ED%81%AC%EB%A0%88%EC%9D%B4%EC%A7%80%EB%A0%88%EC%9D%B4%EC%8B%B1%20%EC%B9%B4%ED%8A%B8%EB%9D%BC%EC%9D%B4%EB%8D%94/%ED%8A%B8%EB%9E%99/%EC%A5%90%EB%9D%BC%EA%B8%B0',\n",
    "                'https://namu.wiki/w/%ED%81%AC%EB%A0%88%EC%9D%B4%EC%A7%80%EB%A0%88%EC%9D%B4%EC%8B%B1%20%EC%B9%B4%ED%8A%B8%EB%9D%BC%EC%9D%B4%EB%8D%94/%ED%8A%B8%EB%9E%99/%EC%9B%94%EB%93%9C',\n",
    "                'https://namu.wiki/w/%ED%81%AC%EB%A0%88%EC%9D%B4%EC%A7%80%EB%A0%88%EC%9D%B4%EC%8B%B1%20%EC%B9%B4%ED%8A%B8%EB%9D%BC%EC%9D%B4%EB%8D%94/%ED%8A%B8%EB%9E%99/%EB%84%A4%EB%AA%A8',\n",
    "                'https://namu.wiki/w/%ED%81%AC%EB%A0%88%EC%9D%B4%EC%A7%80%EB%A0%88%EC%9D%B4%EC%8B%B1%20%EC%B9%B4%ED%8A%B8%EB%9D%BC%EC%9D%B4%EB%8D%94/%ED%8A%B8%EB%9E%99/%EB%8F%84%EA%B2%80',\n",
    "                'https://namu.wiki/w/%ED%81%AC%EB%A0%88%EC%9D%B4%EC%A7%80%EB%A0%88%EC%9D%B4%EC%8B%B1%20%EC%B9%B4%ED%8A%B8%EB%9D%BC%EC%9D%B4%EB%8D%94/%ED%8A%B8%EB%9E%99/%EC%8B%A0%ED%99%94',\n",
    "                'https://namu.wiki/w/%ED%81%AC%EB%A0%88%EC%9D%B4%EC%A7%80%EB%A0%88%EC%9D%B4%EC%8B%B1%20%EC%B9%B4%ED%8A%B8%EB%9D%BC%EC%9D%B4%EB%8D%94/%ED%8A%B8%EB%9E%99/%EC%96%B4%EB%B9%84%EC%8A%A4',\n",
    "                'https://namu.wiki/w/%ED%81%AC%EB%A0%88%EC%9D%B4%EC%A7%80%EB%A0%88%EC%9D%B4%EC%8B%B1%20%EC%B9%B4%ED%8A%B8%EB%9D%BC%EC%9D%B4%EB%8D%94/%ED%8A%B8%EB%9E%99/%EC%B9%B4%EB%A9%9C%EB%A1%AF',\n",
    "                'https://namu.wiki/w/%ED%81%AC%EB%A0%88%EC%9D%B4%EC%A7%80%EB%A0%88%EC%9D%B4%EC%8B%B1%20%EC%B9%B4%ED%8A%B8%EB%9D%BC%EC%9D%B4%EB%8D%94/%ED%8A%B8%EB%9E%99/%EC%98%AC%EB%A6%BC%ED%8F%AC%EC%8A%A4',\n",
    "                'https://namu.wiki/w/%ED%81%AC%EB%A0%88%EC%9D%B4%EC%A7%80%EB%A0%88%EC%9D%B4%EC%8B%B1%20%EC%B9%B4%ED%8A%B8%EB%9D%BC%EC%9D%B4%EB%8D%94/%ED%8A%B8%EB%9E%99/%EC%BD%94%EB%A6%AC%EC%95%84',\n",
    "                'https://namu.wiki/w/%ED%81%AC%EB%A0%88%EC%9D%B4%EC%A7%80%EB%A0%88%EC%9D%B4%EC%8B%B1%20%EC%B9%B4%ED%8A%B8%EB%9D%BC%EC%9D%B4%EB%8D%94/%ED%8A%B8%EB%9E%99/%EB%A7%88%EB%B9%84%EB%85%B8%EA%B8%B0',\n",
    "                'https://namu.wiki/w/%ED%81%AC%EB%A0%88%EC%9D%B4%EC%A7%80%EB%A0%88%EC%9D%B4%EC%8B%B1%20%EC%B9%B4%ED%8A%B8%EB%9D%BC%EC%9D%B4%EB%8D%94/%ED%8A%B8%EB%9E%99/%EB%A9%94%EC%9D%B4%ED%94%8C%EC%8A%A4%ED%86%A0%EB%A6%AC']\n",
    "        \n",
    "    "
   ]
  },
  {
   "cell_type": "markdown",
   "id": "aa491de9",
   "metadata": {},
   "source": [
    "## 링크 for 문 (함수화)"
   ]
  },
  {
   "cell_type": "code",
   "execution_count": 27,
   "id": "95ef942d",
   "metadata": {},
   "outputs": [],
   "source": [
    "def get_crawl():\n",
    "    track_data_list =[]\n",
    "    error_list=[]\n",
    "    print(len(df_track_url))\n",
    "    for a in tqdm(df_track_url):\n",
    "        chrome_options = webdriver.ChromeOptions()\n",
    "        #driver = webdriver.Chrome(service=Service(ChromeDriverManager(os_type=\"mac_arm64\").install()))\n",
    "        driver = webdriver.Chrome(service=Service(ChromeDriverManager().install()), options=chrome_options)\n",
    "        #driver = webdriver.Chrome(executable_path='/Users/kimsieun/Documents/Daitgirls/FinalProject/chromedriver')\n",
    "\n",
    "        url=a\n",
    "        driver.get(url)\n",
    "\n",
    "        html = driver.page_source  # 브라우저가 가지고 있는 정보를 가져옴\n",
    "        soup = BeautifulSoup(html, \"html.parser\")\n",
    "        track_list = soup.select(\"table.zXNrsKJD._f0b7325cc9e2662864c573d822bf4dca\")\n",
    "\n",
    "    #     track_data_list =[]\n",
    "    #     error_list=[]\n",
    "        for track_info in track_list:\n",
    "            try: \n",
    "                name = track_info.select(\"tr\")[0]   # 코드 가독성을 위해 변수 이름을 좀 더 간단하게 변경\n",
    "                tag   = track_info.select(\"tr\")[2]\n",
    "                hardness = track_info.select(\"tr\")[3]\n",
    "                laps     = track_info.select(\"tr\")[4]\n",
    "                track_length   = track_info.select(\"tr\")[5]\n",
    "                direction   = track_info.select(\"tr\")[6]\n",
    "                playmode  = track_info.select(\"tr\")[7]\n",
    "                AI  = track_info.select(\"tr\")[8]\n",
    "                # 서버는 수집에서 제외\n",
    "                release_date  = track_info.select(\"tr\")[10]\n",
    "                league_track  = track_info.select(\"tr\")[11]\n",
    "                license  = track_info.select(\"tr\")[12]\n",
    "                nickname  = track_info.select(\"tr\")[13]\n",
    "\n",
    "                track_data_list.append(\n",
    "                    [\n",
    "                        name.text,\n",
    "                        tag.text,\n",
    "                        hardness.text[3:],\n",
    "                        laps.text[1:],\n",
    "                        track_length.text[5:],\n",
    "                        direction.text[5:],\n",
    "                        playmode.text[5:],\n",
    "                        AI.text[5:],\n",
    "                        release_date.text[5:],\n",
    "                        league_track.text[5:],\n",
    "                        license.text[4:],\n",
    "                        nickname.text[2:]\n",
    "                    ]\n",
    "                )\n",
    "            except:\n",
    "                name = track_info.select(\"tr\")[0].text\n",
    "                error_list.append(name)\n",
    "        #         print(name)\n",
    "\n",
    "    df = pd.DataFrame(track_data_list, columns = columns)\n",
    "\n",
    "    driver.close()      \n",
    "    \n",
    "    return df, error_list\n"
   ]
  },
  {
   "cell_type": "code",
   "execution_count": 28,
   "id": "14dc37ef",
   "metadata": {},
   "outputs": [
    {
     "name": "stdout",
     "output_type": "stream",
     "text": [
      "34\n"
     ]
    },
    {
     "name": "stderr",
     "output_type": "stream",
     "text": [
      "100%|██████████████████████████████████████████████████████████████████████████████████| 34/34 [03:53<00:00,  6.85s/it]\n"
     ]
    }
   ],
   "source": [
    "df, error_list=get_crawl()"
   ]
  },
  {
   "cell_type": "code",
   "execution_count": 35,
   "id": "e0d96480",
   "metadata": {
    "scrolled": true
   },
   "outputs": [],
   "source": [
    "df.to_csv('01_crawling_track.csv', index=False, encoding='cp949')"
   ]
  },
  {
   "cell_type": "code",
   "execution_count": 36,
   "id": "f8df221f",
   "metadata": {},
   "outputs": [],
   "source": [
    "error=pd.DataFrame(error_list)"
   ]
  },
  {
   "cell_type": "code",
   "execution_count": 38,
   "id": "8589406f",
   "metadata": {},
   "outputs": [],
   "source": [
    "error.to_csv('01_crawling_errortrack.csv', index=False, encoding='cp949')"
   ]
  },
  {
   "cell_type": "code",
   "execution_count": null,
   "id": "af1381bb",
   "metadata": {},
   "outputs": [],
   "source": []
  }
 ],
 "metadata": {
  "kernelspec": {
   "display_name": "Python 3 (ipykernel)",
   "language": "python",
   "name": "python3"
  },
  "language_info": {
   "codemirror_mode": {
    "name": "ipython",
    "version": 3
   },
   "file_extension": ".py",
   "mimetype": "text/x-python",
   "name": "python",
   "nbconvert_exporter": "python",
   "pygments_lexer": "ipython3",
   "version": "3.9.12"
  },
  "toc": {
   "base_numbering": 1,
   "nav_menu": {},
   "number_sections": true,
   "sideBar": true,
   "skip_h1_title": false,
   "title_cell": "Table of Contents",
   "title_sidebar": "Contents",
   "toc_cell": false,
   "toc_position": {},
   "toc_section_display": true,
   "toc_window_display": true
  }
 },
 "nbformat": 4,
 "nbformat_minor": 5
}
